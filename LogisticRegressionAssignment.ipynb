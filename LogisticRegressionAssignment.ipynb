{
 "cells": [
  {
   "cell_type": "markdown",
   "metadata": {},
   "source": [
    "# Website Phishing"
   ]
  },
  {
   "cell_type": "markdown",
   "metadata": {},
   "source": [
    "## Group Members:\n",
    "#### Dino Anastasopoulos: 1900661\n",
    "\n",
    "#### Timothy Walters: 1855167\n",
    "\n",
    "#### Razeen Gani: 1842173\n",
    "\n",
    "#### Reece James Peters: 1924514"
   ]
  },
  {
   "cell_type": "markdown",
   "metadata": {},
   "source": [
    "## Library imports"
   ]
  },
  {
   "cell_type": "code",
   "execution_count": 1,
   "metadata": {
    "pycharm": {
     "is_executing": true
    }
   },
   "outputs": [],
   "source": [
    "import numpy as np\n",
    "import pandas as pd\n",
    "\n",
    "import matplotlib.pyplot as plt\n",
    "\n",
    "from sklearn.model_selection import train_test_split"
   ]
  },
  {
   "cell_type": "markdown",
   "metadata": {},
   "source": [
    "## Attributes"
   ]
  },
  {
   "cell_type": "raw",
   "metadata": {},
   "source": [
    "SFH {1,-1,0}\n",
    "popUpWidnow {-1,0,1}\n",
    "SSLfinal_State {1,-1,0}\n",
    "Request_URL {-1,0,1}\n",
    "URL_of_Anchor {-1,0,1}\n",
    "web_traffic {1,0,-1}\n",
    "URL_Length {1,-1,0}\n",
    "age_of_domain {1,-1}\n",
    "having_IP_Address {0,1}\n",
    "Result {0,1,-1}"
   ]
  },
  {
   "cell_type": "markdown",
   "metadata": {},
   "source": [
    "## Create empty design matrix"
   ]
  },
  {
   "cell_type": "code",
   "execution_count": 2,
   "metadata": {
    "pycharm": {
     "is_executing": true
    }
   },
   "outputs": [],
   "source": [
    "designMatrix = pd.DataFrame(columns = [\n",
    "    'SFH',\n",
    "    'PopUpWindow',\n",
    "    'SSL_Final_State',\n",
    "    'Request_URL',\n",
    "    'URL_of_Anchor',\n",
    "    'Web_Traffic',\n",
    "    'URL_Length',\n",
    "    'Age_Of_Domain',\n",
    "    'IP_Address',\n",
    "    'Class',\n",
    "] ) "
   ]
  },
  {
   "cell_type": "markdown",
   "metadata": {},
   "source": [
    "## Import data and populate designMatrix"
   ]
  },
  {
   "cell_type": "code",
   "execution_count": 3,
   "metadata": {
    "pycharm": {
     "is_executing": true
    }
   },
   "outputs": [
    {
     "data": {
      "text/html": [
       "<div>\n",
       "<style scoped>\n",
       "    .dataframe tbody tr th:only-of-type {\n",
       "        vertical-align: middle;\n",
       "    }\n",
       "\n",
       "    .dataframe tbody tr th {\n",
       "        vertical-align: top;\n",
       "    }\n",
       "\n",
       "    .dataframe thead th {\n",
       "        text-align: right;\n",
       "    }\n",
       "</style>\n",
       "<table border=\"1\" class=\"dataframe\">\n",
       "  <thead>\n",
       "    <tr style=\"text-align: right;\">\n",
       "      <th></th>\n",
       "      <th>SFH</th>\n",
       "      <th>PopUpWindow</th>\n",
       "      <th>SSL_Final_State</th>\n",
       "      <th>Request_URL</th>\n",
       "      <th>URL_of_Anchor</th>\n",
       "      <th>Web_Traffic</th>\n",
       "      <th>URL_Length</th>\n",
       "      <th>Age_Of_Domain</th>\n",
       "      <th>IP_Address</th>\n",
       "      <th>Class</th>\n",
       "    </tr>\n",
       "  </thead>\n",
       "  <tbody>\n",
       "    <tr>\n",
       "      <td>0</td>\n",
       "      <td>1</td>\n",
       "      <td>-1</td>\n",
       "      <td>1</td>\n",
       "      <td>-1</td>\n",
       "      <td>-1</td>\n",
       "      <td>1</td>\n",
       "      <td>1</td>\n",
       "      <td>1</td>\n",
       "      <td>0</td>\n",
       "      <td>0</td>\n",
       "    </tr>\n",
       "    <tr>\n",
       "      <td>1</td>\n",
       "      <td>-1</td>\n",
       "      <td>-1</td>\n",
       "      <td>-1</td>\n",
       "      <td>-1</td>\n",
       "      <td>-1</td>\n",
       "      <td>0</td>\n",
       "      <td>1</td>\n",
       "      <td>1</td>\n",
       "      <td>1</td>\n",
       "      <td>1</td>\n",
       "    </tr>\n",
       "    <tr>\n",
       "      <td>2</td>\n",
       "      <td>1</td>\n",
       "      <td>-1</td>\n",
       "      <td>0</td>\n",
       "      <td>0</td>\n",
       "      <td>-1</td>\n",
       "      <td>0</td>\n",
       "      <td>-1</td>\n",
       "      <td>1</td>\n",
       "      <td>0</td>\n",
       "      <td>1</td>\n",
       "    </tr>\n",
       "    <tr>\n",
       "      <td>3</td>\n",
       "      <td>1</td>\n",
       "      <td>0</td>\n",
       "      <td>1</td>\n",
       "      <td>-1</td>\n",
       "      <td>-1</td>\n",
       "      <td>0</td>\n",
       "      <td>1</td>\n",
       "      <td>1</td>\n",
       "      <td>0</td>\n",
       "      <td>0</td>\n",
       "    </tr>\n",
       "    <tr>\n",
       "      <td>4</td>\n",
       "      <td>-1</td>\n",
       "      <td>-1</td>\n",
       "      <td>1</td>\n",
       "      <td>-1</td>\n",
       "      <td>0</td>\n",
       "      <td>0</td>\n",
       "      <td>-1</td>\n",
       "      <td>1</td>\n",
       "      <td>0</td>\n",
       "      <td>1</td>\n",
       "    </tr>\n",
       "    <tr>\n",
       "      <td>...</td>\n",
       "      <td>...</td>\n",
       "      <td>...</td>\n",
       "      <td>...</td>\n",
       "      <td>...</td>\n",
       "      <td>...</td>\n",
       "      <td>...</td>\n",
       "      <td>...</td>\n",
       "      <td>...</td>\n",
       "      <td>...</td>\n",
       "      <td>...</td>\n",
       "    </tr>\n",
       "    <tr>\n",
       "      <td>1348</td>\n",
       "      <td>-1</td>\n",
       "      <td>-1</td>\n",
       "      <td>-1</td>\n",
       "      <td>-1</td>\n",
       "      <td>-1</td>\n",
       "      <td>-1</td>\n",
       "      <td>0</td>\n",
       "      <td>1</td>\n",
       "      <td>0</td>\n",
       "      <td>1</td>\n",
       "    </tr>\n",
       "    <tr>\n",
       "      <td>1349</td>\n",
       "      <td>-1</td>\n",
       "      <td>0</td>\n",
       "      <td>1</td>\n",
       "      <td>0</td>\n",
       "      <td>-1</td>\n",
       "      <td>0</td>\n",
       "      <td>0</td>\n",
       "      <td>1</td>\n",
       "      <td>0</td>\n",
       "      <td>-1</td>\n",
       "    </tr>\n",
       "    <tr>\n",
       "      <td>1350</td>\n",
       "      <td>-1</td>\n",
       "      <td>0</td>\n",
       "      <td>-1</td>\n",
       "      <td>-1</td>\n",
       "      <td>-1</td>\n",
       "      <td>0</td>\n",
       "      <td>-1</td>\n",
       "      <td>-1</td>\n",
       "      <td>0</td>\n",
       "      <td>1</td>\n",
       "    </tr>\n",
       "    <tr>\n",
       "      <td>1351</td>\n",
       "      <td>0</td>\n",
       "      <td>0</td>\n",
       "      <td>1</td>\n",
       "      <td>0</td>\n",
       "      <td>0</td>\n",
       "      <td>0</td>\n",
       "      <td>-1</td>\n",
       "      <td>1</td>\n",
       "      <td>0</td>\n",
       "      <td>1</td>\n",
       "    </tr>\n",
       "    <tr>\n",
       "      <td>1352</td>\n",
       "      <td>1</td>\n",
       "      <td>0</td>\n",
       "      <td>1</td>\n",
       "      <td>1</td>\n",
       "      <td>1</td>\n",
       "      <td>0</td>\n",
       "      <td>-1</td>\n",
       "      <td>-1</td>\n",
       "      <td>0</td>\n",
       "      <td>-1</td>\n",
       "    </tr>\n",
       "  </tbody>\n",
       "</table>\n",
       "<p>1353 rows × 10 columns</p>\n",
       "</div>"
      ],
      "text/plain": [
       "     SFH PopUpWindow SSL_Final_State Request_URL URL_of_Anchor Web_Traffic  \\\n",
       "0      1          -1               1          -1            -1           1   \n",
       "1     -1          -1              -1          -1            -1           0   \n",
       "2      1          -1               0           0            -1           0   \n",
       "3      1           0               1          -1            -1           0   \n",
       "4     -1          -1               1          -1             0           0   \n",
       "...   ..         ...             ...         ...           ...         ...   \n",
       "1348  -1          -1              -1          -1            -1          -1   \n",
       "1349  -1           0               1           0            -1           0   \n",
       "1350  -1           0              -1          -1            -1           0   \n",
       "1351   0           0               1           0             0           0   \n",
       "1352   1           0               1           1             1           0   \n",
       "\n",
       "     URL_Length Age_Of_Domain IP_Address Class  \n",
       "0             1             1          0     0  \n",
       "1             1             1          1     1  \n",
       "2            -1             1          0     1  \n",
       "3             1             1          0     0  \n",
       "4            -1             1          0     1  \n",
       "...         ...           ...        ...   ...  \n",
       "1348          0             1          0     1  \n",
       "1349          0             1          0    -1  \n",
       "1350         -1            -1          0     1  \n",
       "1351         -1             1          0     1  \n",
       "1352         -1            -1          0    -1  \n",
       "\n",
       "[1353 rows x 10 columns]"
      ]
     },
     "execution_count": 3,
     "metadata": {},
     "output_type": "execute_result"
    }
   ],
   "source": [
    "lineNum = 0\n",
    "\n",
    "for line in open(\"Files/data.txt\", \"r\"):\n",
    "    lineSplit = line.strip().split(\",\")\n",
    "    designMatrix.loc[lineNum] = lineSplit   \n",
    "    lineNum+=1\n",
    "    \n",
    "designMatrix"
   ]
  },
  {
   "cell_type": "markdown",
   "metadata": {},
   "source": [
    "## Split into training, validation and testing data"
   ]
  },
  {
   "cell_type": "code",
   "execution_count": 4,
   "metadata": {
    "pycharm": {
     "is_executing": true
    }
   },
   "outputs": [],
   "source": [
    "trainData, testData = train_test_split(designMatrix, test_size = 0.4)\n",
    "\n",
    "testData, valData = train_test_split(testData, test_size = 0.5)"
   ]
  },
  {
   "cell_type": "code",
   "execution_count": 5,
   "metadata": {
    "pycharm": {
     "is_executing": true
    }
   },
   "outputs": [
    {
     "name": "stdout",
     "output_type": "stream",
     "text": [
      "trainData size: 811\n",
      "valData size: 271\n",
      "testData size: 271\n"
     ]
    }
   ],
   "source": [
    "print(\"trainData size: \" + str(len(trainData)))\n",
    "print(\"valData size: \" + str(len(valData)))\n",
    "print(\"testData size: \" + str(len(testData)))"
   ]
  },
  {
   "cell_type": "markdown",
   "metadata": {},
   "source": [
    "## Splitting the train,val and test data by their attributes and classes"
   ]
  },
  {
   "cell_type": "code",
   "execution_count": 6,
   "metadata": {
    "pycharm": {
     "is_executing": true
    }
   },
   "outputs": [
    {
     "name": "stdout",
     "output_type": "stream",
     "text": [
      "     SFH PopUpWindow SSL_Final_State Request_URL URL_of_Anchor Web_Traffic  \\\n",
      "609    1           1               1           1             1           1   \n",
      "719    1           0               1          -1            -1          -1   \n",
      "52     1           1               1          -1             1          -1   \n",
      "17     1           1               1          -1             1          -1   \n",
      "161    1           0              -1           0            -1           1   \n",
      "...   ..         ...             ...         ...           ...         ...   \n",
      "563    1           0               1          -1            -1           1   \n",
      "1143   1           0              -1          -1            -1           1   \n",
      "1340  -1           0              -1          -1             1           1   \n",
      "772    1          -1               1          -1            -1           1   \n",
      "397   -1           0              -1          -1             1           1   \n",
      "\n",
      "     URL_Length Age_Of_Domain IP_Address  \n",
      "609           1            -1          0  \n",
      "719           1             1          0  \n",
      "52            0             1          1  \n",
      "17            1             1          0  \n",
      "161           1            -1          0  \n",
      "...         ...           ...        ...  \n",
      "563           1             1          0  \n",
      "1143          0            -1          0  \n",
      "1340         -1             1          0  \n",
      "772           1            -1          0  \n",
      "397          -1            -1          0  \n",
      "\n",
      "[811 rows x 9 columns]\n"
     ]
    }
   ],
   "source": [
    "train_x = trainData[[ 'SFH',\n",
    "    'PopUpWindow',\n",
    "    'SSL_Final_State',\n",
    "    'Request_URL',\n",
    "    'URL_of_Anchor',\n",
    "    'Web_Traffic',\n",
    "    'URL_Length',\n",
    "    'Age_Of_Domain',\n",
    "    'IP_Address',]]\n",
    "print(train_x)\n",
    "\n",
    "\n",
    "train_y =trainData['Class']\n",
    "OG_train_y=train_y\n",
    "#print(train_y)\n",
    "\n",
    "test_x =  testData[[ 'SFH',\n",
    "    'PopUpWindow',\n",
    "    'SSL_Final_State',\n",
    "    'Request_URL',\n",
    "    'URL_of_Anchor',\n",
    "    'Web_Traffic',\n",
    "    'URL_Length',\n",
    "    'Age_Of_Domain',\n",
    "    'IP_Address',]]\n",
    "\n",
    "test_y =testData['Class']\n",
    "\n",
    "val_x =  valData[[ 'SFH',\n",
    "    'PopUpWindow',\n",
    "    'SSL_Final_State',\n",
    "    'Request_URL',\n",
    "    'URL_of_Anchor',\n",
    "    'Web_Traffic',\n",
    "    'URL_Length',\n",
    "    'Age_Of_Domain',\n",
    "    'IP_Address',]]\n",
    "\n",
    "val_y =valData['Class']"
   ]
  },
  {
   "cell_type": "markdown",
   "metadata": {},
   "source": [
    "## Defining our logistic regression function, learning rate, tolerance and creating default \"true\" thetas"
   ]
  },
  {
   "cell_type": "code",
   "execution_count": 27,
   "metadata": {},
   "outputs": [],
   "source": [
    "def h(x, θ): # Regression function\n",
    "    return 1/(1+np.exp(-np.dot(x, θ))) # logistic regression using the dot product\n",
    "\n",
    "l_rate = 0.00001\n",
    "tol = 0.001"
   ]
  },
  {
   "cell_type": "markdown",
   "metadata": {},
   "source": [
    "## Model 1: Create A Conversion Matrix \n",
    "#### We keep all y-values equal to 1 as 1 and we convert all y-values equal to 0 or -1 to 0"
   ]
  },
  {
   "cell_type": "code",
   "execution_count": 28,
   "metadata": {
    "pycharm": {
     "is_executing": true
    }
   },
   "outputs": [
    {
     "name": "stdout",
     "output_type": "stream",
     "text": [
      "Before: Element -1 exists in Dataframe\n",
      "After: No instances of -1 in dataset\n"
     ]
    }
   ],
   "source": [
    "#holder = train_y \n",
    "holder = val_y \n",
    "#holder = test_y #For testing data\n",
    "\n",
    "Con1 = np.copy(holder)\n",
    "Con1 = Con1.reshape(holder.shape[0])\n",
    "\n",
    "#print(Con1.shape)\n",
    "#print(Con1) \n",
    "#print(Con1[87])\n",
    "\n",
    "#Check if there are instances of -1 in dataset\n",
    "if \"-1\" in Con1:\n",
    "    print('Before: Element -1 exists in Dataframe')\n",
    "else:\n",
    "    print('Before: No instances of -1 in dataset')\n",
    "\n",
    "#Change all 0's and -1's to 0's, and all 1's remain unchanged\n",
    "for x in range(Con1.shape[0]):    \n",
    "    if Con1[x] == \"-1\" or Con1[x] == \"0\":\n",
    "        Con1[x] = \"0\"\n",
    "\n",
    "#Check that theres no instances of -1 in dataset\n",
    "if \"-1\" in Con1:\n",
    "    print('After: Element -1 exists in Dataframe')\n",
    "else:\n",
    "    print('After: No instances of -1 in dataset')\n",
    "    \n",
    "#print(Con1) \n",
    "#print(Con1[87])"
   ]
  },
  {
   "cell_type": "markdown",
   "metadata": {},
   "source": [
    "## Logistic Regression For Model 1"
   ]
  },
  {
   "cell_type": "code",
   "execution_count": 29,
   "metadata": {
    "pycharm": {
     "is_executing": true
    },
    "scrolled": true
   },
   "outputs": [
    {
     "name": "stdout",
     "output_type": "stream",
     "text": [
      "[1. 1. 1. 1. 1. 1. 1. 1. 1.]\n",
      "[0. 0. 0. 0. 0. 0. 0. 0. 0.]\n",
      "(9,)\n",
      "(9,)\n",
      "[1.]\n",
      "(271, 1)\n",
      "[-1. -1. -1. -1.  1.  0.  0.  1.  0.]\n",
      "(271, 9)\n",
      "1414\n",
      "Model Parameters:  [-0.62202045  0.24042536 -0.16520533  0.48708354  0.07667103  1.28155554\n",
      "  0.48453797  0.28415741  0.84362895]\n"
     ]
    }
   ],
   "source": [
    "#thetas1= np.ones(train_x.shape[1]) # initialize our parameters\n",
    "#thetas1= np.ones(test_x.shape[1]) # initialize our parameters for test data\n",
    "thetas1= np.ones(val_x.shape[1]) # initialize our parameters for val data\n",
    "#thetas_old = np.zeros(train_x.shape[1]) #initialises \"old parameters which will go in our regression function\"\n",
    "#thetas_old = np.zeros(test_x.shape[1]) #initialises \"old parameters which will go in our regression function\" for test data\n",
    "thetas_old = np.zeros(val_x.shape[1]) #initialises \"old parameters which will go in our regression function\" for validation data\n",
    "\n",
    "print(thetas1)\n",
    "print(thetas_old)\n",
    "print(thetas1.shape)\n",
    "print(thetas_old.shape)\n",
    "\n",
    "model1_y = np.array(Con1,dtype = np.float64)\n",
    "#model1_y = model1_y.reshape(811,1)\n",
    "model1_y = model1_y.reshape(271,1)\n",
    "print(model1_y[0])\n",
    "print(model1_y.shape)\n",
    "#X = np.array(train_x, dtype = np.float64)  \n",
    "#X = np.array(test_x, dtype = np.float64)  \n",
    "X = np.array(val_x, dtype = np.float64)  \n",
    "print(X[0])\n",
    "print(X.shape)\n",
    "\n",
    "error1 = []\n",
    "timeline1 = []\n",
    "iterations1 = 0\n",
    "\n",
    "while np.linalg.norm(abs(thetas1 - thetas_old)) > tol:\n",
    "    thetas_old = thetas1\n",
    "    \n",
    "    for i in range(X.shape[0]): \n",
    "        thetas1 = thetas1 - l_rate*( (h(X[i], thetas1) - model1_y[i]) * X[i] ) \n",
    "\n",
    "     \n",
    "    if iterations1%50 == 0:                              \n",
    "        j = 0.5 * pow(model1_y[i] - h(X[i], thetas1), 2) \n",
    "        error1.append(j)\n",
    "        timeline1.append(iterations1)   \n",
    "        #print(\"Error:\" + str(error))\n",
    "        #print(\"Timeline: \" + str(timeline))\n",
    "        #print()       \n",
    "\n",
    "    iterations1 = iterations1+1   \n",
    "        \n",
    "print(iterations1)        \n",
    "print(\"Model Parameters: \", thetas1)"
   ]
  },
  {
   "cell_type": "markdown",
   "metadata": {},
   "source": [
    "### Plot Model 1 error"
   ]
  },
  {
   "cell_type": "code",
   "execution_count": 30,
   "metadata": {},
   "outputs": [
    {
     "data": {
      "text/plain": [
       "[<matplotlib.lines.Line2D at 0x229048566c8>]"
      ]
     },
     "execution_count": 30,
     "metadata": {},
     "output_type": "execute_result"
    },
    {
     "data": {
      "image/png": "[encoded data removed]",
      "text/plain": [
       "<Figure size 432x288 with 1 Axes>"
      ]
     },
     "metadata": {
      "needs_background": "light"
     },
     "output_type": "display_data"
    }
   ],
   "source": [
    "size = len(error1)\n",
    "\n",
    "x1_time = np.zeros(size)\n",
    "y1_error= np.zeros(size) \n",
    "\n",
    "for i in range(0, size):\n",
    "    x1_time[i] = timeline1[i]\n",
    "    y1_error[i] = error1[i]\n",
    "\n",
    "plt.axhline(0,color='black') # plot horizontal axis at 0\n",
    "plt.axvline(0,color='black') # plot vertical axis at 0\n",
    "plt.xlabel('Timeline')\n",
    "plt.ylabel('Model 1 Error')\n",
    "plt.plot(x1_time, y1_error, color=\"red\")"
   ]
  },
  {
   "cell_type": "markdown",
   "metadata": {},
   "source": [
    "## Model 2: Create A Conversion Matrix\n",
    "\n",
    "##### We keep all y-values equal to 0 as 1 and we convert all y-values equal to 1 or -1 to 0"
   ]
  },
  {
   "cell_type": "code",
   "execution_count": 31,
   "metadata": {
    "pycharm": {
     "is_executing": true
    }
   },
   "outputs": [
    {
     "name": "stdout",
     "output_type": "stream",
     "text": [
      "Before: Element -1 exists in Dataframe\n",
      "After: No instances of -1 in dataset\n"
     ]
    }
   ],
   "source": [
    "#holder = train_y\n",
    "#holder = test_y \n",
    "holder = val_y \n",
    "Con2 = np.copy(holder)\n",
    "Con2 = Con2.reshape(holder.shape[0])\n",
    "\n",
    "#print(Con2.shape)\n",
    "#print(Con2)\n",
    "#print(Con2[19])\n",
    "#print(Con2[33])\n",
    "\n",
    "#Check if there are instances of -1 in dataset\n",
    "if \"-1\" in Con2:\n",
    "    print('Before: Element -1 exists in Dataframe')\n",
    "else:\n",
    "    print('Before: No instances of -1 in dataset')\n",
    "    \n",
    "#Change all 0's to 1's, and change all 1's and -1's to 0's\n",
    "for x in range(Con2.shape[0]):    \n",
    "    if Con2[x] == \"0\":\n",
    "        Con2[x] = 1\n",
    "    elif Con2[x] == \"1\" or Con2[x] == \"-1\":\n",
    "        Con2[x] = 0         \n",
    "\n",
    "#Check that theres no instances of -1 in dataset\n",
    "if \"-1\" in Con2:\n",
    "    print('After: Element -1 exists in Dataframe')\n",
    "else:\n",
    "    print('After: No instances of -1 in dataset')\n",
    "                \n",
    "#print(Con2)\n",
    "#print(Con2[19])\n",
    "#print(Con2[33])"
   ]
  },
  {
   "cell_type": "markdown",
   "metadata": {},
   "source": [
    "## Logistic Regression For Model 2"
   ]
  },
  {
   "cell_type": "code",
   "execution_count": 32,
   "metadata": {
    "pycharm": {
     "is_executing": true
    }
   },
   "outputs": [
    {
     "name": "stdout",
     "output_type": "stream",
     "text": [
      "[1. 1. 1. 1. 1. 1. 1. 1. 1.]\n",
      "[0. 0. 0. 0. 0. 0. 0. 0. 0.]\n",
      "(9,)\n",
      "(9,)\n",
      "[0.]\n",
      "(271, 1)\n",
      "[-1. -1. -1. -1.  1.  0.  0.  1.  0.]\n",
      "(271, 9)\n",
      "1132\n",
      "Model Parameters:  [-0.01171621  0.89985244  0.22936681  0.78468451  0.40636388  1.0610715\n",
      "  0.74197717  0.42184858  0.79053948]\n"
     ]
    }
   ],
   "source": [
    "#thetas2= np.ones(train_x.shape[1]) # initialize our parameters\n",
    "#thetas2= np.ones(test_x.shape[1]) # initialize our parameters\n",
    "thetas2= np.ones(val_x.shape[1]) # initialize our parameters\n",
    "\n",
    "#thetas_old = np.zeros(train_x.shape[1]) #initialises \"old parameters which will go in our regression function\"\n",
    "#thetas_old = np.zeros(test_x.shape[1]) #initialises \"old parameters which will go in our regression function\"\n",
    "thetas_old = np.zeros(val_x.shape[1]) #initialises \"old parameters which will go in our regression function\"\n",
    "\n",
    "print(thetas2)\n",
    "print(thetas_old)\n",
    "print(thetas2.shape)\n",
    "print(thetas_old.shape)\n",
    "\n",
    "model2_y = np.array(Con2,dtype = np.float64)\n",
    "#model2_y = model2_y.reshape(811,1)\n",
    "model2_y = model2_y.reshape(271,1)\n",
    "print(model2_y[0])\n",
    "print(model2_y.shape)\n",
    "#X2 = np.array(train_x, dtype = np.float64)  \n",
    "#X2 = np.array(test_x, dtype = np.float64)  \n",
    "X2 = np.array(val_x, dtype = np.float64)  \n",
    "print(X2[0])\n",
    "print(X2.shape)\n",
    "\n",
    "error2 = []\n",
    "timeline2 = []\n",
    "iterations2 = 0\n",
    "\n",
    "while np.linalg.norm(abs(thetas2 - thetas_old)) > tol:\n",
    "    thetas_old = thetas2\n",
    "    for i in range(X2.shape[0]): \n",
    "        thetas2 = thetas2 - l_rate*( (h(X2[i], thetas2) - model2_y[i]) * X2[i] )\n",
    "        \n",
    "    if iterations2%50 == 0:                              \n",
    "        j = 0.5 * pow(model2_y[i] - h(X2[i], thetas2), 2) \n",
    "        error2.append(j)\n",
    "        timeline2.append(iterations2)   \n",
    "        #print(\"Error:\" + str(error2))\n",
    "        #print(\"Timeline: \" + str(timeline2))\n",
    "        #print()       \n",
    "\n",
    "    iterations2 = iterations2+1   \n",
    "        \n",
    "print(iterations2)        \n",
    "print(\"Model Parameters: \", thetas2)"
   ]
  },
  {
   "cell_type": "markdown",
   "metadata": {
    "pycharm": {
     "name": "#%% md\n"
    }
   },
   "source": [
    "### Plot Model 2 error"
   ]
  },
  {
   "cell_type": "code",
   "execution_count": 33,
   "metadata": {},
   "outputs": [
    {
     "data": {
      "text/plain": [
       "[<matplotlib.lines.Line2D at 0x229048c5fc8>]"
      ]
     },
     "execution_count": 33,
     "metadata": {},
     "output_type": "execute_result"
    },
    {
     "data": {
      "image/png": "[encoded data removed]",
      "text/plain": [
       "<Figure size 432x288 with 1 Axes>"
      ]
     },
     "metadata": {
      "needs_background": "light"
     },
     "output_type": "display_data"
    }
   ],
   "source": [
    "size = len(error2)\n",
    "\n",
    "x2_time = np.zeros(size)\n",
    "y2_error= np.zeros(size) \n",
    "\n",
    "for i in range(0, size):\n",
    "    x2_time[i] = timeline2[i]\n",
    "    y2_error[i] = error2[i]\n",
    "\n",
    "plt.axhline(0,color='black') # plot horizontal axis at 0\n",
    "plt.axvline(0,color='black') # plot vertical axis at 0\n",
    "plt.xlabel('Timeline')\n",
    "plt.ylabel('Model 2 Error')\n",
    "plt.plot(x2_time, y2_error, color=\"green\")"
   ]
  },
  {
   "cell_type": "markdown",
   "metadata": {
    "pycharm": {
     "name": "#%% md\n"
    }
   },
   "source": [
    "## Model 3: Create A Conversion Matrix\n",
    "\n",
    "##### We keep all y-values equal to -1 as 1 and we convert all y-values equal to 1 or 0 to 0"
   ]
  },
  {
   "cell_type": "code",
   "execution_count": 34,
   "metadata": {
    "pycharm": {
     "is_executing": true
    }
   },
   "outputs": [
    {
     "name": "stdout",
     "output_type": "stream",
     "text": [
      "Before: Element -1 exists in Dataframe\n",
      "After: No instances of -1 in dataset\n"
     ]
    }
   ],
   "source": [
    "#holder = train_y \n",
    "#holder = test_y \n",
    "holder = val_y \n",
    "Con3 = np.copy(holder)\n",
    "Con3 = Con3.reshape(holder.shape[0])\n",
    "\n",
    "#print(Con3.shape)\n",
    "#print(Con3)\n",
    "#print(Con3[1])\n",
    "#print(Con3[2])\n",
    "\n",
    "#Check if there are instances of -1 in dataset\n",
    "if \"-1\" in Con3:\n",
    "    print('Before: Element -1 exists in Dataframe')\n",
    "else:\n",
    "    print('Before: No instances of -1 in dataset')\n",
    "    print(Con3)\n",
    "    \n",
    "#Change all -1's to 1's, and change all 1's and 0's to 0\n",
    "for x in range(Con3.shape[0]):    \n",
    "    if Con3[x] == \"-1\":\n",
    "        Con3[x] = 1\n",
    "    elif Con3[x] == \"1\" or Con3[x] == \"0\":\n",
    "        Con3[x] = 0\n",
    "\n",
    "#Check that theres no instances of -1 in dataset\n",
    "if \"-1\" in Con3:\n",
    "    print('After: Element -1 exists in Dataframe')\n",
    "else:\n",
    "    print('After: No instances of -1 in dataset')\n",
    "        \n",
    "#print(Con3)\n",
    "#print(Con3[1])\n",
    "#print(Con3[2])"
   ]
  },
  {
   "cell_type": "code",
   "execution_count": 36,
   "metadata": {
    "pycharm": {
     "is_executing": true
    }
   },
   "outputs": [
    {
     "name": "stdout",
     "output_type": "stream",
     "text": [
      "[1. 1. 1. 1. 1. 1. 1. 1. 1.]\n",
      "[0. 0. 0. 0. 0. 0. 0. 0. 0.]\n",
      "(9,)\n",
      "(9,)\n",
      "[0.]\n",
      "(271, 1)\n",
      "[-1. -1. -1. -1.  1.  0.  0.  1.  0.]\n",
      "(271, 9)\n",
      "1\n",
      "Model Parameters:  [1.00012681 1.00011827 1.00007058 0.99994956 0.99992971 0.99987408\n",
      " 0.99978617 0.99998503 0.99994865]\n"
     ]
    }
   ],
   "source": [
    "#thetas3= np.ones(train_x.shape[1]) # initialize our parameters\n",
    "#thetas3= np.ones(test_x.shape[1]) # initialize our parameters\n",
    "thetas3= np.ones(val_x.shape[1]) # initialize our parameters\n",
    "\n",
    "#thetas_old = np.zeros(train_x.shape[1]) #initialises \"old parameters which will go in our regression function\"\n",
    "#thetas_old = np.zeros(test_x.shape[1]) #initialises \"old parameters which will go in our regression function\"\n",
    "thetas_old = np.zeros(val_x.shape[1]) #initialises \"old parameters which will go in our regression function\"\n",
    "\n",
    "print(thetas3)\n",
    "print(thetas_old)\n",
    "print(thetas3.shape)\n",
    "print(thetas_old.shape)\n",
    "\n",
    "model3_y = np.array(Con3,dtype = np.float64)\n",
    "#model3_y = model3_y.reshape(811,1)\n",
    "model3_y = model3_y.reshape(271,1)\n",
    "print(model3_y[0])\n",
    "print(model3_y.shape)\n",
    "#X3 = np.array(train_x, dtype = np.float64)  \n",
    "#X3 = np.array(test_x, dtype = np.float64)  \n",
    "X3 = np.array(val_x, dtype = np.float64)  \n",
    "print(X3[0])\n",
    "print(X3.shape)\n",
    "\n",
    "error3 = []\n",
    "timeline3 = []\n",
    "iterations3 = 0\n",
    "\n",
    "while np.linalg.norm(abs(thetas3 - thetas_old)) > 0.0005:\n",
    "    thetas_old = thetas3\n",
    "    for i in range(X3.shape[0]): \n",
    "        thetas3 = thetas3 - l_rate*( (h(X3[i], thetas3) - model3_y[i]) * X3[i] )\n",
    "  \n",
    "    if iterations3%20 == 0:                              \n",
    "        j = 0.5 * pow(model3_y[i] - h(X3[i], thetas3), 2) \n",
    "        error3.append(j)\n",
    "        timeline3.append(iterations3)   \n",
    "        #print(\"Error:\" + str(error3))\n",
    "        #print(\"Timeline: \" + str(timeline3))\n",
    "        #print()       \n",
    "\n",
    "    iterations3 = iterations3 + 1   \n",
    "        \n",
    "print(iterations3)        \n",
    "print(\"Model Parameters: \", thetas3) "
   ]
  },
  {
   "cell_type": "markdown",
   "metadata": {},
   "source": [
    "### Plot Model 3 error"
   ]
  },
  {
   "cell_type": "code",
   "execution_count": 37,
   "metadata": {
    "pycharm": {
     "name": "#%%\n"
    }
   },
   "outputs": [
    {
     "data": {
      "text/plain": [
       "[<matplotlib.lines.Line2D at 0x22904939e08>]"
      ]
     },
     "execution_count": 37,
     "metadata": {},
     "output_type": "execute_result"
    },
    {
     "data": {
      "image/png": "[encoded data removed]",
      "text/plain": [
       "<Figure size 432x288 with 1 Axes>"
      ]
     },
     "metadata": {
      "needs_background": "light"
     },
     "output_type": "display_data"
    }
   ],
   "source": [
    "size = len(error3)\n",
    "\n",
    "x3_time = np.zeros(size)\n",
    "y3_error= np.zeros(size) \n",
    "\n",
    "for i in range(0, size):\n",
    "    x3_time[i] = timeline3[i]\n",
    "    y3_error[i] = error3[i]\n",
    "\n",
    "plt.axhline(0,color='black') # plot horizontal axis at 0\n",
    "plt.axvline(0,color='black') # plot vertical axis at 0\n",
    "plt.xlabel('Timeline')\n",
    "plt.ylabel('Model 3 Error')\n",
    "plt.plot(x3_time, y3_error, color=\"blue\")"
   ]
  },
  {
   "cell_type": "code",
   "execution_count": 38,
   "metadata": {
    "pycharm": {
     "name": "#%%\n"
    }
   },
   "outputs": [
    {
     "name": "stdout",
     "output_type": "stream",
     "text": [
      "Predicted Paramters For Model 1  [-0.62202045  0.24042536 -0.16520533  0.48708354  0.07667103  1.28155554\n",
      "  0.48453797  0.28415741  0.84362895]\n",
      "Predicted Paramters For Model 2  [-0.01171621  0.89985244  0.22936681  0.78468451  0.40636388  1.0610715\n",
      "  0.74197717  0.42184858  0.79053948]\n",
      "Predicted Paramters For Model 3  [1.00012681 1.00011827 1.00007058 0.99994956 0.99992971 0.99987408\n",
      " 0.99978617 0.99998503 0.99994865]\n"
     ]
    }
   ],
   "source": [
    "#Prints the predicted parameters for each model\n",
    "\n",
    "print('Predicted Paramters For Model 1 ', thetas1)\n",
    "print('Predicted Paramters For Model 2 ', thetas2)\n",
    "print('Predicted Paramters For Model 3 ', thetas3)"
   ]
  },
  {
   "cell_type": "code",
   "execution_count": null,
   "metadata": {
    "pycharm": {
     "name": "#%%\n"
    }
   },
   "outputs": [],
   "source": []
  },
  {
   "cell_type": "code",
   "execution_count": null,
   "metadata": {
    "pycharm": {
     "name": "#%%\n"
    }
   },
   "outputs": [],
   "source": []
  },
  {
   "cell_type": "markdown",
   "metadata": {},
   "source": [
    "#Plugs in thetas and training data to softmax function (Although not too sure about these values)\n",
    "\n",
    "probability_m1 = f(X,thetas1)\n",
    "probability_m2 = f(X2,thetas2)\n",
    "probability_m3 = f(X3,thetas3)\n",
    "\n",
    "print(probability_m1)\n",
    "print(probability_m2)\n",
    "print(probability_m3)"
   ]
  },
  {
   "cell_type": "code",
   "execution_count": 39,
   "metadata": {},
   "outputs": [
    {
     "data": {
      "text/plain": [
       "[<matplotlib.lines.Line2D at 0x229049a9288>]"
      ]
     },
     "execution_count": 39,
     "metadata": {},
     "output_type": "execute_result"
    },
    {
     "data": {
      "image/png": "[encoded data removed]",
      "text/plain": [
       "<Figure size 432x288 with 1 Axes>"
      ]
     },
     "metadata": {
      "needs_background": "light"
     },
     "output_type": "display_data"
    }
   ],
   "source": [
    "size = len(error3)\n",
    "\n",
    "x3_time = np.zeros(size)\n",
    "y3_error= np.zeros(size) \n",
    "\n",
    "for i in range(0, size):\n",
    "    x3_time[i] = timeline3[i]\n",
    "    y3_error[i] = error3[i]\n",
    "\n",
    "plt.axhline(0,color='black') # plot horizontal axis at 0\n",
    "plt.axvline(0,color='black') # plot vertical axis at 0\n",
    "plt.xlabel('Timeline')\n",
    "plt.ylabel('Model 3 Error')\n",
    "plt.plot(x3_time, y3_error, color=\"blue\")"
   ]
  },
  {
   "cell_type": "code",
   "execution_count": 40,
   "metadata": {
    "pycharm": {
     "is_executing": true
    }
   },
   "outputs": [
    {
     "name": "stdout",
     "output_type": "stream",
     "text": [
      "Predicted Paramters For Model 1  [-0.62202045  0.24042536 -0.16520533  0.48708354  0.07667103  1.28155554\n",
      "  0.48453797  0.28415741  0.84362895]\n",
      "Predicted Paramters For Model 2  [-0.01171621  0.89985244  0.22936681  0.78468451  0.40636388  1.0610715\n",
      "  0.74197717  0.42184858  0.79053948]\n",
      "Predicted Paramters For Model 3  [1.00012681 1.00011827 1.00007058 0.99994956 0.99992971 0.99987408\n",
      " 0.99978617 0.99998503 0.99994865]\n"
     ]
    }
   ],
   "source": [
    "#Prints the predicted parameters for each model\n",
    "\n",
    "print('Predicted Paramters For Model 1 ', thetas1)\n",
    "print('Predicted Paramters For Model 2 ', thetas2)\n",
    "print('Predicted Paramters For Model 3 ', thetas3)"
   ]
  },
  {
   "cell_type": "code",
   "execution_count": 41,
   "metadata": {
    "pycharm": {
     "is_executing": true
    }
   },
   "outputs": [],
   "source": [
    "#Defines Softmax function\n",
    "\n",
    "def f(X): # softmax function\n",
    "\n",
    "    return np.exp(X) / np.sum(np.exp(X))"
   ]
  },
  {
   "cell_type": "markdown",
   "metadata": {
    "pycharm": {
     "is_executing": true
    }
   },
   "source": [
    "#Plugs in thetas and training data to softmax function (Although not too sure about these values)\n",
    "\n",
    "#for x in range(len(X)):\n",
    "    #predictedOut\n",
    "print(X[1])    \n",
    "y_mat = []\n",
    "y_mat.append(1/np.dot(thetas1,X[796])) \n",
    "y_mat.append(1/np.dot(thetas2,X[796]))\n",
    "y_mat.append(1/np.dot(thetas3,X[796])) \n",
    "\n",
    "print(train_y[796])\n",
    "\n",
    "print(y_mat)\n",
    "probs = f(y_mat)\n",
    "print(probs)\n",
    "print(max(probs))\n",
    "#print(sum(probs))"
   ]
  },
  {
   "cell_type": "code",
   "execution_count": 42,
   "metadata": {},
   "outputs": [
    {
     "name": "stdout",
     "output_type": "stream",
     "text": [
      "[0.76149969 0.17084716 0.06765315]\n",
      "0\n",
      "[0.11318126 0.26059114 0.6262276 ]\n",
      "2\n",
      "[0.85433303 0.12809058 0.01757639]\n",
      "0\n",
      "[0.05255096 0.09561854 0.85183051]\n",
      "2\n",
      "[0.77076447 0.18776824 0.04146729]\n",
      "0\n",
      "[0.87561853 0.11965171 0.00472976]\n",
      "0\n",
      "[0.88044708 0.10588593 0.01366699]\n",
      "0\n",
      "[0.05772946 0.12837824 0.8138923 ]\n",
      "2\n",
      "[0.37676342 0.43648186 0.18675473]\n",
      "1\n",
      "[0.00852917 0.04825009 0.94322074]\n",
      "2\n",
      "[0.01416013 0.0995495  0.88629038]\n",
      "2\n",
      "[0.00412489 0.03132264 0.96455247]\n",
      "2\n",
      "[0.00321606 0.03650481 0.96027913]\n",
      "2\n",
      "[0.00516935 0.03782964 0.95700101]\n",
      "2\n",
      "[0.0468788  0.11123644 0.84188476]\n",
      "2\n",
      "[0.00682347 0.04005403 0.9531225 ]\n",
      "2\n",
      "[0.12845818 0.25590437 0.61563746]\n",
      "2\n",
      "[0.83939046 0.14558466 0.01502488]\n",
      "0\n",
      "[0.04694557 0.13194004 0.82111439]\n",
      "2\n",
      "[0.02575387 0.11478536 0.85946077]\n",
      "2\n",
      "[0.02416427 0.06274322 0.9130925 ]\n",
      "2\n",
      "[0.69029159 0.25888838 0.05082002]\n",
      "0\n",
      "[0.1722715  0.28327051 0.54445799]\n",
      "2\n",
      "[0.03631704 0.15257156 0.8111114 ]\n",
      "2\n",
      "[0.45876014 0.30514703 0.23609283]\n",
      "0\n",
      "[0.04725519 0.07623645 0.87650837]\n",
      "2\n",
      "[0.5578495  0.23151044 0.21064006]\n",
      "0\n",
      "[0.49248954 0.22594647 0.28156399]\n",
      "0\n",
      "[0.40539884 0.24996269 0.34463847]\n",
      "0\n",
      "[0.00845899 0.06061965 0.93092136]\n",
      "2\n",
      "[0.08271706 0.11634619 0.80093675]\n",
      "2\n",
      "[0.00412489 0.03132264 0.96455247]\n",
      "2\n",
      "[0.84919175 0.12207417 0.02873409]\n",
      "0\n",
      "[0.05358095 0.13665041 0.80976864]\n",
      "2\n",
      "[0.64834901 0.26907935 0.08257164]\n",
      "0\n",
      "[0.85433303 0.12809058 0.01757639]\n",
      "0\n",
      "[0.04732873 0.15321133 0.79945994]\n",
      "2\n",
      "[0.01796636 0.05256131 0.92947233]\n",
      "2\n",
      "[0.81652512 0.1667772  0.01669768]\n",
      "0\n",
      "[0.04147619 0.1581177  0.80040611]\n",
      "2\n",
      "[0.59548154 0.30153217 0.10298629]\n",
      "0\n",
      "[0.0066362 0.0517855 0.9415783]\n",
      "2\n",
      "[0.02009252 0.0994726  0.88043488]\n",
      "2\n",
      "[0.01123268 0.04703661 0.9417307 ]\n",
      "2\n",
      "[0.67813928 0.26504877 0.05681195]\n",
      "0\n",
      "[0.93179779 0.06584762 0.00235459]\n",
      "0\n",
      "[0.24053158 0.23169178 0.52777664]\n",
      "2\n",
      "[0.89670402 0.0947176  0.00857838]\n",
      "0\n",
      "[0.68235547 0.20526632 0.11237821]\n",
      "0\n",
      "[0.01253126 0.0659488  0.92151994]\n",
      "2\n",
      "[0.0066362 0.0517855 0.9415783]\n",
      "2\n",
      "[0.09476066 0.16298669 0.74225265]\n",
      "2\n",
      "[0.11728748 0.26637857 0.61633395]\n",
      "2\n",
      "[0.3544317  0.25473485 0.39083345]\n",
      "2\n",
      "[0.09402209 0.13665527 0.76932264]\n",
      "2\n",
      "[0.86758271 0.12070006 0.01171724]\n",
      "0\n",
      "[0.64154451 0.18278773 0.17566775]\n",
      "0\n",
      "[0.714877   0.19638547 0.08873753]\n",
      "0\n",
      "[0.07341743 0.1595059  0.76707667]\n",
      "2\n",
      "[0.51425402 0.33685847 0.14888751]\n",
      "0\n",
      "[0.00312126 0.02954811 0.96733063]\n",
      "2\n",
      "[0.85433303 0.12809058 0.01757639]\n",
      "0\n",
      "[0.46929073 0.2515526  0.27915668]\n",
      "0\n",
      "[0.83229092 0.13808824 0.02962084]\n",
      "0\n",
      "[0.56669622 0.22138324 0.21192054]\n",
      "0\n",
      "[0.08694704 0.24813879 0.66491417]\n",
      "2\n",
      "[0.00146673 0.02684942 0.97168386]\n",
      "2\n",
      "[0.55381276 0.22573635 0.22045089]\n",
      "0\n",
      "[0.94684658 0.05172418 0.00142923]\n",
      "0\n",
      "[0.8492456  0.1446746  0.00607981]\n",
      "0\n",
      "[0.00852251 0.04449132 0.94698617]\n",
      "2\n",
      "[0.22373878 0.2999978  0.47626341]\n",
      "2\n",
      "[0.01400347 0.05651177 0.92948475]\n",
      "2\n",
      "[0.68092544 0.25237712 0.06669743]\n",
      "0\n",
      "[0.05848177 0.17253714 0.76898109]\n",
      "2\n",
      "[0.01400347 0.05651177 0.92948475]\n",
      "2\n",
      "[0.09410898 0.1640037  0.74188732]\n",
      "2\n",
      "[0.85535851 0.13665154 0.00798995]\n",
      "0\n",
      "[0.03272527 0.08347053 0.88380421]\n",
      "2\n",
      "[0.78386847 0.19813567 0.01799586]\n",
      "0\n",
      "[0.00544887 0.03318922 0.9613619 ]\n",
      "2\n",
      "[0.64834901 0.26907935 0.08257164]\n",
      "0\n",
      "[0.04269318 0.0873481  0.86995873]\n",
      "2\n",
      "[0.79723798 0.17887267 0.02388936]\n",
      "0\n",
      "[0.84633813 0.13166894 0.02199293]\n",
      "0\n",
      "[0.13239765 0.2466064  0.62099595]\n",
      "2\n",
      "[0.85210457 0.12789919 0.01999624]\n",
      "0\n",
      "[0.17269923 0.15780229 0.66949848]\n",
      "2\n",
      "[0.30229141 0.31332726 0.38438134]\n",
      "2\n",
      "[0.023355   0.06942794 0.90721706]\n",
      "2\n",
      "[0.45112794 0.31229884 0.23657321]\n",
      "0\n",
      "[0.16420171 0.337003   0.49879528]\n",
      "2\n",
      "[0.9292954  0.06836192 0.00234268]\n",
      "0\n",
      "[0.94684658 0.05172418 0.00142923]\n",
      "0\n",
      "[0.03531862 0.15869336 0.80598801]\n",
      "2\n",
      "[0.5578495  0.23151044 0.21064006]\n",
      "0\n",
      "[0.87561853 0.11965171 0.00472976]\n",
      "0\n",
      "[0.00445646 0.03092641 0.96461713]\n",
      "2\n",
      "[0.13622821 0.22945101 0.63432078]\n",
      "2\n",
      "[0.3574434  0.24381177 0.39874483]\n",
      "2\n",
      "[0.00852251 0.04449132 0.94698617]\n",
      "2\n",
      "[0.04326957 0.1034881  0.85324233]\n",
      "2\n",
      "[0.84633813 0.13166894 0.02199293]\n",
      "0\n",
      "[0.04995037 0.06707278 0.88297686]\n",
      "2\n",
      "[0.45112794 0.31229884 0.23657321]\n",
      "0\n",
      "[0.12364666 0.13356843 0.7427849 ]\n",
      "2\n",
      "[0.62818502 0.29026388 0.0815511 ]\n",
      "0\n",
      "[0.01400347 0.05651177 0.92948475]\n",
      "2\n",
      "[0.0228472 0.0712741 0.9058787]\n",
      "2\n",
      "[0.21260407 0.28041711 0.50697881]\n",
      "2\n",
      "[0.05245174 0.09934898 0.84819928]\n",
      "2\n",
      "[0.0705396  0.16727058 0.76218982]\n",
      "2\n",
      "[0.01841006 0.05959411 0.92199583]\n",
      "2\n",
      "[0.69561654 0.21716697 0.08721648]\n",
      "0\n",
      "[0.88897188 0.10019506 0.01083306]\n",
      "0\n",
      "[0.39870056 0.31963138 0.28166806]\n",
      "0\n",
      "[0.11274626 0.18190023 0.70535351]\n",
      "2\n",
      "[0.04347327 0.17212498 0.78440175]\n",
      "2\n",
      "[0.16037533 0.21110191 0.62852275]\n",
      "2\n",
      "[0.0206124 0.0815472 0.8978404]\n",
      "2\n",
      "[0.12066525 0.14240932 0.73692543]\n",
      "2\n",
      "[0.04297508 0.10414132 0.85288359]\n",
      "2\n",
      "[0.01006582 0.0549681  0.93496609]\n",
      "2\n",
      "[0.03626455 0.11848554 0.84524991]\n",
      "2\n",
      "[0.52792161 0.26325517 0.20882322]\n",
      "0\n",
      "[0.46104892 0.24751697 0.29143411]\n",
      "0\n",
      "[0.00852917 0.04825009 0.94322074]\n",
      "2\n",
      "[0.3071968  0.22346328 0.46933992]\n",
      "2\n",
      "[0.00531034 0.04299918 0.95169048]\n",
      "2\n",
      "[0.00852251 0.04449132 0.94698617]\n",
      "2\n",
      "[0.07786179 0.11742762 0.80471059]\n",
      "2\n",
      "[0.01418692 0.09300496 0.89280812]\n",
      "2\n",
      "[0.2676246  0.26054149 0.47183391]\n",
      "2\n",
      "[0.43335862 0.24103699 0.32560438]\n",
      "0\n",
      "[0.21260407 0.28041711 0.50697881]\n",
      "2\n",
      "[0.00209593 0.02812563 0.96977844]\n",
      "2\n",
      "[0.39206887 0.23268872 0.3752424 ]\n",
      "0\n",
      "[0.00852251 0.04449132 0.94698617]\n",
      "2\n",
      "[0.00312126 0.02954811 0.96733063]\n",
      "2\n",
      "[0.78386847 0.19813567 0.01799586]\n",
      "0\n",
      "[0.89053657 0.09958015 0.00988328]\n",
      "0\n",
      "[0.0254466  0.09701992 0.87753348]\n",
      "2\n",
      "[0.05399442 0.11088617 0.83511941]\n",
      "2\n",
      "[0.62762756 0.23537699 0.13699545]\n",
      "0\n",
      "[0.80648486 0.17438246 0.01913268]\n",
      "0\n",
      "[0.45627656 0.40862149 0.13510194]\n",
      "0\n",
      "[0.91621357 0.08071795 0.00306848]\n",
      "0\n",
      "[0.59548154 0.30153217 0.10298629]\n",
      "0\n",
      "[0.16832376 0.12565066 0.70602558]\n",
      "2\n",
      "[0.10599861 0.11959203 0.77440936]\n",
      "2\n",
      "[0.09971074 0.28760349 0.61268578]\n",
      "2\n",
      "[0.00662787 0.03244806 0.96092407]\n",
      "2\n",
      "[0.00782661 0.06388761 0.92828577]\n",
      "2\n",
      "[0.85397284 0.13424662 0.01178055]\n",
      "0\n",
      "[0.00412489 0.03132264 0.96455247]\n",
      "2\n",
      "[0.10767097 0.19736982 0.6949592 ]\n",
      "2\n",
      "[0.00346879 0.03320584 0.96332537]\n",
      "2\n",
      "[0.06078505 0.13703256 0.80218238]\n",
      "2\n",
      "[0.13889452 0.29178134 0.56932415]\n",
      "2\n",
      "[0.80559601 0.16283159 0.0315724 ]\n",
      "0\n",
      "[0.30503556 0.40532559 0.28963884]\n",
      "1\n",
      "[0.0206124 0.0815472 0.8978404]\n",
      "2\n",
      "[0.74968364 0.21734697 0.03296939]\n",
      "0\n",
      "[0.04694557 0.13194004 0.82111439]\n",
      "2\n",
      "[0.07341743 0.1595059  0.76707667]\n",
      "2\n",
      "[0.06483884 0.15936256 0.77579861]\n",
      "2\n",
      "[0.00402223 0.04060321 0.95537455]\n",
      "2\n",
      "[0.89850819 0.09421086 0.00728095]\n",
      "0\n",
      "[0.23196821 0.18282458 0.58520721]\n",
      "2\n",
      "[0.50391162 0.26406586 0.23202252]\n",
      "0\n",
      "[0.10517975 0.3396354  0.55518486]\n",
      "2\n",
      "[0.77014461 0.20349035 0.02636504]\n",
      "0\n",
      "[0.01418692 0.09300496 0.89280812]\n",
      "2\n",
      "[0.23614374 0.19488265 0.56897361]\n",
      "2\n",
      "[0.60061793 0.26320064 0.13618142]\n",
      "0\n",
      "[0.00412489 0.03132264 0.96455247]\n",
      "2\n",
      "[0.76807321 0.2097073  0.02221949]\n",
      "0\n",
      "[0.87489374 0.10965217 0.01545409]\n",
      "0\n",
      "[0.10430629 0.26799804 0.62769567]\n",
      "2\n",
      "[0.03646552 0.14716463 0.81636985]\n",
      "2\n",
      "[0.02575387 0.11478536 0.85946077]\n",
      "2\n",
      "[0.00874786 0.05475645 0.9364957 ]\n",
      "2\n",
      "[0.06462176 0.19043903 0.74493921]\n",
      "2\n",
      "[0.00516935 0.03782964 0.95700101]\n",
      "2\n",
      "[0.64834901 0.26907935 0.08257164]\n",
      "0\n",
      "[0.34424347 0.25415922 0.40159732]\n",
      "2\n",
      "[0.56588491 0.27139804 0.16271705]\n",
      "0\n",
      "[0.51425402 0.33685847 0.14888751]\n",
      "0\n",
      "[0.01094211 0.04141059 0.9476473 ]\n",
      "2\n",
      "[0.00593923 0.06044043 0.93362034]\n",
      "2\n",
      "[0.9208997  0.07464261 0.00445768]\n",
      "0\n",
      "[0.56190245 0.34828103 0.08981652]\n",
      "0\n",
      "[0.0228841  0.11947015 0.85764575]\n",
      "2\n",
      "[0.58959333 0.24862687 0.1617798 ]\n",
      "0\n",
      "[0.00531034 0.04299918 0.95169048]\n",
      "2\n",
      "[0.01356181 0.11276715 0.87367104]\n",
      "2\n",
      "[0.35573411 0.1789717  0.46529419]\n",
      "2\n",
      "[0.63401903 0.23454533 0.13143565]\n",
      "0\n",
      "[0.71975234 0.20142378 0.07882388]\n",
      "0\n",
      "[0.04326957 0.1034881  0.85324233]\n",
      "2\n",
      "[0.00682347 0.04005403 0.9531225 ]\n",
      "2\n",
      "[0.0179595  0.04848598 0.93355452]\n",
      "2\n",
      "[0.89053657 0.09958015 0.00988328]\n",
      "0\n",
      "[0.00682347 0.04005403 0.9531225 ]\n",
      "2\n",
      "[0.00424819 0.038679   0.95707281]\n",
      "2\n",
      "[0.01123268 0.04703661 0.9417307 ]\n",
      "2\n",
      "[0.04725519 0.07623645 0.87650837]\n",
      "2\n",
      "[0.71163973 0.22426683 0.06409344]\n",
      "0\n",
      "[0.14492298 0.32313578 0.53194125]\n",
      "2\n",
      "[0.01006582 0.0549681  0.93496609]\n",
      "2\n",
      "[0.77076447 0.18776824 0.04146729]\n",
      "0\n",
      "[0.87561853 0.11965171 0.00472976]\n",
      "0\n",
      "[0.04694557 0.13194004 0.82111439]\n",
      "2\n",
      "[0.45876014 0.30514703 0.23609283]\n",
      "0\n",
      "[0.53749196 0.3393066  0.12320144]\n",
      "0\n",
      "[0.46498587 0.24461362 0.29040051]\n",
      "0\n",
      "[0.05234427 0.10320832 0.8444474 ]\n",
      "2\n",
      "[0.55491024 0.27409414 0.17099562]\n",
      "0\n",
      "[0.15196646 0.20046113 0.64757241]\n",
      "2\n",
      "[0.0228472 0.0712741 0.9058787]\n",
      "2\n",
      "[0.07356895 0.18410104 0.74233001]\n",
      "2\n",
      "[0.00402223 0.04060321 0.95537455]\n",
      "2\n",
      "[0.57743491 0.23787781 0.18468728]\n",
      "0\n",
      "[0.04694557 0.13194004 0.82111439]\n",
      "2\n",
      "[0.19446795 0.27822846 0.52730359]\n",
      "2\n",
      "[0.04130596 0.13133129 0.82736275]\n",
      "2\n",
      "[0.58139992 0.27675951 0.14184057]\n",
      "0\n",
      "[0.76122914 0.15597388 0.08279698]\n",
      "0\n",
      "[0.46810671 0.2578996  0.27399369]\n",
      "0\n",
      "[0.10081756 0.2062762  0.69290625]\n",
      "2\n",
      "[0.76691323 0.19325137 0.03983541]\n",
      "0\n",
      "[0.00402223 0.04060321 0.95537455]\n",
      "2\n",
      "[0.07398988 0.13037564 0.79563448]\n",
      "2\n",
      "[0.46736437 0.21080731 0.32182832]\n",
      "0\n",
      "[0.5322589  0.22885203 0.23888907]\n",
      "0\n",
      "[0.00402223 0.04060321 0.95537455]\n",
      "2\n",
      "[0.02019779 0.06664358 0.91315863]\n",
      "2\n",
      "[0.06078505 0.13703256 0.80218238]\n",
      "2\n",
      "[0.77491631 0.1745099  0.05057379]\n",
      "0\n",
      "[0.55496771 0.33818794 0.10684435]\n",
      "0\n",
      "[0.53332557 0.35738514 0.10928929]\n",
      "0\n",
      "[0.87561853 0.11965171 0.00472976]\n",
      "0\n",
      "[0.82897425 0.13863083 0.03239492]\n",
      "0\n",
      "[0.00973879 0.07359635 0.91666486]\n",
      "2\n",
      "[0.45454017 0.28138802 0.26407181]\n",
      "0\n",
      "[0.39342877 0.30363683 0.3029344 ]\n",
      "0\n",
      "[0.0066362 0.0517855 0.9415783]\n",
      "2\n",
      "[0.04297508 0.10414132 0.85288359]\n",
      "2\n",
      "[0.63048722 0.29700398 0.0725088 ]\n",
      "0\n",
      "[0.85967434 0.1243539  0.01597176]\n",
      "0\n",
      "[0.21043971 0.28893666 0.50062363]\n",
      "2\n",
      "[0.01400347 0.05651177 0.92948475]\n",
      "2\n",
      "[0.15257862 0.37037596 0.47704542]\n",
      "2\n",
      "[0.09435656 0.13174269 0.77390075]\n",
      "2\n",
      "[0.11978279 0.22689029 0.65332692]\n",
      "2\n",
      "[0.90296397 0.09124308 0.00579295]\n",
      "0\n",
      "[0.9292954  0.06836192 0.00234268]\n",
      "0\n",
      "[0.13481888 0.12201066 0.74317046]\n",
      "2\n",
      "[0.10650852 0.14047508 0.7530164 ]\n",
      "2\n",
      "[0.02575387 0.11478536 0.85946077]\n",
      "2\n",
      "[0.0066362 0.0517855 0.9415783]\n",
      "2\n",
      "[0.67052628 0.18411392 0.1453598 ]\n",
      "0\n",
      "[0.79278173 0.17289465 0.03432362]\n",
      "0\n",
      "[0.22195286 0.16045113 0.61759601]\n",
      "2\n",
      "[0.04732873 0.15321133 0.79945994]\n",
      "2\n",
      "[0.03215744 0.12811149 0.83973108]\n",
      "2\n",
      "[0.27262733 0.2743996  0.45297307]\n",
      "2\n",
      "[0.00845672 0.06308681 0.92845647]\n",
      "2\n",
      "[0.00516935 0.03782964 0.95700101]\n",
      "2\n",
      "[0.06546115 0.1348667  0.79967216]\n",
      "2\n",
      "[0.49535332 0.35686505 0.14778162]\n",
      "0\n",
      "[1, -1, 1, -1, 1, 1, 1, -1, 0, -1, -1, -1, -1, -1, -1, -1, -1, 1, -1, -1, -1, 1, -1, -1, 1, -1, 1, 1, 1, -1, -1, -1, 1, -1, 1, 1, -1, -1, 1, -1, 1, -1, -1, -1, 1, 1, -1, 1, 1, -1, -1, -1, -1, -1, -1, 1, 1, 1, -1, 1, -1, 1, 1, 1, 1, -1, -1, 1, 1, 1, -1, -1, -1, 1, -1, -1, -1, 1, -1, 1, -1, 1, -1, 1, 1, -1, 1, -1, -1, -1, 1, -1, 1, 1, -1, 1, 1, -1, -1, -1, -1, -1, 1, -1, 1, -1, 1, -1, -1, -1, -1, -1, -1, 1, 1, 1, -1, -1, -1, -1, -1, -1, -1, -1, 1, 1, -1, -1, -1, -1, -1, -1, -1, 1, -1, -1, 1, -1, -1, 1, 1, -1, -1, 1, 1, 1, 1, 1, -1, -1, -1, -1, -1, 1, -1, -1, -1, -1, -1, 1, 0, -1, 1, -1, -1, -1, -1, 1, -1, 1, -1, 1, -1, -1, 1, -1, 1, 1, -1, -1, -1, -1, -1, -1, 1, -1, 1, 1, -1, -1, 1, 1, -1, 1, -1, -1, -1, 1, 1, -1, -1, -1, 1, -1, -1, -1, -1, 1, -1, -1, 1, 1, -1, 1, 1, 1, -1, 1, -1, -1, -1, -1, 1, -1, -1, -1, 1, 1, 1, -1, 1, -1, -1, 1, 1, -1, -1, -1, 1, 1, 1, 1, 1, -1, 1, 1, -1, -1, 1, 1, -1, -1, -1, -1, -1, 1, 1, -1, -1, -1, -1, 1, 1, -1, -1, -1, -1, -1, -1, -1, 1]\n"
     ]
    }
   ],
   "source": [
    "y_mat = []\n",
    "classification = []\n",
    "probs=([])\n",
    "for o in range(len(val_x)):#len(test_x)):#len(train_x)):\n",
    "    y_mat.append(np.dot(thetas1,X[o])) \n",
    "    y_mat.append(np.dot(thetas2,X[o]))\n",
    "    y_mat.append(np.dot(thetas3,X[o]))\n",
    "    \n",
    "    probs = f(y_mat)\n",
    "    print(probs)\n",
    "    maxPos = np.argmax(probs)\n",
    "    print(maxPos)\n",
    "    \n",
    "    if maxPos == 0:\n",
    "        classification.append(1)\n",
    "    elif maxPos == 1:\n",
    "        classification.append(0)\n",
    "    elif maxPos == 2:    \n",
    "        classification.append(-1)\n",
    "    \n",
    "    y_mat = []\n",
    "\n",
    "print(classification)    "
   ]
  },
  {
   "cell_type": "code",
   "execution_count": 43,
   "metadata": {},
   "outputs": [
    {
     "name": "stdout",
     "output_type": "stream",
     "text": [
      "724      1\n",
      "812      0\n",
      "759      1\n",
      "484     -1\n",
      "312      1\n",
      "        ..\n",
      "359     -1\n",
      "683     -1\n",
      "370     -1\n",
      "1233    -1\n",
      "805      1\n",
      "Name: Class, Length: 271, dtype: object\n"
     ]
    }
   ],
   "source": [
    "#print(train_y)\n",
    "#print(test_y)\n",
    "print(val_y)"
   ]
  },
  {
   "cell_type": "code",
   "execution_count": 52,
   "metadata": {},
   "outputs": [
    {
     "name": "stdout",
     "output_type": "stream",
     "text": [
      "True predictions for 0,1,-1\n",
      "0\n",
      "88\n",
      "137\n",
      "225\n",
      "False prediction 1 when value was 0 and -1\n",
      "7\n",
      "11\n",
      "False prediction 0 when value was 1 and -1\n",
      "0\n",
      "2\n",
      "False prediction -1 when value was 0 and 1\n",
      "12\n",
      "14\n",
      "\n",
      "True predictions added up:  225\n",
      "Number of prediction data points: 271\n",
      "Overall accuracy:  0.8302583025830258\n"
     ]
    }
   ],
   "source": [
    "count = 0\n",
    "\n",
    "#Variables used in confusion matrix\n",
    "true_count0 = 0\n",
    "true_count1 = 0\n",
    "true_count_neg1 = 0\n",
    "\n",
    "pred1_when0 = 0\n",
    "pred1_when_neg1 = 0\n",
    "\n",
    "pred0_when1 = 0\n",
    "pred0_when_neg1= 0\n",
    "\n",
    "pred_neg1_when0 = 0\n",
    "pred_neg1_when1 = 0\n",
    "\n",
    "val_yy = np.array(val_y, dtype = np.float64) \n",
    "for d in range (len(val_yy)):#len(test_yy)):#len(train_yy)):\n",
    "    if classification[d] == 0 and val_yy[d] == 0: #test_yy[d]: #train_yy[d]:\n",
    "        true_count0 = true_count0+1\n",
    "    if classification[d] == 1 and val_yy[d] == 1: #test_yy[d]: #train_yy[d]:\n",
    "        true_count1 = true_count1+1\n",
    "    if classification[d] == -1 and val_yy[d] == -1: #test_yy[d]: #train_yy[d]:\n",
    "        true_count_neg1 = true_count_neg1+1   \n",
    "        \n",
    "    if classification[d] == 1 and val_yy[d] == 0: #test_yy[d]: #train_yy[d]:\n",
    "        pred1_when0 = pred1_when0+1\n",
    "    if classification[d] == 1 and val_yy[d] == -1: #test_yy[d]: #train_yy[d]:\n",
    "        pred1_when_neg1 = pred1_when_neg1+1 \n",
    "        \n",
    "    if classification[d] == 0 and val_yy[d] == 1: #test_yy[d]: #train_yy[d]:\n",
    "        pred0_when1 = pred0_when1+1\n",
    "    if classification[d] == 0 and val_yy[d] == -1: #test_yy[d]: #train_yy[d]:\n",
    "        pred0_when_neg1= pred0_when_neg1+1\n",
    "        \n",
    "    if classification[d] == -1 and val_yy[d] == 0: #test_yy[d]: #train_yy[d]:\n",
    "        pred_neg1_when0 = pred_neg1_when0+1\n",
    "    if classification[d] == -1 and val_yy[d] == 1: #test_yy[d]: #train_yy[d]:\n",
    "         pred_neg1_when1 = pred_neg1_when1+1   \n",
    "\n",
    "print(\"True predictions for 0,1,-1\")            \n",
    "print(true_count0)\n",
    "print(true_count1)\n",
    "print(true_count_neg1)\n",
    "print(true_count0+true_count1+true_count_neg1)\n",
    "\n",
    "print(\"False prediction 1 when value was 0 and -1\")   \n",
    "print(pred1_when0)\n",
    "print(pred1_when_neg1)\n",
    "\n",
    "print(\"False prediction 0 when value was 1 and -1\") \n",
    "print(pred0_when1)\n",
    "print(pred0_when_neg1)\n",
    "\n",
    "print(\"False prediction -1 when value was 0 and 1\") \n",
    "print(pred_neg1_when0)\n",
    "print(pred_neg1_when1)\n",
    "print()\n",
    "\n",
    "\n",
    "#train_yy = np.array(train_y, dtype = np.float64)  \n",
    "#test_yy = np.array(test_y, dtype = np.float64) \n",
    "val_yy = np.array(val_y, dtype = np.float64) \n",
    "for d in range (len(val_yy)):#len(test_yy)):#len(train_yy)):\n",
    "    if classification[d] == val_yy[d]: #test_yy[d]: #train_yy[d]:\n",
    "        count = count+1 \n",
    "print(\"True predictions added up: \", count)\n",
    "#print(len(train_y))\n",
    "#print(len(test_y))\n",
    "print(\"Number of prediction data points:\", len(val_y))\n",
    "#accuracy = count/len(train_y)\n",
    "#accuracy = count/len(test_y)\n",
    "accuracy = count/len(val_y)\n",
    "print(\"Overall accuracy: \", accuracy)"
   ]
  },
  {
   "cell_type": "markdown",
   "metadata": {},
   "source": [
    "## Confusion Matrix "
   ]
  },
  {
   "cell_type": "code",
   "execution_count": 75,
   "metadata": {},
   "outputs": [
    {
     "name": "stdout",
     "output_type": "stream",
     "text": [
      "\t \t Predicted\n",
      "\t \t 0   1  -1\n",
      "actual 0 \t 0   7   12\n",
      "actual 1 \t 0   88   14\n",
      "actual -1 \t 2   11   137\n"
     ]
    }
   ],
   "source": [
    "\n",
    "print(\"\\t \\t Predicted\")\n",
    "print(\"\\t \\t\", \"0 \", \" 1\",\" -1\")\n",
    "print(\"actual 0 \\t\",true_count0,\" \", pred1_when0,\" \",pred_neg1_when0)\n",
    "print(\"actual 1 \\t\",pred0_when1,\" \", true_count1,\" \",pred_neg1_when1)\n",
    "print(\"actual -1 \\t\",pred0_when_neg1,\" \", pred1_when_neg1,\" \",true_count_neg1)"
   ]
  },
  {
   "cell_type": "markdown",
   "metadata": {},
   "source": [
    "## Accuracy, Missclassification Rate"
   ]
  },
  {
   "cell_type": "code",
   "execution_count": 77,
   "metadata": {},
   "outputs": [
    {
     "name": "stdout",
     "output_type": "stream",
     "text": [
      "Overall accuracy:  0.8302583025830258\n",
      "Missclassification Rate:  0.1697416974169742\n"
     ]
    }
   ],
   "source": [
    "print(\"Overall accuracy: \", accuracy)\n",
    "print(\"Missclassification Rate: \", (1-accuracy))"
   ]
  },
  {
   "cell_type": "code",
   "execution_count": null,
   "metadata": {},
   "outputs": [],
   "source": []
  }
 ],
 "metadata": {
  "kernelspec": {
   "display_name": "Python 3",
   "language": "python",
   "name": "python3"
  },
  "language_info": {
   "codemirror_mode": {
    "name": "ipython",
    "version": 3
   },
   "file_extension": ".py",
   "mimetype": "text/x-python",
   "name": "python",
   "nbconvert_exporter": "python",
   "pygments_lexer": "ipython3",
   "version": "3.7.4"
  },
  "pycharm": {
   "stem_cell": {
    "cell_type": "raw",
    "metadata": {
     "collapsed": false
    },
    "source": []
   }
  }
 },
 "nbformat": 4,
 "nbformat_minor": 2
}
