{
 "cells": [
  {
   "cell_type": "markdown",
   "metadata": {},
   "source": [
    "# Website Phishing"
   ]
  },
  {
   "cell_type": "markdown",
   "metadata": {},
   "source": [
    "## Group Members:\n",
    "#### Dino Anastasopoulos: 1900661\n",
    "\n",
    "#### Timothy Walters: 1855167\n",
    "\n",
    "#### Razeen Gani: 1842173\n",
    "\n",
    "#### Reece James Peters: 1924514"
   ]
  },
  {
   "cell_type": "markdown",
   "metadata": {},
   "source": [
    "## Library imports"
   ]
  },
  {
   "cell_type": "code",
   "execution_count": 32,
   "metadata": {
    "pycharm": {
     "is_executing": true
    }
   },
   "outputs": [],
   "source": [
    "import numpy as np\n",
    "import pandas as pd\n",
    "\n",
    "import matplotlib.pyplot as plt\n",
    "\n",
    "from sklearn.model_selection import train_test_split"
   ]
  },
  {
   "cell_type": "markdown",
   "metadata": {},
   "source": [
    "## Attributes"
   ]
  },
  {
   "cell_type": "raw",
   "metadata": {},
   "source": [
    "SFH {1,-1,0}\n",
    "popUpWidnow {-1,0,1}\n",
    "SSLfinal_State {1,-1,0}\n",
    "Request_URL {-1,0,1}\n",
    "URL_of_Anchor {-1,0,1}\n",
    "web_traffic {1,0,-1}\n",
    "URL_Length {1,-1,0}\n",
    "age_of_domain {1,-1}\n",
    "having_IP_Address {0,1}\n",
    "Result {0,1,-1}"
   ]
  },
  {
   "cell_type": "markdown",
   "metadata": {},
   "source": [
    "## Create empty design matrix"
   ]
  },
  {
   "cell_type": "code",
   "execution_count": 55,
   "metadata": {
    "pycharm": {
     "is_executing": true
    }
   },
   "outputs": [],
   "source": [
    "designMatrix = pd.DataFrame(columns = [\n",
    "    'SFH',\n",
    "    'PopUpWindow',\n",
    "    'SSL_Final_State',\n",
    "    'Request_URL',\n",
    "    'URL_of_Anchor',\n",
    "    'Web_Traffic',\n",
    "    'URL_Length',\n",
    "    'Age_Of_Domain',\n",
    "    'IP_Address',\n",
    "    'Class',\n",
    "] ) "
   ]
  },
  {
   "cell_type": "markdown",
   "metadata": {},
   "source": [
    "## Import data and populate designMatrix"
   ]
  },
  {
   "cell_type": "code",
   "execution_count": 78,
   "metadata": {
    "pycharm": {
     "is_executing": true
    }
   },
   "outputs": [
    {
     "data": {
      "text/html": [
       "<div>\n",
       "<style scoped>\n",
       "    .dataframe tbody tr th:only-of-type {\n",
       "        vertical-align: middle;\n",
       "    }\n",
       "\n",
       "    .dataframe tbody tr th {\n",
       "        vertical-align: top;\n",
       "    }\n",
       "\n",
       "    .dataframe thead th {\n",
       "        text-align: right;\n",
       "    }\n",
       "</style>\n",
       "<table border=\"1\" class=\"dataframe\">\n",
       "  <thead>\n",
       "    <tr style=\"text-align: right;\">\n",
       "      <th></th>\n",
       "      <th>SFH</th>\n",
       "      <th>PopUpWindow</th>\n",
       "      <th>SSL_Final_State</th>\n",
       "      <th>Request_URL</th>\n",
       "      <th>URL_of_Anchor</th>\n",
       "      <th>Web_Traffic</th>\n",
       "      <th>URL_Length</th>\n",
       "      <th>Age_Of_Domain</th>\n",
       "      <th>IP_Address</th>\n",
       "      <th>Class</th>\n",
       "    </tr>\n",
       "  </thead>\n",
       "  <tbody>\n",
       "    <tr>\n",
       "      <td>0</td>\n",
       "      <td>1</td>\n",
       "      <td>-1</td>\n",
       "      <td>1</td>\n",
       "      <td>-1</td>\n",
       "      <td>-1</td>\n",
       "      <td>1</td>\n",
       "      <td>1</td>\n",
       "      <td>1</td>\n",
       "      <td>0</td>\n",
       "      <td>0</td>\n",
       "    </tr>\n",
       "    <tr>\n",
       "      <td>1</td>\n",
       "      <td>-1</td>\n",
       "      <td>-1</td>\n",
       "      <td>-1</td>\n",
       "      <td>-1</td>\n",
       "      <td>-1</td>\n",
       "      <td>0</td>\n",
       "      <td>1</td>\n",
       "      <td>1</td>\n",
       "      <td>1</td>\n",
       "      <td>1</td>\n",
       "    </tr>\n",
       "    <tr>\n",
       "      <td>2</td>\n",
       "      <td>1</td>\n",
       "      <td>-1</td>\n",
       "      <td>0</td>\n",
       "      <td>0</td>\n",
       "      <td>-1</td>\n",
       "      <td>0</td>\n",
       "      <td>-1</td>\n",
       "      <td>1</td>\n",
       "      <td>0</td>\n",
       "      <td>1</td>\n",
       "    </tr>\n",
       "    <tr>\n",
       "      <td>3</td>\n",
       "      <td>1</td>\n",
       "      <td>0</td>\n",
       "      <td>1</td>\n",
       "      <td>-1</td>\n",
       "      <td>-1</td>\n",
       "      <td>0</td>\n",
       "      <td>1</td>\n",
       "      <td>1</td>\n",
       "      <td>0</td>\n",
       "      <td>0</td>\n",
       "    </tr>\n",
       "    <tr>\n",
       "      <td>4</td>\n",
       "      <td>-1</td>\n",
       "      <td>-1</td>\n",
       "      <td>1</td>\n",
       "      <td>-1</td>\n",
       "      <td>0</td>\n",
       "      <td>0</td>\n",
       "      <td>-1</td>\n",
       "      <td>1</td>\n",
       "      <td>0</td>\n",
       "      <td>1</td>\n",
       "    </tr>\n",
       "    <tr>\n",
       "      <td>...</td>\n",
       "      <td>...</td>\n",
       "      <td>...</td>\n",
       "      <td>...</td>\n",
       "      <td>...</td>\n",
       "      <td>...</td>\n",
       "      <td>...</td>\n",
       "      <td>...</td>\n",
       "      <td>...</td>\n",
       "      <td>...</td>\n",
       "      <td>...</td>\n",
       "    </tr>\n",
       "    <tr>\n",
       "      <td>1348</td>\n",
       "      <td>-1</td>\n",
       "      <td>-1</td>\n",
       "      <td>-1</td>\n",
       "      <td>-1</td>\n",
       "      <td>-1</td>\n",
       "      <td>-1</td>\n",
       "      <td>0</td>\n",
       "      <td>1</td>\n",
       "      <td>0</td>\n",
       "      <td>1</td>\n",
       "    </tr>\n",
       "    <tr>\n",
       "      <td>1349</td>\n",
       "      <td>-1</td>\n",
       "      <td>0</td>\n",
       "      <td>1</td>\n",
       "      <td>0</td>\n",
       "      <td>-1</td>\n",
       "      <td>0</td>\n",
       "      <td>0</td>\n",
       "      <td>1</td>\n",
       "      <td>0</td>\n",
       "      <td>-1</td>\n",
       "    </tr>\n",
       "    <tr>\n",
       "      <td>1350</td>\n",
       "      <td>-1</td>\n",
       "      <td>0</td>\n",
       "      <td>-1</td>\n",
       "      <td>-1</td>\n",
       "      <td>-1</td>\n",
       "      <td>0</td>\n",
       "      <td>-1</td>\n",
       "      <td>-1</td>\n",
       "      <td>0</td>\n",
       "      <td>1</td>\n",
       "    </tr>\n",
       "    <tr>\n",
       "      <td>1351</td>\n",
       "      <td>0</td>\n",
       "      <td>0</td>\n",
       "      <td>1</td>\n",
       "      <td>0</td>\n",
       "      <td>0</td>\n",
       "      <td>0</td>\n",
       "      <td>-1</td>\n",
       "      <td>1</td>\n",
       "      <td>0</td>\n",
       "      <td>1</td>\n",
       "    </tr>\n",
       "    <tr>\n",
       "      <td>1352</td>\n",
       "      <td>1</td>\n",
       "      <td>0</td>\n",
       "      <td>1</td>\n",
       "      <td>1</td>\n",
       "      <td>1</td>\n",
       "      <td>0</td>\n",
       "      <td>-1</td>\n",
       "      <td>-1</td>\n",
       "      <td>0</td>\n",
       "      <td>-1</td>\n",
       "    </tr>\n",
       "  </tbody>\n",
       "</table>\n",
       "<p>1353 rows × 10 columns</p>\n",
       "</div>"
      ],
      "text/plain": [
       "     SFH PopUpWindow SSL_Final_State Request_URL URL_of_Anchor Web_Traffic  \\\n",
       "0      1          -1               1          -1            -1           1   \n",
       "1     -1          -1              -1          -1            -1           0   \n",
       "2      1          -1               0           0            -1           0   \n",
       "3      1           0               1          -1            -1           0   \n",
       "4     -1          -1               1          -1             0           0   \n",
       "...   ..         ...             ...         ...           ...         ...   \n",
       "1348  -1          -1              -1          -1            -1          -1   \n",
       "1349  -1           0               1           0            -1           0   \n",
       "1350  -1           0              -1          -1            -1           0   \n",
       "1351   0           0               1           0             0           0   \n",
       "1352   1           0               1           1             1           0   \n",
       "\n",
       "     URL_Length Age_Of_Domain IP_Address Class  \n",
       "0             1             1          0     0  \n",
       "1             1             1          1     1  \n",
       "2            -1             1          0     1  \n",
       "3             1             1          0     0  \n",
       "4            -1             1          0     1  \n",
       "...         ...           ...        ...   ...  \n",
       "1348          0             1          0     1  \n",
       "1349          0             1          0    -1  \n",
       "1350         -1            -1          0     1  \n",
       "1351         -1             1          0     1  \n",
       "1352         -1            -1          0    -1  \n",
       "\n",
       "[1353 rows x 10 columns]"
      ]
     },
     "execution_count": 78,
     "metadata": {},
     "output_type": "execute_result"
    }
   ],
   "source": [
    "lineNum = 0\n",
    "\n",
    "for line in open(\"Files/data.txt\", \"r\"):\n",
    "    lineSplit = line.strip().split(\",\")\n",
    "    designMatrix.loc[lineNum] = lineSplit   \n",
    "    lineNum+=1\n",
    "    \n",
    "designMatrix"
   ]
  },
  {
   "cell_type": "markdown",
   "metadata": {},
   "source": [
    "## Split into training, validation and testing data"
   ]
  },
  {
   "cell_type": "code",
   "execution_count": 79,
   "metadata": {
    "pycharm": {
     "is_executing": true
    }
   },
   "outputs": [],
   "source": [
    "trainData, testData = train_test_split(designMatrix, test_size = 0.4)\n",
    "\n",
    "testData, valData = train_test_split(testData, test_size = 0.5)"
   ]
  },
  {
   "cell_type": "code",
   "execution_count": 80,
   "metadata": {
    "pycharm": {
     "is_executing": true
    }
   },
   "outputs": [
    {
     "name": "stdout",
     "output_type": "stream",
     "text": [
      "trainData size: 811\n",
      "valData size: 271\n",
      "testData size: 271\n"
     ]
    }
   ],
   "source": [
    "print(\"trainData size: \" + str(len(trainData)))\n",
    "print(\"valData size: \" + str(len(valData)))\n",
    "print(\"testData size: \" + str(len(testData)))"
   ]
  },
  {
   "cell_type": "markdown",
   "metadata": {},
   "source": [
    "## Splitting the train,val and test data by their attributes and classes"
   ]
  },
  {
   "cell_type": "code",
   "execution_count": 81,
   "metadata": {
    "pycharm": {
     "is_executing": true
    }
   },
   "outputs": [
    {
     "name": "stdout",
     "output_type": "stream",
     "text": [
      "     SFH PopUpWindow SSL_Final_State Request_URL URL_of_Anchor Web_Traffic  \\\n",
      "809    1           0               1           0            -1          -1   \n",
      "1239   1           1               1          -1             1          -1   \n",
      "502    1           0               1           0             0           1   \n",
      "744    1          -1               1           1             1           0   \n",
      "417    1          -1               1          -1             1          -1   \n",
      "...   ..         ...             ...         ...           ...         ...   \n",
      "337    1           0               1          -1             1          -1   \n",
      "896    1           0               1           1             1           0   \n",
      "825    1          -1               1          -1            -1           0   \n",
      "1176  -1          -1              -1           0            -1           1   \n",
      "769   -1           1               0           0            -1          -1   \n",
      "\n",
      "     URL_Length Age_Of_Domain IP_Address  \n",
      "809           0             1          0  \n",
      "1239          0             1          0  \n",
      "502           1            -1          0  \n",
      "744          -1             1          0  \n",
      "417          -1             1          0  \n",
      "...         ...           ...        ...  \n",
      "337           0             1          0  \n",
      "896          -1            -1          0  \n",
      "825          -1            -1          0  \n",
      "1176          0            -1          0  \n",
      "769           1             1          1  \n",
      "\n",
      "[811 rows x 9 columns]\n"
     ]
    }
   ],
   "source": [
    "train_x = trainData[[ 'SFH',\n",
    "    'PopUpWindow',\n",
    "    'SSL_Final_State',\n",
    "    'Request_URL',\n",
    "    'URL_of_Anchor',\n",
    "    'Web_Traffic',\n",
    "    'URL_Length',\n",
    "    'Age_Of_Domain',\n",
    "    'IP_Address',]]\n",
    "print(train_x)\n",
    "\n",
    "\n",
    "train_y =trainData['Class']\n",
    "OG_train_y=train_y\n",
    "#print(train_y)\n",
    "\n",
    "test_x =  testData[[ 'SFH',\n",
    "    'PopUpWindow',\n",
    "    'SSL_Final_State',\n",
    "    'Request_URL',\n",
    "    'URL_of_Anchor',\n",
    "    'Web_Traffic',\n",
    "    'URL_Length',\n",
    "    'Age_Of_Domain',\n",
    "    'IP_Address',]]\n",
    "\n",
    "test_y =testData['Class']\n",
    "\n",
    "val_x =  valData[[ 'SFH',\n",
    "    'PopUpWindow',\n",
    "    'SSL_Final_State',\n",
    "    'Request_URL',\n",
    "    'URL_of_Anchor',\n",
    "    'Web_Traffic',\n",
    "    'URL_Length',\n",
    "    'Age_Of_Domain',\n",
    "    'IP_Address',]]\n",
    "\n",
    "val_y =valData['Class']"
   ]
  },
  {
   "cell_type": "markdown",
   "metadata": {},
   "source": [
    "## Defining our logistic regression function, learning rate, tolerance and creating default \"true\" thetas"
   ]
  },
  {
   "cell_type": "code",
   "execution_count": 82,
   "metadata": {},
   "outputs": [],
   "source": [
    "def h(x, θ): # Regression function\n",
    "    return 1/(1+np.exp(-np.dot(x, θ))) # logistic regression using the dot product\n",
    "\n",
    "l_rate = 0.001 #0.00001\n",
    "tol = 0.001"
   ]
  },
  {
   "cell_type": "markdown",
   "metadata": {},
   "source": [
    "## Model 1: Create A Conversion Matrix \n",
    "#### We keep all y-values equal to 1 as 1 and we convert all y-values equal to 0 or -1 to 0"
   ]
  },
  {
   "cell_type": "code",
   "execution_count": 83,
   "metadata": {
    "pycharm": {
     "is_executing": true
    }
   },
   "outputs": [
    {
     "name": "stdout",
     "output_type": "stream",
     "text": [
      "Before: Element -1 exists in Dataframe\n",
      "After: No instances of -1 in dataset\n"
     ]
    }
   ],
   "source": [
    "holder = train_y \n",
    "\n",
    "Con1 = np.copy(holder)\n",
    "Con1 = Con1.reshape(holder.shape[0])\n",
    "\n",
    "#print(Con1.shape)\n",
    "#print(Con1) \n",
    "#print(Con1[87])\n",
    "\n",
    "#Check if there are instances of -1 in dataset\n",
    "if \"-1\" in Con1:\n",
    "    print('Before: Element -1 exists in Dataframe')\n",
    "else:\n",
    "    print('Before: No instances of -1 in dataset')\n",
    "\n",
    "#Change all 0's and -1's to 0's, and all 1's remain unchanged\n",
    "for x in range(Con1.shape[0]):    \n",
    "    if Con1[x] == \"-1\" or Con1[x] == \"0\":\n",
    "        Con1[x] = \"0\"\n",
    "\n",
    "#Check that theres no instances of -1 in dataset\n",
    "if \"-1\" in Con1:\n",
    "    print('After: Element -1 exists in Dataframe')\n",
    "else:\n",
    "    print('After: No instances of -1 in dataset')\n",
    "    \n",
    "#print(Con1) \n",
    "#print(Con1[87])"
   ]
  },
  {
   "cell_type": "markdown",
   "metadata": {},
   "source": [
    "## Logistic Regression For Model 1"
   ]
  },
  {
   "cell_type": "code",
   "execution_count": 133,
   "metadata": {
    "pycharm": {
     "is_executing": true
    },
    "scrolled": true
   },
   "outputs": [
    {
     "name": "stdout",
     "output_type": "stream",
     "text": [
      "[1. 1. 1. 1. 1. 1. 1. 1. 1.]\n",
      "[0. 0. 0. 0. 0. 0. 0. 0. 0.]\n",
      "(9,)\n",
      "(9,)\n",
      "[0.]\n",
      "(811, 1)\n",
      "[ 1.  0.  1.  0. -1. -1.  0.  1.  0.]\n",
      "(811, 9)\n",
      "1200\n",
      "Model Parameters:  [-1.48761743 -1.41026048 -1.51697377 -0.03796275 -0.18757256  0.18116406\n",
      " -0.34305238 -0.25601865  0.66282202]\n"
     ]
    }
   ],
   "source": [
    "thetas1= np.ones(train_x.shape[1]) # initialize our parameters for training data\n",
    "thetas_old = np.zeros(train_x.shape[1]) #initialises \"old parameters which will go in our regression function\"\n",
    "\n",
    "\n",
    "print(thetas1)\n",
    "print(thetas_old)\n",
    "print(thetas1.shape)\n",
    "print(thetas_old.shape)\n",
    "\n",
    "model1_y = np.array(Con1,dtype = np.float64)\n",
    "\n",
    "model1_y = model1_y.reshape(811,1)\n",
    "\n",
    "print(model1_y[0])\n",
    "print(model1_y.shape)\n",
    "\n",
    "X = np.array(train_x, dtype = np.float64)  \n",
    "\n",
    "print(X[0])\n",
    "print(X.shape)\n",
    "\n",
    "error1 = []\n",
    "timeline1 = []\n",
    "iterations1 = 0\n",
    "\n",
    "while np.linalg.norm(abs(thetas1 - thetas_old)) > tol and iterations1 != 1200:\n",
    "\n",
    "    \n",
    "    for i in range(X.shape[0]): \n",
    "        thetas1 = thetas1 - l_rate*( (h(X[i], thetas1) - model1_y[i]) * X[i])\n",
    "        #print(thetas1-thetas_old)\n",
    "        \n",
    "\n",
    "     \n",
    "    if iterations1%50 == 0:                              \n",
    "        j = 0.5 * pow(model1_y[i] - h(X[i], thetas1), 2) \n",
    "        error1.append(j)\n",
    "        timeline1.append(iterations1)   \n",
    "        #print(\"Error:\" + str(error))\n",
    "        #print(\"Timeline: \" + str(timeline))\n",
    "        #print()       \n",
    "\n",
    "    iterations1 = iterations1+1   \n",
    "        \n",
    "print(iterations1)        \n",
    "print(\"Model Parameters: \", thetas1)"
   ]
  },
  {
   "cell_type": "markdown",
   "metadata": {},
   "source": [
    "### Plot Model 1 error"
   ]
  },
  {
   "cell_type": "code",
   "execution_count": 134,
   "metadata": {},
   "outputs": [
    {
     "data": {
      "text/plain": [
       "[<matplotlib.lines.Line2D at 0x1d0b9501a08>]"
      ]
     },
     "execution_count": 134,
     "metadata": {},
     "output_type": "execute_result"
    },
    {
     "data": {
      "image/png": "[encoded data removed]",
      "text/plain": [
       "<Figure size 432x288 with 1 Axes>"
      ]
     },
     "metadata": {
      "needs_background": "light"
     },
     "output_type": "display_data"
    }
   ],
   "source": [
    "size = len(error1)\n",
    "\n",
    "x1_time = np.zeros(size)\n",
    "y1_error= np.zeros(size) \n",
    "\n",
    "for i in range(0, size):\n",
    "    x1_time[i] = timeline1[i]\n",
    "    y1_error[i] = error1[i]\n",
    "\n",
    "plt.axhline(0,color='black') # plot horizontal axis at 0\n",
    "plt.axvline(0,color='black') # plot vertical axis at 0\n",
    "plt.xlabel('Timeline')\n",
    "plt.ylabel('Model 1 Error')\n",
    "plt.plot(x1_time, y1_error, color=\"red\")"
   ]
  },
  {
   "cell_type": "markdown",
   "metadata": {},
   "source": [
    "## Model 2: Create A Conversion Matrix\n",
    "\n",
    "##### We keep all y-values equal to 0 as 1 and we convert all y-values equal to 1 or -1 to 0"
   ]
  },
  {
   "cell_type": "code",
   "execution_count": 135,
   "metadata": {
    "pycharm": {
     "is_executing": true
    }
   },
   "outputs": [
    {
     "name": "stdout",
     "output_type": "stream",
     "text": [
      "Before: Element -1 exists in Dataframe\n",
      "After: No instances of -1 in dataset\n"
     ]
    }
   ],
   "source": [
    "holder = train_y\n",
    "\n",
    "Con2 = np.copy(holder)\n",
    "Con2 = Con2.reshape(holder.shape[0])\n",
    "\n",
    "#print(Con2.shape)\n",
    "#print(Con2)\n",
    "#print(Con2[19])\n",
    "#print(Con2[33])\n",
    "\n",
    "#Check if there are instances of -1 in dataset\n",
    "if \"-1\" in Con2:\n",
    "    print('Before: Element -1 exists in Dataframe')\n",
    "else:\n",
    "    print('Before: No instances of -1 in dataset')\n",
    "    \n",
    "#Change all 0's to 1's, and change all 1's and -1's to 0's\n",
    "for x in range(Con2.shape[0]):    \n",
    "    if Con2[x] == \"0\":\n",
    "        Con2[x] = 1\n",
    "    elif Con2[x] == \"1\" or Con2[x] == \"-1\":\n",
    "        Con2[x] = 0         \n",
    "\n",
    "#Check that theres no instances of -1 in dataset\n",
    "if \"-1\" in Con2:\n",
    "    print('After: Element -1 exists in Dataframe')\n",
    "else:\n",
    "    print('After: No instances of -1 in dataset')\n",
    "                \n",
    "#print(Con2)\n",
    "#print(Con2[19])\n",
    "#print(Con2[33])"
   ]
  },
  {
   "cell_type": "markdown",
   "metadata": {},
   "source": [
    "## Logistic Regression For Model 2"
   ]
  },
  {
   "cell_type": "code",
   "execution_count": 136,
   "metadata": {
    "pycharm": {
     "is_executing": true
    }
   },
   "outputs": [
    {
     "name": "stdout",
     "output_type": "stream",
     "text": [
      "[1. 1. 1. 1. 1. 1. 1. 1. 1.]\n",
      "[0. 0. 0. 0. 0. 0. 0. 0. 0.]\n",
      "(9,)\n",
      "(9,)\n",
      "[0.]\n",
      "(811, 1)\n",
      "[ 1.  0.  1.  0. -1. -1.  0.  1.  0.]\n",
      "(811, 9)\n",
      "424\n",
      "Model Parameters:  [-0.86412113  1.14079975 -0.35352968  0.26669209 -0.06873944 -0.53187178\n",
      "  0.72358946 -0.41039341 -2.50587854]\n"
     ]
    }
   ],
   "source": [
    "thetas2= np.ones(train_x.shape[1]) # initialize our parameters\n",
    "\n",
    "thetas_old = np.zeros(train_x.shape[1]) #initialises \"old parameters which will go in our regression function\"\n",
    "\n",
    "print(thetas2)\n",
    "print(thetas_old)\n",
    "print(thetas2.shape)\n",
    "print(thetas_old.shape)\n",
    "\n",
    "model2_y = np.array(Con2,dtype = np.float64)\n",
    "\n",
    "model2_y = model2_y.reshape(811,1)\n",
    "\n",
    "print(model2_y[0])\n",
    "print(model2_y.shape)\n",
    "\n",
    "X2 = np.array(train_x, dtype = np.float64)  \n",
    "\n",
    "print(X2[0])\n",
    "print(X2.shape)\n",
    "\n",
    "error2 = []\n",
    "timeline2 = []\n",
    "iterations2 = 0\n",
    "\n",
    "while np.linalg.norm(abs(thetas2 - thetas_old)) > tol and iterations2 != 1200:\n",
    "    thetas_old = thetas2\n",
    "    for i in range(X2.shape[0]): \n",
    "        thetas2 = thetas2 - l_rate*( (h(X2[i], thetas2) - model2_y[i]) * X2[i] )\n",
    "        \n",
    "    if iterations2%50 == 0:                              \n",
    "        j = 0.5 * pow(model2_y[i] - h(X2[i], thetas2), 2) \n",
    "        error2.append(j)\n",
    "        timeline2.append(iterations2)   \n",
    "        #print(\"Error:\" + str(error2))\n",
    "        #print(\"Timeline: \" + str(timeline2))\n",
    "        #print()       \n",
    "\n",
    "    iterations2 = iterations2+1   \n",
    "        \n",
    "print(iterations2)        \n",
    "print(\"Model Parameters: \", thetas2)"
   ]
  },
  {
   "cell_type": "markdown",
   "metadata": {
    "pycharm": {
     "name": "#%% md\n"
    }
   },
   "source": [
    "### Plot Model 2 error"
   ]
  },
  {
   "cell_type": "code",
   "execution_count": 137,
   "metadata": {},
   "outputs": [
    {
     "data": {
      "text/plain": [
       "[<matplotlib.lines.Line2D at 0x1d0b956de88>]"
      ]
     },
     "execution_count": 137,
     "metadata": {},
     "output_type": "execute_result"
    },
    {
     "data": {
      "image/png": "[encoded data removed]",
      "text/plain": [
       "<Figure size 432x288 with 1 Axes>"
      ]
     },
     "metadata": {
      "needs_background": "light"
     },
     "output_type": "display_data"
    }
   ],
   "source": [
    "size = len(error2)\n",
    "\n",
    "x2_time = np.zeros(size)\n",
    "y2_error= np.zeros(size) \n",
    "\n",
    "for i in range(0, size):\n",
    "    x2_time[i] = timeline2[i]\n",
    "    y2_error[i] = error2[i]\n",
    "\n",
    "plt.axhline(0,color='black') \n",
    "plt.axvline(0,color='black') \n",
    "plt.xlabel('Timeline')\n",
    "plt.ylabel('Model 2 Error')\n",
    "plt.plot(x2_time, y2_error, color=\"green\")"
   ]
  },
  {
   "cell_type": "markdown",
   "metadata": {
    "pycharm": {
     "name": "#%% md\n"
    }
   },
   "source": [
    "## Model 3: Create A Conversion Matrix\n",
    "\n",
    "##### We keep all y-values equal to -1 as 1 and we convert all y-values equal to 1 or 0 to 0"
   ]
  },
  {
   "cell_type": "code",
   "execution_count": 138,
   "metadata": {
    "pycharm": {
     "is_executing": true
    }
   },
   "outputs": [
    {
     "name": "stdout",
     "output_type": "stream",
     "text": [
      "Before: Element -1 exists in Dataframe\n",
      "After: No instances of -1 in dataset\n"
     ]
    }
   ],
   "source": [
    "holder = train_y \n",
    "\n",
    "Con3 = np.copy(holder)\n",
    "Con3 = Con3.reshape(holder.shape[0])\n",
    "\n",
    "#print(Con3.shape)\n",
    "#print(Con3)\n",
    "#print(Con3[1])\n",
    "#print(Con3[2])\n",
    "\n",
    "#Check if there are instances of -1 in dataset\n",
    "if \"-1\" in Con3:\n",
    "    print('Before: Element -1 exists in Dataframe')\n",
    "else:\n",
    "    print('Before: No instances of -1 in dataset')\n",
    "    print(Con3)\n",
    "    \n",
    "#Change all -1's to 1's, and change all 1's and 0's to 0\n",
    "for x in range(Con3.shape[0]):    \n",
    "    if Con3[x] == \"-1\":\n",
    "        Con3[x] = 1\n",
    "    elif Con3[x] == \"1\" or Con3[x] == \"0\":\n",
    "        Con3[x] = 0\n",
    "\n",
    "#Check that theres no instances of -1 in dataset\n",
    "if \"-1\" in Con3:\n",
    "    print('After: Element -1 exists in Dataframe')\n",
    "else:\n",
    "    print('After: No instances of -1 in dataset')\n",
    "        \n",
    "#print(Con3)\n",
    "#print(Con3[1])\n",
    "#print(Con3[2])"
   ]
  },
  {
   "cell_type": "code",
   "execution_count": 139,
   "metadata": {
    "pycharm": {
     "is_executing": true
    }
   },
   "outputs": [
    {
     "name": "stdout",
     "output_type": "stream",
     "text": [
      "[1. 1. 1. 1. 1. 1. 1. 1. 1.]\n",
      "[0. 0. 0. 0. 0. 0. 0. 0. 0.]\n",
      "(9,)\n",
      "(9,)\n",
      "[1.]\n",
      "(811, 1)\n",
      "[ 1.  0.  1.  0. -1. -1.  0.  1.  0.]\n",
      "(811, 9)\n",
      "393\n",
      "Model Parameters:  [ 1.68084986  1.90837346  1.34524107  0.99622161  0.29991854 -0.07509314\n",
      " -0.2126432   0.18065853 -0.95132709]\n"
     ]
    }
   ],
   "source": [
    "thetas3= np.ones(train_x.shape[1]) # initialize our parameters\n",
    "\n",
    "thetas_old = np.zeros(train_x.shape[1]) #initialises \"old parameters which will go in our regression function\"\n",
    "\n",
    "print(thetas3)\n",
    "print(thetas_old)\n",
    "print(thetas3.shape)\n",
    "print(thetas_old.shape)\n",
    "\n",
    "model3_y = np.array(Con3,dtype = np.float64)\n",
    "\n",
    "model3_y = model3_y.reshape(811,1)\n",
    "\n",
    "print(model3_y[0])\n",
    "print(model3_y.shape)\n",
    "\n",
    "X3 = np.array(train_x, dtype = np.float64)  \n",
    "\n",
    "print(X3[0])\n",
    "print(X3.shape)\n",
    "\n",
    "error3 = []\n",
    "timeline3 = []\n",
    "iterations3 = 0\n",
    "\n",
    "while np.linalg.norm(abs(thetas3 - thetas_old)) > tol and iterations3 != 1200:\n",
    "    thetas_old = thetas3\n",
    "    for i in range(X3.shape[0]): \n",
    "        thetas3 = thetas3 - l_rate*( (h(X3[i], thetas3) - model3_y[i]) * X3[i] )\n",
    "  \n",
    "    if iterations3%20 == 0:                              \n",
    "        j = 0.5 * pow(model3_y[i] - h(X3[i], thetas3), 2) \n",
    "        error3.append(j)\n",
    "        timeline3.append(iterations3)   \n",
    "        #print(\"Error:\" + str(error3))\n",
    "        #print(\"Timeline: \" + str(timeline3))\n",
    "        #print()       \n",
    "\n",
    "    iterations3 = iterations3 + 1   \n",
    "        \n",
    "print(iterations3)        \n",
    "print(\"Model Parameters: \", thetas3) "
   ]
  },
  {
   "cell_type": "markdown",
   "metadata": {},
   "source": [
    "### Plot Model 3 error"
   ]
  },
  {
   "cell_type": "code",
   "execution_count": 140,
   "metadata": {
    "pycharm": {
     "name": "#%%\n"
    }
   },
   "outputs": [
    {
     "data": {
      "text/plain": [
       "[<matplotlib.lines.Line2D at 0x1d0b95f3b88>]"
      ]
     },
     "execution_count": 140,
     "metadata": {},
     "output_type": "execute_result"
    },
    {
     "data": {
      "image/png": "[encoded data removed]",
      "text/plain": [
       "<Figure size 432x288 with 1 Axes>"
      ]
     },
     "metadata": {
      "needs_background": "light"
     },
     "output_type": "display_data"
    }
   ],
   "source": [
    "size = len(error3)\n",
    "\n",
    "x3_time = np.zeros(size)\n",
    "y3_error= np.zeros(size) \n",
    "\n",
    "for i in range(0, size):\n",
    "    x3_time[i] = timeline3[i]\n",
    "    y3_error[i] = error3[i]\n",
    "\n",
    "plt.axhline(0,color='black') # plot horizontal axis at 0\n",
    "plt.axvline(0,color='black') # plot vertical axis at 0\n",
    "plt.xlabel('Timeline')\n",
    "plt.ylabel('Model 3 Error')\n",
    "plt.plot(x3_time, y3_error, color=\"blue\")"
   ]
  },
  {
   "cell_type": "code",
   "execution_count": null,
   "metadata": {
    "pycharm": {
     "name": "#%%\n"
    },
    "scrolled": true
   },
   "outputs": [],
   "source": []
  },
  {
   "cell_type": "code",
   "execution_count": null,
   "metadata": {
    "pycharm": {
     "name": "#%%\n"
    }
   },
   "outputs": [],
   "source": []
  },
  {
   "cell_type": "code",
   "execution_count": null,
   "metadata": {
    "pycharm": {
     "name": "#%%\n"
    }
   },
   "outputs": [],
   "source": []
  },
  {
   "cell_type": "code",
   "execution_count": null,
   "metadata": {},
   "outputs": [],
   "source": []
  },
  {
   "cell_type": "markdown",
   "metadata": {},
   "source": [
    "# Predicted parameters for each model"
   ]
  },
  {
   "cell_type": "code",
   "execution_count": 93,
   "metadata": {
    "pycharm": {
     "is_executing": true
    }
   },
   "outputs": [
    {
     "name": "stdout",
     "output_type": "stream",
     "text": [
      "1200\n",
      "Predicted Paramters For Model 1  [-1.48761743 -1.41026048 -1.51697377 -0.03796275 -0.18757256  0.18116406\n",
      " -0.34305238 -0.25601865  0.66282202]\n",
      "424\n",
      "Predicted Paramters For Model 2  [-0.86412113  1.14079975 -0.35352968  0.26669209 -0.06873944 -0.53187178\n",
      "  0.72358946 -0.41039341 -2.50587854]\n",
      "494\n",
      "Predicted Paramters For Model 3  [ 1.68732876  1.91658736  1.35632419  0.99715147  0.30257863 -0.07593669\n",
      " -0.21269726  0.18282442 -1.02195553]\n"
     ]
    }
   ],
   "source": [
    "print(iterations1)\n",
    "print('Predicted Paramters For Model 1 ', thetas1)\n",
    "print(iterations2)\n",
    "print('Predicted Paramters For Model 2 ', thetas2)\n",
    "print(iterations3)\n",
    "print('Predicted Paramters For Model 3 ', thetas3)"
   ]
  },
  {
   "cell_type": "markdown",
   "metadata": {
    "pycharm": {
     "is_executing": true
    }
   },
   "source": [
    "## Defines Softmax function and classifies each data instance based on the highest probability"
   ]
  },
  {
   "cell_type": "code",
   "execution_count": 119,
   "metadata": {
    "pycharm": {
     "is_executing": true
    }
   },
   "outputs": [],
   "source": [
    "def f(X): # softmax function\n",
    "\n",
    "    return np.exp(X) / np.sum(np.exp(X))"
   ]
  },
  {
   "cell_type": "code",
   "execution_count": 120,
   "metadata": {},
   "outputs": [
    {
     "name": "stdout",
     "output_type": "stream",
     "text": [
      "[0.00792242 0.01403188 0.9780457 ]\n",
      "2\n",
      "[9.96262647e-01 3.46191755e-03 2.75435890e-04]\n",
      "0\n",
      "[0.00605775 0.03505198 0.95889027]\n",
      "2\n",
      "[1.29988996e-04 1.16123585e-02 9.88257652e-01]\n",
      "2\n",
      "[0.25718735 0.00251729 0.74029537]\n",
      "2\n",
      "[0.8713217  0.04747951 0.08119879]\n",
      "0\n",
      "[0.72304783 0.11612005 0.16083212]\n",
      "0\n",
      "[6.48738169e-04 5.40423152e-02 9.45308947e-01]\n",
      "2\n",
      "[0.00199189 0.01726812 0.98073999]\n",
      "2\n",
      "[0.00749994 0.02274489 0.96975517]\n",
      "2\n",
      "[0.02603763 0.19716973 0.77679264]\n",
      "2\n",
      "[0.98976405 0.00917461 0.00106133]\n",
      "0\n",
      "[0.45242172 0.09557299 0.4520053 ]\n",
      "0\n",
      "[9.95089894e-01 4.84810887e-03 6.19970923e-05]\n",
      "0\n",
      "[0.82251282 0.03544131 0.14204587]\n",
      "0\n",
      "[0.95540906 0.04070278 0.00388817]\n",
      "0\n",
      "[4.15668417e-04 5.88489510e-03 9.93699436e-01]\n",
      "2\n",
      "[9.18270010e-06 1.87707685e-03 9.98113740e-01]\n",
      "2\n",
      "[0.21035222 0.36776512 0.42188266]\n",
      "2\n",
      "[8.17023987e-05 1.29328955e-02 9.86985402e-01]\n",
      "2\n",
      "[0.00605775 0.03505198 0.95889027]\n",
      "2\n",
      "[9.94498277e-01 5.35960848e-03 1.42114812e-04]\n",
      "0\n",
      "[0.98060428 0.0169161  0.00247963]\n",
      "0\n",
      "[0.0029831  0.08476045 0.91225646]\n",
      "2\n",
      "[0.00625709 0.69926223 0.29448069]\n",
      "1\n",
      "[9.82264516e-01 1.77080448e-02 2.74391876e-05]\n",
      "0\n",
      "[9.83237829e-01 1.61969956e-02 5.65175093e-04]\n",
      "0\n",
      "[0.75491251 0.22339095 0.02169654]\n",
      "0\n",
      "[0.98253383 0.01222833 0.00523783]\n",
      "0\n",
      "[8.91654909e-04 1.35140925e-02 9.85594253e-01]\n",
      "2\n",
      "[2.50605207e-04 2.64771801e-02 9.73272215e-01]\n",
      "2\n",
      "[0.00604194 0.01421355 0.97974451]\n",
      "2\n",
      "[0.17296262 0.24652381 0.58051358]\n",
      "2\n",
      "[9.95122683e-01 4.86816144e-03 9.15518221e-06]\n",
      "0\n",
      "[0.01494396 0.02876762 0.95628842]\n",
      "2\n",
      "[0.98794553 0.01081811 0.00123636]\n",
      "0\n",
      "[0.78669458 0.12081665 0.09248877]\n",
      "0\n",
      "[0.00245255 0.01114357 0.98640388]\n",
      "2\n",
      "[7.89664615e-04 8.40356622e-03 9.90806769e-01]\n",
      "2\n",
      "[0.00177649 0.01112666 0.98709685]\n",
      "2\n",
      "[0.45242172 0.09557299 0.4520053 ]\n",
      "0\n",
      "[0.82967314 0.16656514 0.00376172]\n",
      "0\n",
      "[7.23338897e-05 8.03958526e-03 9.91888081e-01]\n",
      "2\n",
      "[0.82755343 0.11285169 0.05959488]\n",
      "0\n",
      "[9.84424574e-01 1.54151638e-02 1.60261892e-04]\n",
      "0\n",
      "[0.99319471 0.0053653  0.00143999]\n",
      "0\n",
      "[0.80177156 0.16134609 0.03688235]\n",
      "0\n",
      "[9.18270010e-06 1.87707685e-03 9.98113740e-01]\n",
      "2\n",
      "[9.88943777e-01 1.08734701e-02 1.82752930e-04]\n",
      "0\n",
      "[8.03704212e-06 4.77358396e-03 9.95218379e-01]\n",
      "2\n",
      "[0.00223663 0.0276149  0.97014847]\n",
      "2\n",
      "[1.04114782e-05 3.03105056e-03 9.96958538e-01]\n",
      "2\n",
      "[0.05166575 0.03493589 0.91339837]\n",
      "2\n",
      "[0.43572585 0.00245041 0.56182374]\n",
      "2\n",
      "[0.01494396 0.02876762 0.95628842]\n",
      "2\n",
      "[9.99184444e-01 8.10086558e-04 5.46894227e-06]\n",
      "0\n",
      "[0.0367482  0.01273671 0.9505151 ]\n",
      "2\n",
      "[0.81189692 0.09026017 0.09784291]\n",
      "0\n",
      "[0.6851863  0.12532762 0.18948607]\n",
      "0\n",
      "[9.78655085e-01 2.11248055e-02 2.20109695e-04]\n",
      "0\n",
      "[0.82859186 0.14806073 0.02334741]\n",
      "0\n",
      "[0.0078402  0.00904037 0.98311944]\n",
      "2\n",
      "[0.00117031 0.00210096 0.99672873]\n",
      "2\n",
      "[9.92347997e-01 7.25275391e-03 3.99248871e-04]\n",
      "0\n",
      "[0.25102975 0.02080622 0.72816403]\n",
      "2\n",
      "[0.08967925 0.10123722 0.80908353]\n",
      "2\n",
      "[8.91654909e-04 1.35140925e-02 9.85594253e-01]\n",
      "2\n",
      "[0.23377321 0.07161255 0.69461424]\n",
      "2\n",
      "[8.91654909e-04 1.35140925e-02 9.85594253e-01]\n",
      "2\n",
      "[0.92246024 0.06927396 0.00826579]\n",
      "0\n",
      "[0.96872445 0.02459731 0.00667824]\n",
      "0\n",
      "[0.00509384 0.00873236 0.9861738 ]\n",
      "2\n",
      "[8.86297519e-01 1.13408811e-01 2.93669604e-04]\n",
      "0\n",
      "[3.74410039e-04 4.16724808e-03 9.95458342e-01]\n",
      "2\n",
      "[0.98060428 0.0169161  0.00247963]\n",
      "0\n",
      "[0.91436028 0.03679262 0.0488471 ]\n",
      "0\n",
      "[9.38145759e-05 5.11086738e-03 9.94795318e-01]\n",
      "2\n",
      "[2.91348580e-04 1.59873509e-03 9.98109916e-01]\n",
      "2\n",
      "[0.86453898 0.1172717  0.01818932]\n",
      "0\n",
      "[2.55117713e-04 4.06762477e-03 9.95677258e-01]\n",
      "2\n",
      "[0.94121983 0.05713744 0.00164274]\n",
      "0\n",
      "[0.98783381 0.0060652  0.00610099]\n",
      "0\n",
      "[0.69079007 0.28178145 0.02742847]\n",
      "0\n",
      "[0.13624742 0.78112981 0.08262278]\n",
      "1\n",
      "[0.00199189 0.01726812 0.98073999]\n",
      "2\n",
      "[0.10805474 0.10237475 0.78957051]\n",
      "2\n",
      "[8.91654909e-04 1.35140925e-02 9.85594253e-01]\n",
      "2\n",
      "[9.68016950e-01 3.13058388e-02 6.77211252e-04]\n",
      "0\n",
      "[0.00245255 0.01114357 0.98640388]\n",
      "2\n",
      "[9.97699276e-01 2.27803950e-03 2.26841184e-05]\n",
      "0\n",
      "[9.92695741e-01 7.27585149e-03 2.84078399e-05]\n",
      "0\n",
      "[0.16540534 0.17179708 0.66279758]\n",
      "2\n",
      "[0.46651301 0.0948319  0.43865509]\n",
      "0\n",
      "[9.95122683e-01 4.86816144e-03 9.15518221e-06]\n",
      "0\n",
      "[0.64461987 0.33468757 0.02069256]\n",
      "0\n",
      "[0.56997261 0.02171872 0.40830866]\n",
      "0\n",
      "[9.78766171e-01 2.07852170e-02 4.48612282e-04]\n",
      "0\n",
      "[0.11723429 0.06486872 0.81789698]\n",
      "2\n",
      "[1.84677264e-04 4.05892538e-03 9.95756397e-01]\n",
      "2\n",
      "[0.03004044 0.08699657 0.88296299]\n",
      "2\n",
      "[9.78766171e-01 2.07852170e-02 4.48612282e-04]\n",
      "0\n",
      "[0.87420995 0.05739455 0.0683955 ]\n",
      "0\n",
      "[0.00509384 0.00873236 0.9861738 ]\n",
      "2\n",
      "[0.94121983 0.05713744 0.00164274]\n",
      "0\n",
      "[0.96341961 0.02538285 0.01119754]\n",
      "0\n",
      "[9.70961827e-01 2.84233414e-02 6.14831434e-04]\n",
      "0\n",
      "[2.91348580e-04 1.59873509e-03 9.98109916e-01]\n",
      "2\n",
      "[9.68016950e-01 3.13058388e-02 6.77211252e-04]\n",
      "0\n",
      "[0.4520078  0.43519078 0.11280142]\n",
      "0\n",
      "[9.97458855e-01 2.51608895e-03 2.50555843e-05]\n",
      "0\n",
      "[2.55117713e-04 4.06762477e-03 9.95677258e-01]\n",
      "2\n",
      "[0.94820698 0.04549319 0.00629983]\n",
      "0\n",
      "[0.8588956  0.11276576 0.02833864]\n",
      "0\n",
      "[0.9926007  0.00393773 0.00346157]\n",
      "0\n",
      "[0.81485947 0.17209569 0.01304484]\n",
      "0\n",
      "[0.9052606  0.04088349 0.05385591]\n",
      "0\n",
      "[0.89698444 0.09593485 0.00708071]\n",
      "0\n",
      "[8.86297519e-01 1.13408811e-01 2.93669604e-04]\n",
      "0\n",
      "[0.92073209 0.07704782 0.0022201 ]\n",
      "0\n",
      "[0.00220054 0.12756272 0.87023673]\n",
      "2\n",
      "[9.83237829e-01 1.61969956e-02 5.65175093e-04]\n",
      "0\n",
      "[0.29538303 0.14970188 0.55491509]\n",
      "2\n",
      "[0.97698647 0.01898032 0.00403321]\n",
      "0\n",
      "[0.79634449 0.02025359 0.18340193]\n",
      "0\n",
      "[0.75902055 0.05245639 0.18852306]\n",
      "0\n",
      "[0.00117031 0.00210096 0.99672873]\n",
      "2\n",
      "[0.94987872 0.039376   0.01074528]\n",
      "0\n",
      "[8.17023987e-05 1.29328955e-02 9.86985402e-01]\n",
      "2\n",
      "[0.77970247 0.02190783 0.1983897 ]\n",
      "0\n",
      "[3.30379291e-04 2.58193648e-03 9.97087684e-01]\n",
      "2\n",
      "[0.0057644  0.05611595 0.93811965]\n",
      "2\n",
      "[0.02172789 0.00906859 0.96920351]\n",
      "2\n",
      "[9.97458855e-01 2.51608895e-03 2.50555843e-05]\n",
      "0\n",
      "[9.22183032e-05 2.42289378e-04 9.99665492e-01]\n",
      "2\n",
      "[9.70961827e-01 2.84233414e-02 6.14831434e-04]\n",
      "0\n",
      "[0.00170326 0.04290396 0.95539278]\n",
      "2\n",
      "[0.00229265 0.00684041 0.99086693]\n",
      "2\n",
      "[0.72773822 0.15406116 0.11820062]\n",
      "0\n",
      "[9.85231146e-01 1.47323943e-02 3.64600807e-05]\n",
      "0\n",
      "[0.00229265 0.00684041 0.99086693]\n",
      "2\n",
      "[9.95184902e-01 4.61694400e-03 1.98153663e-04]\n",
      "0\n",
      "[8.03704212e-06 4.77358396e-03 9.95218379e-01]\n",
      "2\n",
      "[0.97814415 0.01615137 0.00570448]\n",
      "0\n",
      "[7.23338897e-05 8.03958526e-03 9.91888081e-01]\n",
      "2\n",
      "[0.28285529 0.3611892  0.35595551]\n",
      "1\n",
      "[0.01392737 0.00248905 0.98358358]\n",
      "2\n",
      "[2.88856832e-04 6.55921775e-03 9.93151925e-01]\n",
      "2\n",
      "[2.85056312e-04 4.21406415e-03 9.95500880e-01]\n",
      "2\n",
      "[9.88248693e-01 1.13643273e-02 3.86979817e-04]\n",
      "0\n",
      "[0.85851751 0.13153431 0.00994818]\n",
      "0\n",
      "[9.94498277e-01 5.35960848e-03 1.42114812e-04]\n",
      "0\n",
      "[0.05166575 0.03493589 0.91339837]\n",
      "2\n",
      "[0.10229944 0.79181025 0.10589031]\n",
      "1\n",
      "[0.9729606  0.02124623 0.00579317]\n",
      "0\n",
      "[9.94048014e-01 5.81443361e-03 1.37552100e-04]\n",
      "0\n",
      "[0.00245255 0.01114357 0.98640388]\n",
      "2\n",
      "[0.86883262 0.03450035 0.09666704]\n",
      "0\n",
      "[0.39880019 0.02393998 0.57725983]\n",
      "2\n",
      "[0.00259073 0.01100866 0.98640061]\n",
      "2\n",
      "[0.01671732 0.1086225  0.87466018]\n",
      "2\n",
      "[0.05410762 0.05571721 0.89017517]\n",
      "2\n",
      "[0.68478493 0.2212005  0.09401457]\n",
      "0\n",
      "[0.00942487 0.00998489 0.98059024]\n",
      "2\n",
      "[9.95717018e-01 3.94073062e-03 3.42251600e-04]\n",
      "0\n",
      "[8.77330687e-01 1.22014808e-01 6.54504707e-04]\n",
      "0\n",
      "[9.13438219e-01 8.58337783e-02 7.28002535e-04]\n",
      "0\n",
      "[0.44076456 0.06621546 0.49301998]\n",
      "2\n",
      "[0.28666936 0.10201261 0.61131803]\n",
      "2\n",
      "[9.81059366e-01 1.89116846e-02 2.89495991e-05]\n",
      "0\n",
      "[0.00519291 0.03549553 0.95931156]\n",
      "2\n",
      "[0.80619009 0.16750866 0.02630124]\n",
      "0\n",
      "[0.00519291 0.03549553 0.95931156]\n",
      "2\n",
      "[0.9726159  0.02619595 0.00118816]\n",
      "0\n",
      "[0.58823484 0.06642518 0.34533998]\n",
      "0\n",
      "[0.01729107 0.01145575 0.97125319]\n",
      "2\n",
      "[0.53544163 0.24935744 0.21520093]\n",
      "0\n",
      "[0.01078845 0.0039336  0.98527795]\n",
      "2\n",
      "[0.00172676 0.00304094 0.9952323 ]\n",
      "2\n",
      "[9.84424574e-01 1.54151638e-02 1.60261892e-04]\n",
      "0\n",
      "[0.79262276 0.16106202 0.04631522]\n",
      "0\n",
      "[2.91348580e-04 1.59873509e-03 9.98109916e-01]\n",
      "2\n",
      "[0.00792242 0.01403188 0.9780457 ]\n",
      "2\n",
      "[0.57776998 0.21560589 0.20662413]\n",
      "0\n",
      "[0.92246024 0.06927396 0.00826579]\n",
      "0\n",
      "[0.21035222 0.36776512 0.42188266]\n",
      "2\n",
      "[0.00259073 0.01100866 0.98640061]\n",
      "2\n",
      "[0.94966361 0.04760065 0.00273574]\n",
      "0\n",
      "[0.21702543 0.11048653 0.67248804]\n",
      "2\n",
      "[9.25729947e-01 7.36378647e-02 6.32188012e-04]\n",
      "0\n",
      "[0.0063647  0.05608425 0.93755105]\n",
      "2\n",
      "[0.00245255 0.01114357 0.98640388]\n",
      "2\n",
      "[0.07390031 0.48222938 0.44387031]\n",
      "1\n",
      "[0.00170326 0.04290396 0.95539278]\n",
      "2\n",
      "[0.05166575 0.03493589 0.91339837]\n",
      "2\n",
      "[0.79634449 0.02025359 0.18340193]\n",
      "0\n",
      "[9.55406416e-01 4.40047615e-02 5.88822541e-04]\n",
      "0\n",
      "[0.76052096 0.22875342 0.01072562]\n",
      "0\n",
      "[0.97214384 0.02286158 0.00499457]\n",
      "0\n",
      "[0.52328459 0.25324984 0.22346557]\n",
      "0\n",
      "[0.27995889 0.13762338 0.58241772]\n",
      "2\n",
      "[9.92347997e-01 7.25275391e-03 3.99248871e-04]\n",
      "0\n",
      "[0.27995889 0.13762338 0.58241772]\n",
      "2\n",
      "[0.12685492 0.35496083 0.51818425]\n",
      "2\n",
      "[0.9669692  0.03096539 0.00206541]\n",
      "0\n",
      "[7.73327439e-05 1.30893220e-02 9.86833345e-01]\n",
      "2\n",
      "[4.70104603e-04 9.47884313e-03 9.90051052e-01]\n",
      "2\n",
      "[0.5860005  0.06722666 0.34677284]\n",
      "0\n",
      "[0.66746284 0.20019571 0.13234145]\n",
      "0\n",
      "[0.49897729 0.20969835 0.29132436]\n",
      "0\n",
      "[0.60257881 0.32912429 0.0682969 ]\n",
      "0\n",
      "[0.08766811 0.7641843  0.14814759]\n",
      "1\n",
      "[5.78614095e-04 4.56275833e-04 9.98965110e-01]\n",
      "2\n",
      "[0.04102377 0.08618548 0.87279074]\n",
      "2\n",
      "[0.27853015 0.33563488 0.38583496]\n",
      "2\n",
      "[0.68290078 0.06956529 0.24753393]\n",
      "0\n",
      "[0.0116528  0.00156357 0.98678363]\n",
      "2\n",
      "[0.9319023  0.06438887 0.00370883]\n",
      "0\n",
      "[0.00150892 0.00772113 0.99076995]\n",
      "2\n",
      "[0.00483061 0.00627291 0.98889648]\n",
      "2\n",
      "[0.89084602 0.05954525 0.04960873]\n",
      "0\n",
      "[0.01828078 0.02870398 0.95301524]\n",
      "2\n",
      "[0.97217785 0.02127009 0.00655207]\n",
      "0\n",
      "[0.98755354 0.00799281 0.00445365]\n",
      "0\n",
      "[9.76593684e-01 2.29117853e-02 4.94530881e-04]\n",
      "0\n",
      "[0.13153034 0.09987275 0.76859691]\n",
      "2\n",
      "[0.43835558 0.09901729 0.46262713]\n",
      "2\n",
      "[0.04902418 0.0354464  0.91552942]\n",
      "2\n",
      "[0.06554448 0.01380699 0.92064852]\n",
      "2\n",
      "[0.00291996 0.01767093 0.97940911]\n",
      "2\n",
      "[0.00608792 0.02199856 0.97191352]\n",
      "2\n",
      "[0.98527086 0.01373231 0.00099683]\n",
      "0\n",
      "[0.00217046 0.00692448 0.99090506]\n",
      "2\n",
      "[0.22983896 0.01337588 0.75678516]\n",
      "2\n",
      "[0.00608792 0.02199856 0.97191352]\n",
      "2\n",
      "[2.88856832e-04 6.55921775e-03 9.93151925e-01]\n",
      "2\n",
      "[0.90863258 0.01704038 0.07432704]\n",
      "0\n",
      "[0.79634449 0.02025359 0.18340193]\n",
      "0\n",
      "[0.17008915 0.04023385 0.789677  ]\n",
      "2\n",
      "[9.68016950e-01 3.13058388e-02 6.77211252e-04]\n",
      "0\n",
      "[1.84677264e-04 4.05892538e-03 9.95756397e-01]\n",
      "2\n",
      "[0.00134995 0.0024388  0.99621125]\n",
      "2\n",
      "[0.00199189 0.01726812 0.98073999]\n",
      "2\n",
      "[1.46502550e-04 1.86392385e-02 9.81214259e-01]\n",
      "2\n",
      "[0.00161171 0.04341071 0.95497758]\n",
      "2\n",
      "[0.00913898 0.00892061 0.98194041]\n",
      "2\n",
      "[0.61278559 0.37603865 0.01117576]\n",
      "0\n",
      "[2.22541567e-04 1.03097487e-02 9.89467710e-01]\n",
      "2\n",
      "[9.85231146e-01 1.47323943e-02 3.64600807e-05]\n",
      "0\n",
      "[0.71361677 0.09004003 0.1963432 ]\n",
      "0\n",
      "[9.92978943e-01 6.93024337e-03 9.08137090e-05]\n",
      "0\n",
      "[9.97699276e-01 2.27803950e-03 2.26841184e-05]\n",
      "0\n",
      "[0.00245255 0.01114357 0.98640388]\n",
      "2\n",
      "[9.68630770e-01 3.07752976e-02 5.93931995e-04]\n",
      "0\n",
      "[1.35101739e-04 2.25258284e-03 9.97612315e-01]\n",
      "2\n",
      "[0.53301427 0.05519033 0.41179539]\n",
      "0\n",
      "[0.46023363 0.14023918 0.39952719]\n",
      "0\n",
      "[0.2914619  0.13787284 0.57066526]\n",
      "2\n",
      "[9.40755621e-01 5.90033339e-02 2.41045400e-04]\n",
      "0\n",
      "[0.73264093 0.15990164 0.10745742]\n",
      "0\n",
      "[9.79116512e-01 2.08515676e-02 3.19204450e-05]\n",
      "0\n",
      "[0.21702543 0.11048653 0.67248804]\n",
      "2\n",
      "[0.85749447 0.06454824 0.07795729]\n",
      "0\n",
      "[2.88856832e-04 6.55921775e-03 9.93151925e-01]\n",
      "2\n",
      "[0.00281212 0.00439747 0.99279041]\n",
      "2\n"
     ]
    },
    {
     "name": "stdout",
     "output_type": "stream",
     "text": [
      "[0.94935022 0.04237576 0.00827402]\n",
      "0\n",
      "[0.00245255 0.01114357 0.98640388]\n",
      "2\n",
      "[9.94498277e-01 5.35960848e-03 1.42114812e-04]\n",
      "0\n",
      "[3.74410039e-04 4.16724808e-03 9.95458342e-01]\n",
      "2\n",
      "[0.72842106 0.26971688 0.00186206]\n",
      "0\n",
      "[0.85749447 0.06454824 0.07795729]\n",
      "0\n",
      "[0.00477399 0.08582458 0.90940143]\n",
      "2\n",
      "[-1, 1, -1, -1, -1, 1, 1, -1, -1, -1, -1, 1, 1, 1, 1, 1, -1, -1, -1, -1, -1, 1, 1, -1, 0, 1, 1, 1, 1, -1, -1, -1, -1, 1, -1, 1, 1, -1, -1, -1, 1, 1, -1, 1, 1, 1, 1, -1, 1, -1, -1, -1, -1, -1, -1, 1, -1, 1, 1, 1, 1, -1, -1, 1, -1, -1, -1, -1, -1, 1, 1, -1, 1, -1, 1, 1, -1, -1, 1, -1, 1, 1, 1, 0, -1, -1, -1, 1, -1, 1, 1, -1, 1, 1, 1, 1, 1, -1, -1, -1, 1, 1, -1, 1, 1, 1, -1, 1, 1, 1, -1, 1, 1, 1, 1, 1, 1, 1, 1, -1, 1, -1, 1, 1, 1, -1, 1, -1, 1, -1, -1, -1, 1, -1, 1, -1, -1, 1, 1, -1, 1, -1, 1, -1, 0, -1, -1, -1, 1, 1, 1, -1, 0, 1, 1, -1, 1, -1, -1, -1, -1, 1, -1, 1, 1, 1, -1, -1, 1, -1, 1, -1, 1, 1, -1, 1, -1, -1, 1, 1, -1, -1, 1, 1, -1, -1, 1, -1, 1, -1, -1, 0, -1, -1, 1, 1, 1, 1, 1, -1, 1, -1, -1, 1, -1, -1, 1, 1, 1, 1, 0, -1, -1, -1, 1, -1, 1, -1, -1, 1, -1, 1, 1, 1, -1, -1, -1, -1, -1, -1, 1, -1, -1, -1, -1, 1, 1, -1, 1, -1, -1, -1, -1, -1, -1, 1, -1, 1, 1, 1, 1, -1, 1, -1, 1, 1, -1, 1, 1, 1, -1, 1, -1, -1, 1, -1, 1, -1, 1, 1, -1]\n"
     ]
    }
   ],
   "source": [
    "y_mat = []\n",
    "classification = []\n",
    "probs=([])\n",
    "X_test = np.array(test_x, dtype = np.float64) #Used to test the classification on test data\n",
    "X_val = np.array(val_x, dtype = np.float64)\n",
    "\n",
    "for o in range(len(X_val)): #len(val_x)):#len(test_x))::\n",
    "    y_mat.append(np.dot(thetas1,X_val[o]))  #Could have used X2 or X3, they're the same as X. Use X to check training \n",
    "    y_mat.append(np.dot(thetas2,X_val[o]))  #classification instead of X_test and X_val\n",
    "    y_mat.append(np.dot(thetas3,X_val[o]))\n",
    "    \n",
    "    probs = f(y_mat)\n",
    "    print(probs)\n",
    "    maxPos = np.argmax(probs)\n",
    "    print(maxPos)\n",
    "    \n",
    "    if maxPos == 0:\n",
    "        classification.append(1)\n",
    "    elif maxPos == 1:\n",
    "        classification.append(0)\n",
    "    elif maxPos == 2:    \n",
    "        classification.append(-1)\n",
    "    \n",
    "    y_mat = []\n",
    "\n",
    "print(classification)    "
   ]
  },
  {
   "cell_type": "code",
   "execution_count": 115,
   "metadata": {},
   "outputs": [
    {
     "name": "stdout",
     "output_type": "stream",
     "text": [
      "1197     1\n",
      "565     -1\n",
      "406     -1\n",
      "1267    -1\n",
      "1003     1\n",
      "        ..\n",
      "114     -1\n",
      "509     -1\n",
      "1352    -1\n",
      "834     -1\n",
      "224      1\n",
      "Name: Class, Length: 271, dtype: object\n"
     ]
    }
   ],
   "source": [
    "#We Print Out The Data We Are Working With\n",
    "#print(train_y)\n",
    "print(test_y)\n",
    "#print(val_y)"
   ]
  },
  {
   "cell_type": "code",
   "execution_count": 121,
   "metadata": {},
   "outputs": [],
   "source": [
    "#Variables used in confusion matrix\n",
    "#Our Analysis of our data is done here \n",
    "\n",
    "\n",
    "true_count0 = 0\n",
    "true_count1 = 0\n",
    "true_count_neg1 = 0\n",
    "\n",
    "pred1_when0 = 0\n",
    "pred1_when_neg1 = 0\n",
    "\n",
    "pred0_when1 = 0\n",
    "pred0_when_neg1= 0\n",
    "\n",
    "pred_neg1_when0 = 0\n",
    "pred_neg1_when1 = 0\n",
    "\n",
    "#We Comment Out the data that we aren't using\n",
    "#val_yy = np.array(train_y,dtype = np.float64)\n",
    "#val_yy = np.array(test_y,dtype = np.float64)\n",
    "val_yy = np.array(val_y, dtype = np.float64) \n",
    "\n",
    "\n",
    "\n",
    "for d in range (len(val_yy)):#len(val_yy)):#len(val_yy)):\n",
    "    if classification[d] == 0 and val_yy[d]==0: #val_yy[d] == 0: #val_yy[d] == 0:   \n",
    "        true_count0 = true_count0+1\n",
    "    if classification[d] == 1 and  val_yy[d] == 1: #val_yy[d]==1: #val_yy[d]==1: \n",
    "        true_count1 = true_count1+1\n",
    "    if classification[d] == -1 and val_yy[d] == -1:#val_yy[d]==-1: #val_yy[d]==-1:    \n",
    "        true_count_neg1 = true_count_neg1+1   \n",
    "        \n",
    "    if classification[d] == 1 and  val_yy[d] == 0:#val_yy[d]==0: #val_yy[d]==0:    \n",
    "        pred1_when0 = pred1_when0+1\n",
    "    if classification[d] == 1 and  val_yy[d] == -1: #val_yy[d]==-1: #val_yy[d]==-1:  \n",
    "        pred1_when_neg1 = pred1_when_neg1+1 \n",
    "        \n",
    "    if classification[d] == 0 and  val_yy[d] == 1: #val_yy[d]==1: #val_yy[d]==1:  \n",
    "        pred0_when1 = pred0_when1+1\n",
    "    if classification[d] == 0 and  val_yy[d] == -1: #val_yy[d]==-1:#val_yy[d]==-1:  #    \n",
    "        pred0_when_neg1= pred0_when_neg1+1\n",
    "        \n",
    "    if classification[d] == -1 and  val_yy[d] == 0: #val_yy[d]==0: #val_yy[d]==0: \n",
    "        pred_neg1_when0 = pred_neg1_when0+1\n",
    "    if classification[d] == -1 and   val_yy[d] == 1: #val_yy[d]==1: #val_yy[d]==1:  \n",
    "         pred_neg1_when1 = pred_neg1_when1+1   \n",
    "\n"
   ]
  },
  {
   "cell_type": "markdown",
   "metadata": {},
   "source": [
    "## Printing Of Analysis, Correct Predictions, Accuracy,Error, Number of Predictions Of Each Class "
   ]
  },
  {
   "cell_type": "code",
   "execution_count": 122,
   "metadata": {},
   "outputs": [
    {
     "name": "stdout",
     "output_type": "stream",
     "text": [
      "True predictions for 0,1,-1\n",
      "1\n",
      "105\n",
      "114\n",
      "Total Correct Predictions Added Up  220\n",
      "\n",
      "False prediction 1 when value was 0 or -1\n",
      "12\n",
      "16\n",
      "False prediction 0 when value was 1 or -1\n",
      "0\n",
      "5\n",
      "\n",
      "False prediction -1 when value was 0 or 1\n",
      "7\n",
      "11\n",
      "\n",
      "Number of prediction data points: 271\n",
      "Overall accuracy:  81.18081180811808\n",
      "Total Misclassification Rate/Error:  18.81918819188192\n"
     ]
    }
   ],
   "source": [
    "print(\"True predictions for 0,1,-1\")            \n",
    "print(true_count0)\n",
    "print(true_count1)\n",
    "print(true_count_neg1)\n",
    "correct_predictions = true_count0+true_count1+true_count_neg1\n",
    "print(\"Total Correct Predictions Added Up \", correct_predictions)\n",
    "print()\n",
    "\n",
    "print(\"False prediction 1 when value was 0 or -1\")   \n",
    "print(pred1_when0)\n",
    "print(pred1_when_neg1)\n",
    "\n",
    "print(\"False prediction 0 when value was 1 or -1\") \n",
    "print(pred0_when1)\n",
    "print(pred0_when_neg1)\n",
    "print()\n",
    "\n",
    "print(\"False prediction -1 when value was 0 or 1\") \n",
    "print(pred_neg1_when0)\n",
    "print(pred_neg1_when1)\n",
    "print()\n",
    " \n",
    "#Comment Out Data you're not using\n",
    "#print(\"Number of prediction data points:\",len(train_y))\n",
    "#print(\"Number of prediction data points:\",len(test_y))\n",
    "print(\"Number of prediction data points:\", len(val_y))\n",
    "\n",
    "#accuracy = correct_predictions/len(train_y)\n",
    "#accuracy = correct_predictions/len(test_y)\n",
    "accuracy = correct_predictions/len(val_y)\n",
    "\n",
    "print(\"Overall accuracy: \", accuracy*100)\n",
    "print(\"Total Misclassification Rate/Error: \", (1-accuracy)*100)\n",
    "\n",
    "#print(\"Error for logistic model 1: \", error1[-1])\n",
    "#print(\"Error for logistic model 2: \",error2[-1])\n",
    "#print(\"Error for logistic model 3: \", error3[-1])"
   ]
  },
  {
   "cell_type": "markdown",
   "metadata": {},
   "source": [
    "## Confusion Matrix"
   ]
  },
  {
   "cell_type": "code",
   "execution_count": 123,
   "metadata": {},
   "outputs": [
    {
     "name": "stdout",
     "output_type": "stream",
     "text": [
      "\t \t Predicted\n",
      "\t \t 0  \t  1 \t -1\n",
      "actual 0 \t 1 \t 12 \t 7\n",
      "actual 1 \t 0 \t 105 \t 11\n",
      "actual -1 \t 5 \t 16 \t 114\n"
     ]
    }
   ],
   "source": [
    "print(\"\\t \\t Predicted\")\n",
    "print(\"\\t \\t\", \"0 \",\"\\t\",\" 1\",\"\\t\", \"-1\")\n",
    "print(\"actual 0 \\t\",true_count0,\"\\t\", pred1_when0,\"\\t\",pred_neg1_when0)\n",
    "print(\"actual 1 \\t\",pred0_when1,\"\\t\", true_count1,\"\\t\",pred_neg1_when1)\n",
    "print(\"actual -1 \\t\",pred0_when_neg1,\"\\t\", pred1_when_neg1,\"\\t\",true_count_neg1)"
   ]
  },
  {
   "cell_type": "markdown",
   "metadata": {},
   "source": []
  },
  {
   "cell_type": "code",
   "execution_count": null,
   "metadata": {},
   "outputs": [],
   "source": []
  },
  {
   "cell_type": "code",
   "execution_count": null,
   "metadata": {},
   "outputs": [],
   "source": []
  }
 ],
 "metadata": {
  "kernelspec": {
   "display_name": "Python 3",
   "language": "python",
   "name": "python3"
  },
  "language_info": {
   "codemirror_mode": {
    "name": "ipython",
    "version": 3
   },
   "file_extension": ".py",
   "mimetype": "text/x-python",
   "name": "python",
   "nbconvert_exporter": "python",
   "pygments_lexer": "ipython3",
   "version": "3.7.4"
  },
  "pycharm": {
   "stem_cell": {
    "cell_type": "raw",
    "metadata": {
     "collapsed": false
    },
    "source": []
   }
  }
 },
 "nbformat": 4,
 "nbformat_minor": 2
}
