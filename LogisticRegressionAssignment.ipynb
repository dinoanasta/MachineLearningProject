{
 "cells": [
  {
   "cell_type": "markdown",
   "metadata": {},
   "source": [
    "# Website Phishing"
   ]
  },
  {
   "cell_type": "markdown",
   "metadata": {},
   "source": [
    "## Group Members:\n",
    "#### Dino Anastasopoulos: 1900661\n",
    "\n",
    "#### Timothy Walters: 1855167\n",
    "\n",
    "#### Razeen Gani: 1842173\n",
    "\n",
    "#### Reece James Peters: 1924514"
   ]
  },
  {
   "cell_type": "markdown",
   "metadata": {},
   "source": [
    "## Library imports"
   ]
  },
  {
   "cell_type": "code",
   "execution_count": 32,
   "metadata": {
    "pycharm": {
     "is_executing": true
    }
   },
   "outputs": [],
   "source": [
    "import numpy as np\n",
    "import pandas as pd\n",
    "\n",
    "import matplotlib.pyplot as plt\n",
    "\n",
    "from sklearn.model_selection import train_test_split"
   ]
  },
  {
   "cell_type": "markdown",
   "metadata": {},
   "source": [
    "## Attributes"
   ]
  },
  {
   "cell_type": "raw",
   "metadata": {},
   "source": [
    "SFH {1,-1,0}\n",
    "popUpWidnow {-1,0,1}\n",
    "SSLfinal_State {1,-1,0}\n",
    "Request_URL {-1,0,1}\n",
    "URL_of_Anchor {-1,0,1}\n",
    "web_traffic {1,0,-1}\n",
    "URL_Length {1,-1,0}\n",
    "age_of_domain {1,-1}\n",
    "having_IP_Address {0,1}\n",
    "Result {0,1,-1}"
   ]
  },
  {
   "cell_type": "markdown",
   "metadata": {},
   "source": [
    "## Create empty design matrix"
   ]
  },
  {
   "cell_type": "code",
   "execution_count": 55,
   "metadata": {
    "pycharm": {
     "is_executing": true
    }
   },
   "outputs": [],
   "source": [
    "designMatrix = pd.DataFrame(columns = [\n",
    "    'SFH',\n",
    "    'PopUpWindow',\n",
    "    'SSL_Final_State',\n",
    "    'Request_URL',\n",
    "    'URL_of_Anchor',\n",
    "    'Web_Traffic',\n",
    "    'URL_Length',\n",
    "    'Age_Of_Domain',\n",
    "    'IP_Address',\n",
    "    'Class',\n",
    "] ) "
   ]
  },
  {
   "cell_type": "markdown",
   "metadata": {},
   "source": [
    "## Import data and populate designMatrix"
   ]
  },
  {
   "cell_type": "code",
   "execution_count": 78,
   "metadata": {
    "pycharm": {
     "is_executing": true
    }
   },
   "outputs": [
    {
     "data": {
      "text/html": [
       "<div>\n",
       "<style scoped>\n",
       "    .dataframe tbody tr th:only-of-type {\n",
       "        vertical-align: middle;\n",
       "    }\n",
       "\n",
       "    .dataframe tbody tr th {\n",
       "        vertical-align: top;\n",
       "    }\n",
       "\n",
       "    .dataframe thead th {\n",
       "        text-align: right;\n",
       "    }\n",
       "</style>\n",
       "<table border=\"1\" class=\"dataframe\">\n",
       "  <thead>\n",
       "    <tr style=\"text-align: right;\">\n",
       "      <th></th>\n",
       "      <th>SFH</th>\n",
       "      <th>PopUpWindow</th>\n",
       "      <th>SSL_Final_State</th>\n",
       "      <th>Request_URL</th>\n",
       "      <th>URL_of_Anchor</th>\n",
       "      <th>Web_Traffic</th>\n",
       "      <th>URL_Length</th>\n",
       "      <th>Age_Of_Domain</th>\n",
       "      <th>IP_Address</th>\n",
       "      <th>Class</th>\n",
       "    </tr>\n",
       "  </thead>\n",
       "  <tbody>\n",
       "    <tr>\n",
       "      <td>0</td>\n",
       "      <td>1</td>\n",
       "      <td>-1</td>\n",
       "      <td>1</td>\n",
       "      <td>-1</td>\n",
       "      <td>-1</td>\n",
       "      <td>1</td>\n",
       "      <td>1</td>\n",
       "      <td>1</td>\n",
       "      <td>0</td>\n",
       "      <td>0</td>\n",
       "    </tr>\n",
       "    <tr>\n",
       "      <td>1</td>\n",
       "      <td>-1</td>\n",
       "      <td>-1</td>\n",
       "      <td>-1</td>\n",
       "      <td>-1</td>\n",
       "      <td>-1</td>\n",
       "      <td>0</td>\n",
       "      <td>1</td>\n",
       "      <td>1</td>\n",
       "      <td>1</td>\n",
       "      <td>1</td>\n",
       "    </tr>\n",
       "    <tr>\n",
       "      <td>2</td>\n",
       "      <td>1</td>\n",
       "      <td>-1</td>\n",
       "      <td>0</td>\n",
       "      <td>0</td>\n",
       "      <td>-1</td>\n",
       "      <td>0</td>\n",
       "      <td>-1</td>\n",
       "      <td>1</td>\n",
       "      <td>0</td>\n",
       "      <td>1</td>\n",
       "    </tr>\n",
       "    <tr>\n",
       "      <td>3</td>\n",
       "      <td>1</td>\n",
       "      <td>0</td>\n",
       "      <td>1</td>\n",
       "      <td>-1</td>\n",
       "      <td>-1</td>\n",
       "      <td>0</td>\n",
       "      <td>1</td>\n",
       "      <td>1</td>\n",
       "      <td>0</td>\n",
       "      <td>0</td>\n",
       "    </tr>\n",
       "    <tr>\n",
       "      <td>4</td>\n",
       "      <td>-1</td>\n",
       "      <td>-1</td>\n",
       "      <td>1</td>\n",
       "      <td>-1</td>\n",
       "      <td>0</td>\n",
       "      <td>0</td>\n",
       "      <td>-1</td>\n",
       "      <td>1</td>\n",
       "      <td>0</td>\n",
       "      <td>1</td>\n",
       "    </tr>\n",
       "    <tr>\n",
       "      <td>...</td>\n",
       "      <td>...</td>\n",
       "      <td>...</td>\n",
       "      <td>...</td>\n",
       "      <td>...</td>\n",
       "      <td>...</td>\n",
       "      <td>...</td>\n",
       "      <td>...</td>\n",
       "      <td>...</td>\n",
       "      <td>...</td>\n",
       "      <td>...</td>\n",
       "    </tr>\n",
       "    <tr>\n",
       "      <td>1348</td>\n",
       "      <td>-1</td>\n",
       "      <td>-1</td>\n",
       "      <td>-1</td>\n",
       "      <td>-1</td>\n",
       "      <td>-1</td>\n",
       "      <td>-1</td>\n",
       "      <td>0</td>\n",
       "      <td>1</td>\n",
       "      <td>0</td>\n",
       "      <td>1</td>\n",
       "    </tr>\n",
       "    <tr>\n",
       "      <td>1349</td>\n",
       "      <td>-1</td>\n",
       "      <td>0</td>\n",
       "      <td>1</td>\n",
       "      <td>0</td>\n",
       "      <td>-1</td>\n",
       "      <td>0</td>\n",
       "      <td>0</td>\n",
       "      <td>1</td>\n",
       "      <td>0</td>\n",
       "      <td>-1</td>\n",
       "    </tr>\n",
       "    <tr>\n",
       "      <td>1350</td>\n",
       "      <td>-1</td>\n",
       "      <td>0</td>\n",
       "      <td>-1</td>\n",
       "      <td>-1</td>\n",
       "      <td>-1</td>\n",
       "      <td>0</td>\n",
       "      <td>-1</td>\n",
       "      <td>-1</td>\n",
       "      <td>0</td>\n",
       "      <td>1</td>\n",
       "    </tr>\n",
       "    <tr>\n",
       "      <td>1351</td>\n",
       "      <td>0</td>\n",
       "      <td>0</td>\n",
       "      <td>1</td>\n",
       "      <td>0</td>\n",
       "      <td>0</td>\n",
       "      <td>0</td>\n",
       "      <td>-1</td>\n",
       "      <td>1</td>\n",
       "      <td>0</td>\n",
       "      <td>1</td>\n",
       "    </tr>\n",
       "    <tr>\n",
       "      <td>1352</td>\n",
       "      <td>1</td>\n",
       "      <td>0</td>\n",
       "      <td>1</td>\n",
       "      <td>1</td>\n",
       "      <td>1</td>\n",
       "      <td>0</td>\n",
       "      <td>-1</td>\n",
       "      <td>-1</td>\n",
       "      <td>0</td>\n",
       "      <td>-1</td>\n",
       "    </tr>\n",
       "  </tbody>\n",
       "</table>\n",
       "<p>1353 rows × 10 columns</p>\n",
       "</div>"
      ],
      "text/plain": [
       "     SFH PopUpWindow SSL_Final_State Request_URL URL_of_Anchor Web_Traffic  \\\n",
       "0      1          -1               1          -1            -1           1   \n",
       "1     -1          -1              -1          -1            -1           0   \n",
       "2      1          -1               0           0            -1           0   \n",
       "3      1           0               1          -1            -1           0   \n",
       "4     -1          -1               1          -1             0           0   \n",
       "...   ..         ...             ...         ...           ...         ...   \n",
       "1348  -1          -1              -1          -1            -1          -1   \n",
       "1349  -1           0               1           0            -1           0   \n",
       "1350  -1           0              -1          -1            -1           0   \n",
       "1351   0           0               1           0             0           0   \n",
       "1352   1           0               1           1             1           0   \n",
       "\n",
       "     URL_Length Age_Of_Domain IP_Address Class  \n",
       "0             1             1          0     0  \n",
       "1             1             1          1     1  \n",
       "2            -1             1          0     1  \n",
       "3             1             1          0     0  \n",
       "4            -1             1          0     1  \n",
       "...         ...           ...        ...   ...  \n",
       "1348          0             1          0     1  \n",
       "1349          0             1          0    -1  \n",
       "1350         -1            -1          0     1  \n",
       "1351         -1             1          0     1  \n",
       "1352         -1            -1          0    -1  \n",
       "\n",
       "[1353 rows x 10 columns]"
      ]
     },
     "execution_count": 78,
     "metadata": {},
     "output_type": "execute_result"
    }
   ],
   "source": [
    "lineNum = 0\n",
    "\n",
    "for line in open(\"Files/data.txt\", \"r\"):\n",
    "    lineSplit = line.strip().split(\",\")\n",
    "    designMatrix.loc[lineNum] = lineSplit   \n",
    "    lineNum+=1\n",
    "    \n",
    "designMatrix"
   ]
  },
  {
   "cell_type": "markdown",
   "metadata": {},
   "source": [
    "## Split into training, validation and testing data"
   ]
  },
  {
   "cell_type": "code",
   "execution_count": 79,
   "metadata": {
    "pycharm": {
     "is_executing": true
    }
   },
   "outputs": [],
   "source": [
    "trainData, testData = train_test_split(designMatrix, test_size = 0.4)\n",
    "\n",
    "testData, valData = train_test_split(testData, test_size = 0.5)"
   ]
  },
  {
   "cell_type": "code",
   "execution_count": 80,
   "metadata": {
    "pycharm": {
     "is_executing": true
    }
   },
   "outputs": [
    {
     "name": "stdout",
     "output_type": "stream",
     "text": [
      "trainData size: 811\n",
      "valData size: 271\n",
      "testData size: 271\n"
     ]
    }
   ],
   "source": [
    "print(\"trainData size: \" + str(len(trainData)))\n",
    "print(\"valData size: \" + str(len(valData)))\n",
    "print(\"testData size: \" + str(len(testData)))"
   ]
  },
  {
   "cell_type": "markdown",
   "metadata": {},
   "source": [
    "## Splitting the train,val and test data by their attributes and classes"
   ]
  },
  {
   "cell_type": "code",
   "execution_count": 81,
   "metadata": {
    "pycharm": {
     "is_executing": true
    }
   },
   "outputs": [
    {
     "name": "stdout",
     "output_type": "stream",
     "text": [
      "     SFH PopUpWindow SSL_Final_State Request_URL URL_of_Anchor Web_Traffic  \\\n",
      "809    1           0               1           0            -1          -1   \n",
      "1239   1           1               1          -1             1          -1   \n",
      "502    1           0               1           0             0           1   \n",
      "744    1          -1               1           1             1           0   \n",
      "417    1          -1               1          -1             1          -1   \n",
      "...   ..         ...             ...         ...           ...         ...   \n",
      "337    1           0               1          -1             1          -1   \n",
      "896    1           0               1           1             1           0   \n",
      "825    1          -1               1          -1            -1           0   \n",
      "1176  -1          -1              -1           0            -1           1   \n",
      "769   -1           1               0           0            -1          -1   \n",
      "\n",
      "     URL_Length Age_Of_Domain IP_Address  \n",
      "809           0             1          0  \n",
      "1239          0             1          0  \n",
      "502           1            -1          0  \n",
      "744          -1             1          0  \n",
      "417          -1             1          0  \n",
      "...         ...           ...        ...  \n",
      "337           0             1          0  \n",
      "896          -1            -1          0  \n",
      "825          -1            -1          0  \n",
      "1176          0            -1          0  \n",
      "769           1             1          1  \n",
      "\n",
      "[811 rows x 9 columns]\n"
     ]
    }
   ],
   "source": [
    "train_x = trainData[[ 'SFH',\n",
    "    'PopUpWindow',\n",
    "    'SSL_Final_State',\n",
    "    'Request_URL',\n",
    "    'URL_of_Anchor',\n",
    "    'Web_Traffic',\n",
    "    'URL_Length',\n",
    "    'Age_Of_Domain',\n",
    "    'IP_Address',]]\n",
    "print(train_x)\n",
    "\n",
    "\n",
    "train_y =trainData['Class']\n",
    "OG_train_y=train_y\n",
    "#print(train_y)\n",
    "\n",
    "test_x =  testData[[ 'SFH',\n",
    "    'PopUpWindow',\n",
    "    'SSL_Final_State',\n",
    "    'Request_URL',\n",
    "    'URL_of_Anchor',\n",
    "    'Web_Traffic',\n",
    "    'URL_Length',\n",
    "    'Age_Of_Domain',\n",
    "    'IP_Address',]]\n",
    "\n",
    "test_y =testData['Class']\n",
    "\n",
    "val_x =  valData[[ 'SFH',\n",
    "    'PopUpWindow',\n",
    "    'SSL_Final_State',\n",
    "    'Request_URL',\n",
    "    'URL_of_Anchor',\n",
    "    'Web_Traffic',\n",
    "    'URL_Length',\n",
    "    'Age_Of_Domain',\n",
    "    'IP_Address',]]\n",
    "\n",
    "val_y =valData['Class']"
   ]
  },
  {
   "cell_type": "markdown",
   "metadata": {},
   "source": [
    "## Defining our logistic regression function, learning rate, tolerance and creating default \"true\" thetas"
   ]
  },
  {
   "cell_type": "code",
   "execution_count": 285,
   "metadata": {},
   "outputs": [],
   "source": [
    "def h(x, θ): # Regression function\n",
    "    return 1/(1+np.exp(-np.dot(x, θ))) # logistic regression using the dot product\n",
    "\n",
    "l_rate = 0.001 #0.00001\n",
    "tol = 0.001"
   ]
  },
  {
   "cell_type": "markdown",
   "metadata": {},
   "source": [
    "## Model 1: Create A Conversion Matrix \n",
    "#### We keep all y-values equal to 1 as 1 and we convert all y-values equal to 0 or -1 to 0"
   ]
  },
  {
   "cell_type": "code",
   "execution_count": 286,
   "metadata": {
    "pycharm": {
     "is_executing": true
    }
   },
   "outputs": [
    {
     "name": "stdout",
     "output_type": "stream",
     "text": [
      "Before: Element -1 exists in Dataframe\n",
      "After: No instances of -1 in dataset\n"
     ]
    }
   ],
   "source": [
    "holder = train_y \n",
    "\n",
    "Con1 = np.copy(holder)\n",
    "Con1 = Con1.reshape(holder.shape[0])\n",
    "\n",
    "#print(Con1.shape)\n",
    "#print(Con1) \n",
    "#print(Con1[87])\n",
    "\n",
    "#Check if there are instances of -1 in dataset\n",
    "if \"-1\" in Con1:\n",
    "    print('Before: Element -1 exists in Dataframe')\n",
    "else:\n",
    "    print('Before: No instances of -1 in dataset')\n",
    "\n",
    "#Change all 0's and -1's to 0's, and all 1's remain unchanged\n",
    "for x in range(Con1.shape[0]):    \n",
    "    if Con1[x] == \"-1\" or Con1[x] == \"0\":\n",
    "        Con1[x] = \"0\"\n",
    "\n",
    "#Check that theres no instances of -1 in dataset\n",
    "if \"-1\" in Con1:\n",
    "    print('After: Element -1 exists in Dataframe')\n",
    "else:\n",
    "    print('After: No instances of -1 in dataset')\n",
    "    \n",
    "#print(Con1) \n",
    "#print(Con1[87])"
   ]
  },
  {
   "cell_type": "markdown",
   "metadata": {},
   "source": [
    "## Logistic Regression For Model 1"
   ]
  },
  {
   "cell_type": "code",
   "execution_count": 287,
   "metadata": {
    "pycharm": {
     "is_executing": true
    },
    "scrolled": true
   },
   "outputs": [
    {
     "name": "stdout",
     "output_type": "stream",
     "text": [
      "[1. 1. 1. 1. 1. 1. 1. 1. 1.]\n",
      "[0. 0. 0. 0. 0. 0. 0. 0. 0.]\n",
      "(9,)\n",
      "(9,)\n",
      "[0.]\n",
      "(811, 1)\n",
      "[ 1.  0.  1.  0. -1. -1.  0.  1.  0.]\n",
      "(811, 9)\n",
      "1200\n",
      "Model Parameters:  [-1.48761743 -1.41026048 -1.51697377 -0.03796275 -0.18757256  0.18116406\n",
      " -0.34305238 -0.25601865  0.66282202]\n"
     ]
    }
   ],
   "source": [
    "thetas1= np.ones(train_x.shape[1]) # initialize our parameters for training data\n",
    "thetas_old = np.zeros(train_x.shape[1]) #initialises \"old parameters which will go in our regression function\"\n",
    "\n",
    "\n",
    "print(thetas1)\n",
    "print(thetas_old)\n",
    "print(thetas1.shape)\n",
    "print(thetas_old.shape)\n",
    "\n",
    "model1_y = np.array(Con1,dtype = np.float64)\n",
    "\n",
    "model1_y = model1_y.reshape(811,1)\n",
    "\n",
    "print(model1_y[0])\n",
    "print(model1_y.shape)\n",
    "\n",
    "X = np.array(train_x, dtype = np.float64)  \n",
    "\n",
    "print(X[0])\n",
    "print(X.shape)\n",
    "\n",
    "error1 = []\n",
    "timeline1 = []\n",
    "iterations1 = 0\n",
    "\n",
    "while np.linalg.norm(abs(thetas1 - thetas_old)) > tol and iterations1 != 1200:\n",
    "\n",
    "    \n",
    "    for i in range(X.shape[0]): \n",
    "        thetas1 = thetas1 - l_rate*( (h(X[i], thetas1) - model1_y[i]) * X[i])\n",
    "        #print(thetas1-thetas_old)\n",
    "        \n",
    "\n",
    "     \n",
    "    if iterations1%50 == 0:                              \n",
    "        j = 0.5 * pow(model1_y[i] - h(X[i], thetas1), 2) \n",
    "        error1.append(j)\n",
    "        timeline1.append(iterations1)   \n",
    "        #print(\"Error:\" + str(error))\n",
    "        #print(\"Timeline: \" + str(timeline))\n",
    "        #print()       \n",
    "\n",
    "    iterations1 = iterations1+1   \n",
    "        \n",
    "print(iterations1)        \n",
    "print(\"Model Parameters: \", thetas1)"
   ]
  },
  {
   "cell_type": "markdown",
   "metadata": {},
   "source": [
    "### Plot Model 1 error"
   ]
  },
  {
   "cell_type": "code",
   "execution_count": 288,
   "metadata": {},
   "outputs": [
    {
     "data": {
      "text/plain": [
       "[<matplotlib.lines.Line2D at 0x1d0bb3b0488>]"
      ]
     },
     "execution_count": 288,
     "metadata": {},
     "output_type": "execute_result"
    },
    {
     "data": {
      "image/png": "[encoded data removed]",
      "text/plain": [
       "<Figure size 432x288 with 1 Axes>"
      ]
     },
     "metadata": {
      "needs_background": "light"
     },
     "output_type": "display_data"
    }
   ],
   "source": [
    "size = len(error1)\n",
    "\n",
    "x1_time = np.zeros(size)\n",
    "y1_error= np.zeros(size) \n",
    "\n",
    "for i in range(0, size):\n",
    "    x1_time[i] = timeline1[i]\n",
    "    y1_error[i] = error1[i]\n",
    "\n",
    "plt.axhline(0,color='black') # plot horizontal axis at 0\n",
    "plt.axvline(0,color='black') # plot vertical axis at 0\n",
    "plt.xlabel('Timeline')\n",
    "plt.ylabel('Model 1 Error')\n",
    "plt.plot(x1_time, y1_error, color=\"red\")"
   ]
  },
  {
   "cell_type": "markdown",
   "metadata": {},
   "source": [
    "## Model 2: Create A Conversion Matrix\n",
    "\n",
    "##### We keep all y-values equal to 0 as 1 and we convert all y-values equal to 1 or -1 to 0"
   ]
  },
  {
   "cell_type": "code",
   "execution_count": 289,
   "metadata": {
    "pycharm": {
     "is_executing": true
    }
   },
   "outputs": [
    {
     "name": "stdout",
     "output_type": "stream",
     "text": [
      "Before: Element -1 exists in Dataframe\n",
      "After: No instances of -1 in dataset\n"
     ]
    }
   ],
   "source": [
    "holder = train_y\n",
    "\n",
    "Con2 = np.copy(holder)\n",
    "Con2 = Con2.reshape(holder.shape[0])\n",
    "\n",
    "#print(Con2.shape)\n",
    "#print(Con2)\n",
    "#print(Con2[19])\n",
    "#print(Con2[33])\n",
    "\n",
    "#Check if there are instances of -1 in dataset\n",
    "if \"-1\" in Con2:\n",
    "    print('Before: Element -1 exists in Dataframe')\n",
    "else:\n",
    "    print('Before: No instances of -1 in dataset')\n",
    "    \n",
    "#Change all 0's to 1's, and change all 1's and -1's to 0's\n",
    "for x in range(Con2.shape[0]):    \n",
    "    if Con2[x] == \"0\":\n",
    "        Con2[x] = 1\n",
    "    elif Con2[x] == \"1\" or Con2[x] == \"-1\":\n",
    "        Con2[x] = 0         \n",
    "\n",
    "#Check that theres no instances of -1 in dataset\n",
    "if \"-1\" in Con2:\n",
    "    print('After: Element -1 exists in Dataframe')\n",
    "else:\n",
    "    print('After: No instances of -1 in dataset')\n",
    "                \n",
    "#print(Con2)\n",
    "#print(Con2[19])\n",
    "#print(Con2[33])"
   ]
  },
  {
   "cell_type": "markdown",
   "metadata": {},
   "source": [
    "## Logistic Regression For Model 2"
   ]
  },
  {
   "cell_type": "code",
   "execution_count": 290,
   "metadata": {
    "pycharm": {
     "is_executing": true
    }
   },
   "outputs": [
    {
     "name": "stdout",
     "output_type": "stream",
     "text": [
      "[1. 1. 1. 1. 1. 1. 1. 1. 1.]\n",
      "[0. 0. 0. 0. 0. 0. 0. 0. 0.]\n",
      "(9,)\n",
      "(9,)\n",
      "[0.]\n",
      "(811, 1)\n",
      "[ 1.  0.  1.  0. -1. -1.  0.  1.  0.]\n",
      "(811, 9)\n",
      "424\n",
      "Model Parameters:  [-0.86412113  1.14079975 -0.35352968  0.26669209 -0.06873944 -0.53187178\n",
      "  0.72358946 -0.41039341 -2.50587854]\n"
     ]
    }
   ],
   "source": [
    "thetas2= np.ones(train_x.shape[1]) # initialize our parameters\n",
    "\n",
    "thetas_old = np.zeros(train_x.shape[1]) #initialises \"old parameters which will go in our regression function\"\n",
    "\n",
    "print(thetas2)\n",
    "print(thetas_old)\n",
    "print(thetas2.shape)\n",
    "print(thetas_old.shape)\n",
    "\n",
    "model2_y = np.array(Con2,dtype = np.float64)\n",
    "\n",
    "model2_y = model2_y.reshape(811,1)\n",
    "\n",
    "print(model2_y[0])\n",
    "print(model2_y.shape)\n",
    "\n",
    "X2 = np.array(train_x, dtype = np.float64)  \n",
    "\n",
    "print(X2[0])\n",
    "print(X2.shape)\n",
    "\n",
    "error2 = []\n",
    "timeline2 = []\n",
    "iterations2 = 0\n",
    "\n",
    "while np.linalg.norm(abs(thetas2 - thetas_old)) > tol and iterations2 != 1200:\n",
    "    thetas_old = thetas2\n",
    "    for i in range(X2.shape[0]): \n",
    "        thetas2 = thetas2 - l_rate*( (h(X2[i], thetas2) - model2_y[i]) * X2[i] )\n",
    "        \n",
    "    if iterations2%50 == 0:                              \n",
    "        j = 0.5 * pow(model2_y[i] - h(X2[i], thetas2), 2) \n",
    "        error2.append(j)\n",
    "        timeline2.append(iterations2)   \n",
    "        #print(\"Error:\" + str(error2))\n",
    "        #print(\"Timeline: \" + str(timeline2))\n",
    "        #print()       \n",
    "\n",
    "    iterations2 = iterations2+1   \n",
    "        \n",
    "print(iterations2)        \n",
    "print(\"Model Parameters: \", thetas2)"
   ]
  },
  {
   "cell_type": "markdown",
   "metadata": {
    "pycharm": {
     "name": "#%% md\n"
    }
   },
   "source": [
    "### Plot Model 2 error"
   ]
  },
  {
   "cell_type": "code",
   "execution_count": 291,
   "metadata": {},
   "outputs": [
    {
     "data": {
      "text/plain": [
       "[<matplotlib.lines.Line2D at 0x1d0bb414d08>]"
      ]
     },
     "execution_count": 291,
     "metadata": {},
     "output_type": "execute_result"
    },
    {
     "data": {
      "image/png": "[encoded data removed]",
      "text/plain": [
       "<Figure size 432x288 with 1 Axes>"
      ]
     },
     "metadata": {
      "needs_background": "light"
     },
     "output_type": "display_data"
    }
   ],
   "source": [
    "size = len(error2)\n",
    "\n",
    "x2_time = np.zeros(size)\n",
    "y2_error= np.zeros(size) \n",
    "\n",
    "for i in range(0, size):\n",
    "    x2_time[i] = timeline2[i]\n",
    "    y2_error[i] = error2[i]\n",
    "\n",
    "plt.axhline(0,color='black') \n",
    "plt.axvline(0,color='black') \n",
    "plt.xlabel('Timeline')\n",
    "plt.ylabel('Model 2 Error')\n",
    "plt.plot(x2_time, y2_error, color=\"green\")"
   ]
  },
  {
   "cell_type": "markdown",
   "metadata": {
    "pycharm": {
     "name": "#%% md\n"
    }
   },
   "source": [
    "## Model 3: Create A Conversion Matrix\n",
    "\n",
    "##### We keep all y-values equal to -1 as 1 and we convert all y-values equal to 1 or 0 to 0"
   ]
  },
  {
   "cell_type": "code",
   "execution_count": 292,
   "metadata": {
    "pycharm": {
     "is_executing": true
    }
   },
   "outputs": [
    {
     "name": "stdout",
     "output_type": "stream",
     "text": [
      "Before: Element -1 exists in Dataframe\n",
      "After: No instances of -1 in dataset\n"
     ]
    }
   ],
   "source": [
    "holder = train_y \n",
    "\n",
    "Con3 = np.copy(holder)\n",
    "Con3 = Con3.reshape(holder.shape[0])\n",
    "\n",
    "#print(Con3.shape)\n",
    "#print(Con3)\n",
    "#print(Con3[1])\n",
    "#print(Con3[2])\n",
    "\n",
    "#Check if there are instances of -1 in dataset\n",
    "if \"-1\" in Con3:\n",
    "    print('Before: Element -1 exists in Dataframe')\n",
    "else:\n",
    "    print('Before: No instances of -1 in dataset')\n",
    "    print(Con3)\n",
    "    \n",
    "#Change all -1's to 1's, and change all 1's and 0's to 0\n",
    "for x in range(Con3.shape[0]):    \n",
    "    if Con3[x] == \"-1\":\n",
    "        Con3[x] = 1\n",
    "    elif Con3[x] == \"1\" or Con3[x] == \"0\":\n",
    "        Con3[x] = 0\n",
    "\n",
    "#Check that theres no instances of -1 in dataset\n",
    "if \"-1\" in Con3:\n",
    "    print('After: Element -1 exists in Dataframe')\n",
    "else:\n",
    "    print('After: No instances of -1 in dataset')\n",
    "        \n",
    "#print(Con3)\n",
    "#print(Con3[1])\n",
    "#print(Con3[2])"
   ]
  },
  {
   "cell_type": "code",
   "execution_count": 293,
   "metadata": {
    "pycharm": {
     "is_executing": true
    }
   },
   "outputs": [
    {
     "name": "stdout",
     "output_type": "stream",
     "text": [
      "[1. 1. 1. 1. 1. 1. 1. 1. 1.]\n",
      "[0. 0. 0. 0. 0. 0. 0. 0. 0.]\n",
      "(9,)\n",
      "(9,)\n",
      "[1.]\n",
      "(811, 1)\n",
      "[ 1.  0.  1.  0. -1. -1.  0.  1.  0.]\n",
      "(811, 9)\n",
      "393\n",
      "Model Parameters:  [ 1.68084986  1.90837346  1.34524107  0.99622161  0.29991854 -0.07509314\n",
      " -0.2126432   0.18065853 -0.95132709]\n"
     ]
    }
   ],
   "source": [
    "thetas3= np.ones(train_x.shape[1]) # initialize our parameters\n",
    "\n",
    "thetas_old = np.zeros(train_x.shape[1]) #initialises \"old parameters which will go in our regression function\"\n",
    "\n",
    "print(thetas3)\n",
    "print(thetas_old)\n",
    "print(thetas3.shape)\n",
    "print(thetas_old.shape)\n",
    "\n",
    "model3_y = np.array(Con3,dtype = np.float64)\n",
    "\n",
    "model3_y = model3_y.reshape(811,1)\n",
    "\n",
    "print(model3_y[0])\n",
    "print(model3_y.shape)\n",
    "\n",
    "X3 = np.array(train_x, dtype = np.float64)  \n",
    "\n",
    "print(X3[0])\n",
    "print(X3.shape)\n",
    "\n",
    "error3 = []\n",
    "timeline3 = []\n",
    "iterations3 = 0\n",
    "\n",
    "while np.linalg.norm(abs(thetas3 - thetas_old)) > tol and iterations3 != 1200:\n",
    "    thetas_old = thetas3\n",
    "    for i in range(X3.shape[0]): \n",
    "        thetas3 = thetas3 - l_rate*( (h(X3[i], thetas3) - model3_y[i]) * X3[i] )\n",
    "  \n",
    "    if iterations3%20 == 0:                              \n",
    "        j = 0.5 * pow(model3_y[i] - h(X3[i], thetas3), 2) \n",
    "        error3.append(j)\n",
    "        timeline3.append(iterations3)   \n",
    "        #print(\"Error:\" + str(error3))\n",
    "        #print(\"Timeline: \" + str(timeline3))\n",
    "        #print()       \n",
    "\n",
    "    iterations3 = iterations3 + 1   \n",
    "        \n",
    "print(iterations3)        \n",
    "print(\"Model Parameters: \", thetas3) "
   ]
  },
  {
   "cell_type": "markdown",
   "metadata": {},
   "source": [
    "### Plot Model 3 error"
   ]
  },
  {
   "cell_type": "code",
   "execution_count": 294,
   "metadata": {
    "pycharm": {
     "name": "#%%\n"
    }
   },
   "outputs": [
    {
     "data": {
      "text/plain": [
       "[<matplotlib.lines.Line2D at 0x1d0bb46fd88>]"
      ]
     },
     "execution_count": 294,
     "metadata": {},
     "output_type": "execute_result"
    },
    {
     "data": {
      "image/png": "[encoded data removed]",
      "text/plain": [
       "<Figure size 432x288 with 1 Axes>"
      ]
     },
     "metadata": {
      "needs_background": "light"
     },
     "output_type": "display_data"
    }
   ],
   "source": [
    "size = len(error3)\n",
    "\n",
    "x3_time = np.zeros(size)\n",
    "y3_error= np.zeros(size) \n",
    "\n",
    "for i in range(0, size):\n",
    "    x3_time[i] = timeline3[i]\n",
    "    y3_error[i] = error3[i]\n",
    "\n",
    "plt.axhline(0,color='black') # plot horizontal axis at 0\n",
    "plt.axvline(0,color='black') # plot vertical axis at 0\n",
    "plt.xlabel('Timeline')\n",
    "plt.ylabel('Model 3 Error')\n",
    "plt.plot(x3_time, y3_error, color=\"blue\")"
   ]
  },
  {
   "cell_type": "code",
   "execution_count": null,
   "metadata": {
    "pycharm": {
     "name": "#%%\n"
    },
    "scrolled": true
   },
   "outputs": [],
   "source": []
  },
  {
   "cell_type": "code",
   "execution_count": null,
   "metadata": {
    "pycharm": {
     "name": "#%%\n"
    }
   },
   "outputs": [],
   "source": []
  },
  {
   "cell_type": "code",
   "execution_count": null,
   "metadata": {
    "pycharm": {
     "name": "#%%\n"
    }
   },
   "outputs": [],
   "source": []
  },
  {
   "cell_type": "code",
   "execution_count": null,
   "metadata": {},
   "outputs": [],
   "source": []
  },
  {
   "cell_type": "markdown",
   "metadata": {},
   "source": [
    "# Predicted parameters for each model"
   ]
  },
  {
   "cell_type": "code",
   "execution_count": 295,
   "metadata": {
    "pycharm": {
     "is_executing": true
    }
   },
   "outputs": [
    {
     "name": "stdout",
     "output_type": "stream",
     "text": [
      "1200\n",
      "Predicted Paramters For Model 1  [-1.48761743 -1.41026048 -1.51697377 -0.03796275 -0.18757256  0.18116406\n",
      " -0.34305238 -0.25601865  0.66282202]\n",
      "424\n",
      "Predicted Paramters For Model 2  [-0.86412113  1.14079975 -0.35352968  0.26669209 -0.06873944 -0.53187178\n",
      "  0.72358946 -0.41039341 -2.50587854]\n",
      "393\n",
      "Predicted Paramters For Model 3  [ 1.68084986  1.90837346  1.34524107  0.99622161  0.29991854 -0.07509314\n",
      " -0.2126432   0.18065853 -0.95132709]\n"
     ]
    }
   ],
   "source": [
    "print(iterations1)\n",
    "print('Predicted Paramters For Model 1 ', thetas1)\n",
    "print(iterations2)\n",
    "print('Predicted Paramters For Model 2 ', thetas2)\n",
    "print(iterations3)\n",
    "print('Predicted Paramters For Model 3 ', thetas3)"
   ]
  },
  {
   "cell_type": "markdown",
   "metadata": {
    "pycharm": {
     "is_executing": true
    }
   },
   "source": [
    "## Defines Softmax function and classifies each data instance based on the highest probability"
   ]
  },
  {
   "cell_type": "code",
   "execution_count": 296,
   "metadata": {
    "pycharm": {
     "is_executing": true
    }
   },
   "outputs": [],
   "source": [
    "def f(X): # softmax function\n",
    "\n",
    "    return np.exp(X) / np.sum(np.exp(X))"
   ]
  },
  {
   "cell_type": "code",
   "execution_count": 297,
   "metadata": {},
   "outputs": [
    {
     "name": "stdout",
     "output_type": "stream",
     "text": [
      "[9.40750075e-01 5.90029861e-02 2.46938869e-04]\n",
      "0\n",
      "[0.00482933 0.08681955 0.90835112]\n",
      "2\n",
      "[0.93851004 0.05135952 0.01013044]\n",
      "0\n",
      "[8.04658694e-04 8.56313236e-03 9.90632209e-01]\n",
      "2\n",
      "[0.92616451 0.04653309 0.0273024 ]\n",
      "0\n",
      "[0.55519979 0.34151041 0.10328981]\n",
      "0\n",
      "[0.89606069 0.09275924 0.01118008]\n",
      "0\n",
      "[0.01172943 0.00147188 0.98679869]\n",
      "2\n",
      "[4.32424886e-05 9.95265182e-04 9.98961492e-01]\n",
      "2\n",
      "[7.45564846e-05 8.28661665e-03 9.91638827e-01]\n",
      "2\n",
      "[0.78650926 0.12078818 0.09270256]\n",
      "0\n",
      "[0.75088495 0.21506542 0.03404963]\n",
      "0\n",
      "[9.94847001e-01 5.11982160e-03 3.31776983e-05]\n",
      "0\n",
      "[0.88841931 0.09918991 0.01239078]\n",
      "0\n",
      "[0.00104272 0.00543901 0.99351828]\n",
      "2\n",
      "[0.42820298 0.36826293 0.20353408]\n",
      "0\n",
      "[9.84421179e-01 1.54151107e-02 1.63710240e-04]\n",
      "0\n",
      "[4.05129518e-04 6.96935601e-04 9.98897935e-01]\n",
      "2\n",
      "[3.40908291e-04 4.26624573e-03 9.95392846e-01]\n",
      "2\n",
      "[0.00439011 0.08719177 0.90841812]\n",
      "2\n",
      "[0.33472591 0.04099447 0.62427962]\n",
      "2\n",
      "[0.80143169 0.16127769 0.03729061]\n",
      "0\n",
      "[0.00138589 0.01770918 0.98090494]\n",
      "2\n",
      "[0.00898798 0.00952204 0.98148997]\n",
      "2\n",
      "[0.00690049 0.02311934 0.96998018]\n",
      "2\n",
      "[0.6483452  0.29254427 0.05911053]\n",
      "0\n",
      "[9.93732573e-01 6.03124718e-03 2.36180007e-04]\n",
      "0\n",
      "[3.31337288e-05 6.43830846e-03 9.93528558e-01]\n",
      "2\n",
      "[0.00104272 0.00543901 0.99351828]\n",
      "2\n",
      "[0.00447083 0.02226952 0.97325965]\n",
      "2\n",
      "[0.00264614 0.01124412 0.98610974]\n",
      "2\n",
      "[0.79579598 0.15259938 0.05160464]\n",
      "0\n",
      "[9.98310868e-01 1.68080557e-03 8.32684721e-06]\n",
      "0\n",
      "[0.95462997 0.04353797 0.00183206]\n",
      "0\n",
      "[0.25601748 0.04485715 0.69912537]\n",
      "2\n",
      "[1.91267856e-04 3.12840275e-03 9.96680329e-01]\n",
      "2\n",
      "[0.9400203  0.04716285 0.01281685]\n",
      "0\n",
      "[0.00220944 0.00704885 0.99074172]\n",
      "2\n",
      "[0.94078419 0.04960703 0.00960878]\n",
      "0\n",
      "[0.88517522 0.11280237 0.00202241]\n",
      "0\n",
      "[0.05233445 0.03538806 0.91227749]\n",
      "2\n",
      "[0.57847243 0.21586803 0.20565954]\n",
      "0\n",
      "[0.00922934 0.0056259  0.98514476]\n",
      "2\n",
      "[0.36381721 0.22331177 0.41287102]\n",
      "2\n",
      "[0.68879581 0.29112763 0.02007656]\n",
      "0\n",
      "[0.11405673 0.1010595  0.78488376]\n",
      "2\n",
      "[0.01809081 0.19624341 0.78566578]\n",
      "2\n",
      "[1.07433753e-05 3.12767439e-03 9.96861582e-01]\n",
      "2\n",
      "[0.00580447 0.0359134  0.95828213]\n",
      "2\n",
      "[8.04658694e-04 8.56313236e-03 9.90632209e-01]\n",
      "2\n",
      "[0.98291617 0.01542812 0.00165571]\n",
      "0\n",
      "[0.94973562 0.04231136 0.00795302]\n",
      "0\n",
      "[0.39944557 0.02397872 0.57657571]\n",
      "2\n",
      "[0.95971364 0.02793418 0.01235218]\n",
      "0\n",
      "[0.96675481 0.01660904 0.01663615]\n",
      "0\n",
      "[5.37936843e-05 9.28162856e-03 9.90664578e-01]\n",
      "2\n",
      "[4.24644462e-04 6.01197497e-03 9.93563381e-01]\n",
      "2\n",
      "[0.98524871 0.013732   0.00101929]\n",
      "0\n",
      "[3.85854472e-04 1.03781420e-03 9.98576331e-01]\n",
      "2\n",
      "[0.00523773 0.00668208 0.98808019]\n",
      "2\n",
      "[0.00222006 0.12869427 0.86908566]\n",
      "2\n",
      "[0.93185699 0.06438574 0.00375727]\n",
      "0\n",
      "[1.95864436e-04 1.71644649e-02 9.82639671e-01]\n",
      "2\n",
      "[9.98745188e-01 1.23486126e-03 1.99508993e-05]\n",
      "0\n",
      "[0.00228354 0.02819414 0.96952232]\n",
      "2\n",
      "[0.00191885 0.01778749 0.98029366]\n",
      "2\n",
      "[9.88940053e-01 1.08734292e-02 1.86517663e-04]\n",
      "0\n",
      "[0.90807138 0.01702986 0.07489876]\n",
      "0\n",
      "[0.00643571 0.05670997 0.93685432]\n",
      "2\n",
      "[0.98057946 0.01691567 0.00250487]\n",
      "0\n",
      "[0.00173983 0.04382519 0.95443498]\n",
      "2\n",
      "[2.95607869e-04 6.71251695e-03 9.92991875e-01]\n",
      "2\n",
      "[0.92616451 0.04653309 0.0273024 ]\n",
      "0\n",
      "[9.99183857e-01 8.10086082e-04 6.05698762e-06]\n",
      "0\n",
      "[3.38150315e-04 2.64266756e-03 9.97019182e-01]\n",
      "2\n",
      "[0.9629319  0.03388984 0.00317826]\n",
      "0\n",
      "[0.00249419 0.01133274 0.98617307]\n",
      "2\n",
      "[0.00773845 0.03241945 0.9598421 ]\n",
      "2\n",
      "[9.21436462e-04 3.37481270e-03 9.95703751e-01]\n",
      "2\n",
      "[9.40750075e-01 5.90029861e-02 2.46938869e-04]\n",
      "0\n",
      "[6.97092126e-04 2.15549884e-02 9.77747919e-01]\n",
      "2\n",
      "[0.01308413 0.86661185 0.12030402]\n",
      "1\n",
      "[0.9900552  0.00720643 0.00273837]\n",
      "0\n",
      "[1.95864436e-04 1.71644649e-02 9.82639671e-01]\n",
      "2\n",
      "[0.05720029 0.01423388 0.92856583]\n",
      "2\n",
      "[6.08876244e-05 2.10256918e-02 9.78913421e-01]\n",
      "2\n",
      "[0.01500057 0.00381804 0.98118138]\n",
      "2\n",
      "[0.70645369 0.28935322 0.00419309]\n",
      "0\n",
      "[0.39451363 0.07602407 0.5294623 ]\n",
      "2\n",
      "[9.80021472e-01 1.98737904e-02 1.04737474e-04]\n",
      "0\n",
      "[0.79180199 0.20586053 0.00233748]\n",
      "0\n",
      "[0.51641696 0.1144851  0.36909794]\n",
      "0\n",
      "[1.84262832e-04 4.24697479e-02 9.57345989e-01]\n",
      "2\n",
      "[0.96675481 0.01660904 0.01663615]\n",
      "0\n",
      "[0.62440657 0.04031011 0.33528332]\n",
      "0\n",
      "[0.00772999 0.00166358 0.99060643]\n",
      "2\n",
      "[9.85230186e-01 1.47323799e-02 3.74337776e-05]\n",
      "0\n",
      "[0.77682641 0.18177425 0.04139934]\n",
      "0\n",
      "[3.38150315e-04 2.64266756e-03 9.97019182e-01]\n",
      "2\n",
      "[0.29706201 0.390391   0.31254699]\n",
      "1\n",
      "[7.45564846e-05 8.28661665e-03 9.91638827e-01]\n",
      "2\n",
      "[6.60565533e-04 5.50275788e-02 9.44311856e-01]\n",
      "2\n",
      "[0.13717785 0.0261233  0.83669886]\n",
      "2\n",
      "[0.21643859 0.11018777 0.67337364]\n",
      "2\n",
      "[0.21891589 0.58316103 0.19792307]\n",
      "1\n",
      "[0.95062671 0.03016034 0.01921295]\n",
      "0\n",
      "[0.06668691 0.10377342 0.82953967]\n",
      "2\n",
      "[0.01106251 0.00148437 0.98745312]\n",
      "2\n",
      "[3.14967046e-03 3.16375940e-04 9.96533954e-01]\n",
      "2\n",
      "[0.90082036 0.06238919 0.03679046]\n",
      "0\n",
      "[9.92694963e-01 7.27584580e-03 2.91911143e-05]\n",
      "0\n",
      "[6.97092126e-04 2.15549884e-02 9.77747919e-01]\n",
      "2\n",
      "[0.02055006 0.04595465 0.9334953 ]\n",
      "2\n",
      "[0.98291617 0.01542812 0.00165571]\n",
      "0\n",
      "[0.00716485 0.01426827 0.97856688]\n",
      "2\n",
      "[0.93627893 0.00225732 0.06146374]\n",
      "0\n",
      "[1.31575667e-03 8.82321138e-04 9.97801922e-01]\n",
      "2\n",
      "[0.21891589 0.58316103 0.19792307]\n",
      "1\n",
      "[0.0075049  0.00102653 0.99146857]\n",
      "2\n",
      "[0.91243093 0.0627859  0.02478317]\n",
      "0\n",
      "[9.90076942e-01 9.84116533e-03 8.18925434e-05]\n",
      "0\n",
      "[0.00228354 0.02819414 0.96952232]\n",
      "2\n",
      "[9.84421179e-01 1.54151107e-02 1.63710240e-04]\n",
      "0\n",
      "[0.9629319  0.03388984 0.00317826]\n",
      "0\n",
      "[0.94234095 0.05319364 0.00446541]\n",
      "0\n",
      "[9.95122384e-01 4.86815998e-03 9.45643145e-06]\n",
      "0\n",
      "[8.69950841e-04 9.31658812e-03 9.89813461e-01]\n",
      "2\n",
      "[0.33273144 0.4344477  0.23282086]\n",
      "1\n",
      "[9.25718816e-01 7.36369793e-02 6.44204384e-04]\n",
      "0\n",
      "[0.00119173 0.00213941 0.99666886]\n",
      "2\n",
      "[0.95805716 0.03526519 0.00667765]\n",
      "0\n",
      "[0.00191885 0.01778749 0.98029366]\n",
      "2\n",
      "[9.93808894e-01 6.16606884e-03 2.50370442e-05]\n",
      "0\n",
      "[0.12462897 0.80106087 0.07431017]\n",
      "1\n",
      "[0.80143169 0.16127769 0.03729061]\n",
      "0\n",
      "[0.77415731 0.17121704 0.05462565]\n",
      "0\n",
      "[0.01752064 0.02855132 0.95392804]\n",
      "2\n",
      "[9.91546022e-01 8.00610402e-03 4.47874005e-04]\n",
      "0\n",
      "[0.17996623 0.01618597 0.8038478 ]\n",
      "2\n",
      "[0.04279228 0.00187848 0.95532924]\n",
      "2\n",
      "[0.00203592 0.01764989 0.98031418]\n",
      "2\n",
      "[0.94234095 0.05319364 0.00446541]\n",
      "0\n",
      "[0.87673655 0.0898691  0.03339434]\n",
      "0\n",
      "[9.96062734e-01 3.88872673e-03 4.85392000e-05]\n",
      "0\n",
      "[0.68566985 0.30524013 0.00909003]\n",
      "0\n",
      "[0.00104272 0.00543901 0.99351828]\n",
      "2\n",
      "[0.00286033 0.00447285 0.99266682]\n",
      "2\n",
      "[0.05233445 0.03538806 0.91227749]\n",
      "2\n",
      "[9.80021472e-01 1.98737904e-02 1.04737474e-04]\n",
      "0\n",
      "[9.91546022e-01 8.00610402e-03 4.47874005e-04]\n",
      "0\n",
      "[0.82729616 0.11281661 0.05988722]\n",
      "0\n",
      "[0.66431956 0.33495841 0.00072204]\n",
      "0\n",
      "[0.03764766 0.00480192 0.95755042]\n",
      "2\n",
      "[0.93882372 0.04382844 0.01734784]\n",
      "0\n",
      "[0.00215208 0.02841199 0.96943592]\n",
      "2\n",
      "[0.83608629 0.06169895 0.10221476]\n",
      "0\n",
      "[0.51068518 0.34523743 0.14407739]\n",
      "0\n",
      "[0.00099665 0.00367341 0.99532993]\n",
      "2\n",
      "[0.52300732 0.25311565 0.22387703]\n",
      "0\n",
      "[0.85512806 0.14025535 0.00461659]\n",
      "0\n",
      "[0.06668691 0.10377342 0.82953967]\n",
      "2\n",
      "[2.56636412e-04 2.71143947e-02 9.72628969e-01]\n",
      "2\n",
      "[0.6070196  0.03080771 0.36217269]\n",
      "0\n",
      "[0.61273708 0.37600888 0.01125404]\n",
      "0\n",
      "[9.25718816e-01 7.36369793e-02 6.44204384e-04]\n",
      "0\n",
      "[0.03183013 0.00445701 0.96371286]\n",
      "2\n",
      "[0.00303435 0.00443754 0.9925281 ]\n",
      "2\n",
      "[0.17067004 0.06352005 0.76580991]\n",
      "2\n",
      "[3.85854472e-04 1.03781420e-03 9.98576331e-01]\n",
      "2\n",
      "[0.29706201 0.390391   0.31254699]\n",
      "1\n",
      "[0.00104272 0.00543901 0.99351828]\n",
      "2\n",
      "[9.88940053e-01 1.08734292e-02 1.86517663e-04]\n",
      "0\n",
      "[0.87113027 0.08676452 0.04210521]\n",
      "0\n",
      "[0.00581659 0.01420117 0.97998224]\n",
      "2\n",
      "[8.69950841e-04 9.31658812e-03 9.89813461e-01]\n",
      "2\n",
      "[9.58321179e-01 4.16373379e-02 4.14832734e-05]\n",
      "0\n",
      "[0.00116318 0.00362918 0.99520764]\n",
      "2\n",
      "[2.61329159e-04 4.16666074e-03 9.95572010e-01]\n",
      "2\n",
      "[0.87113027 0.08676452 0.04210521]\n",
      "0\n",
      "[0.33273144 0.4344477  0.23282086]\n",
      "1\n",
      "[0.00643571 0.05670997 0.93685432]\n",
      "2\n",
      "[2.25493973e-04 6.80100280e-03 9.92973503e-01]\n",
      "2\n",
      "[9.98779035e-01 1.21818374e-03 2.78119364e-06]\n",
      "0\n",
      "[0.93882372 0.04382844 0.01734784]\n",
      "0\n",
      "[0.70645369 0.28935322 0.00419309]\n",
      "0\n",
      "[6.97092126e-04 2.15549884e-02 9.77747919e-01]\n",
      "2\n",
      "[0.96013317 0.03811662 0.00175022]\n",
      "0\n",
      "[0.81130006 0.09019381 0.09850612]\n",
      "0\n",
      "[9.95122384e-01 4.86815998e-03 9.45643145e-06]\n",
      "0\n",
      "[2.61329159e-04 4.16666074e-03 9.95572010e-01]\n",
      "2\n",
      "[0.63606863 0.3533121  0.01061928]\n",
      "0\n",
      "[9.98065885e-01 1.69994375e-03 2.34170965e-04]\n",
      "0\n",
      "[0.00191885 0.01778749 0.98029366]\n",
      "2\n",
      "[0.95062671 0.03016034 0.01921295]\n",
      "0\n",
      "[0.99734653 0.00108413 0.00156934]\n",
      "0\n",
      "[6.97092126e-04 2.15549884e-02 9.77747919e-01]\n",
      "2\n",
      "[0.00303435 0.00443754 0.9925281 ]\n",
      "2\n",
      "[0.002344   0.00699362 0.99066238]\n",
      "2\n",
      "[0.00744716 0.00421524 0.9883376 ]\n",
      "2\n",
      "[1.67464905e-04 4.26417636e-02 9.57190772e-01]\n",
      "2\n",
      "[0.01053743 0.00221065 0.98725192]\n",
      "2\n",
      "[0.29372826 0.25171067 0.45456106]\n",
      "2\n",
      "[0.60963686 0.1184898  0.27187334]\n",
      "0\n",
      "[9.93808894e-01 6.16606884e-03 2.50370442e-05]\n",
      "0\n",
      "[0.00682854 0.05627278 0.93689868]\n",
      "2\n",
      "[1.95563187e-04 4.21537561e-02 9.57650681e-01]\n",
      "2\n",
      "[9.96397737e-01 3.57958654e-03 2.26765247e-05]\n",
      "0\n",
      "[0.88517522 0.11280237 0.00202241]\n",
      "0\n",
      "[9.90106009e-01 9.88183450e-03 1.21569203e-05]\n",
      "0\n",
      "[0.43021618 0.55899377 0.01079005]\n",
      "1\n",
      "[0.17104038 0.00670526 0.82225436]\n",
      "2\n",
      "[0.90494163 0.08479513 0.01026324]\n",
      "0\n",
      "[0.77601418 0.04799243 0.17599339]\n",
      "0\n",
      "[9.95914554e-01 3.91120635e-03 1.74239808e-04]\n",
      "0\n",
      "[6.46114388e-05 2.08659377e-02 9.79069451e-01]\n",
      "2\n",
      "[0.95805716 0.03526519 0.00667765]\n",
      "0\n",
      "[2.18319782e-04 1.22895814e-03 9.98552722e-01]\n",
      "2\n",
      "[0.00220944 0.00704885 0.99074172]\n",
      "2\n",
      "[0.00580447 0.0359134  0.95828213]\n",
      "2\n",
      "[0.69424479 0.06613858 0.23961663]\n",
      "0\n",
      "[8.53709525e-05 3.26561728e-03 9.96649012e-01]\n",
      "2\n",
      "[0.69180942 0.20858044 0.09961014]\n",
      "0\n",
      "[0.00803988 0.01423991 0.97772021]\n",
      "2\n",
      "[2.95607869e-04 6.71251695e-03 9.92991875e-01]\n",
      "2\n",
      "[4.79791604e-04 9.67416469e-03 9.89846044e-01]\n",
      "2\n",
      "[0.28217979 0.09372462 0.62409558]\n",
      "2\n",
      "[0.08639145 0.02360884 0.8899997 ]\n",
      "2\n",
      "[0.0053075  0.02408157 0.97061093]\n",
      "2\n",
      "[0.73175501 0.15970829 0.1085367 ]\n",
      "0\n",
      "[0.00439011 0.08719177 0.90841812]\n",
      "2\n",
      "[0.00191885 0.01778749 0.98029366]\n",
      "2\n",
      "[7.45564846e-05 8.28661665e-03 9.91638827e-01]\n",
      "2\n",
      "[9.68840062e-01 3.09517580e-02 2.08179555e-04]\n",
      "0\n",
      "[9.93382999e-01 6.59044869e-03 2.65526618e-05]\n",
      "0\n",
      "[5.23533620e-04 4.41444190e-04 9.99035022e-01]\n",
      "2\n",
      "[0.00512581 0.08617881 0.90869538]\n",
      "2\n",
      "[0.96735162 0.02500173 0.00764665]\n",
      "0\n",
      "[0.02057649 0.00858803 0.97083548]\n",
      "2\n",
      "[0.00215208 0.02841199 0.96943592]\n",
      "2\n",
      "[0.00439011 0.08719177 0.90841812]\n",
      "2\n",
      "[0.39451363 0.07602407 0.5294623 ]\n",
      "2\n",
      "[4.77164257e-05 4.10232810e-04 9.99542051e-01]\n",
      "2\n",
      "[0.00643571 0.05670997 0.93685432]\n",
      "2\n",
      "[0.03888713 0.03671153 0.92440133]\n",
      "2\n",
      "[7.45564846e-05 8.28661665e-03 9.91638827e-01]\n",
      "2\n",
      "[0.91422722 0.03678727 0.04898551]\n",
      "0\n",
      "[0.85848165 0.13152882 0.00998953]\n",
      "0\n",
      "[0.61273708 0.37600888 0.01125404]\n",
      "0\n",
      "[0.95534806 0.04070018 0.00395176]\n",
      "0\n",
      "[0.89669078 0.08266194 0.02064728]\n",
      "0\n",
      "[4.32677988e-05 5.79105873e-03 9.94165673e-01]\n",
      "2\n",
      "[0.9815603 0.0124347 0.006005 ]\n",
      "0\n",
      "[0.61273708 0.37600888 0.01125404]\n",
      "0\n",
      "[0.94812503 0.04548926 0.00638571]\n",
      "0\n",
      "[8.04618487e-05 3.29107618e-03 9.96628462e-01]\n",
      "2\n",
      "[0.10090076 0.3597158  0.53938344]\n",
      "2\n",
      "[0.83786966 0.1547652  0.00736514]\n",
      "0\n",
      "[0.02055006 0.04595465 0.9334953 ]\n",
      "2\n",
      "[2.27913073e-04 1.05585960e-02 9.89213491e-01]\n",
      "2\n",
      "[1.58521379e-05 7.78510416e-04 9.99205637e-01]\n",
      "2\n",
      "[0.64838954 0.10799672 0.24361374]\n",
      "0\n",
      "[8.41255383e-05 1.33164608e-02 9.86599414e-01]\n",
      "2\n",
      "[4.37299513e-04 1.67511334e-03 9.97887587e-01]\n",
      "2\n",
      "[0.01224638 0.10968775 0.87806587]\n",
      "2\n",
      "[6.46114388e-05 2.08659377e-02 9.79069451e-01]\n",
      "2\n",
      "[0.04381245 0.0860802  0.87010734]\n",
      "2\n",
      "[0.00875696 0.00913993 0.98210311]\n",
      "2\n",
      "[0.01678532 0.09728172 0.88593295]\n",
      "2\n",
      "[9.21436462e-04 3.37481270e-03 9.95703751e-01]\n",
      "2\n",
      "[0.05453292 0.05615517 0.88931191]\n",
      "2\n",
      "[0.85538916 0.0202145  0.12439634]\n",
      "0\n",
      "[1, -1, 1, -1, 1, 1, 1, -1, -1, -1, 1, 1, 1, 1, -1, 1, 1, -1, -1, -1, -1, 1, -1, -1, -1, 1, 1, -1, -1, -1, -1, 1, 1, 1, -1, -1, 1, -1, 1, 1, -1, 1, -1, -1, 1, -1, -1, -1, -1, -1, 1, 1, -1, 1, 1, -1, -1, 1, -1, -1, -1, 1, -1, 1, -1, -1, 1, 1, -1, 1, -1, -1, 1, 1, -1, 1, -1, -1, -1, 1, -1, 0, 1, -1, -1, -1, -1, 1, -1, 1, 1, 1, -1, 1, 1, -1, 1, 1, -1, 0, -1, -1, -1, -1, 0, 1, -1, -1, -1, 1, 1, -1, -1, 1, -1, 1, -1, 0, -1, 1, 1, -1, 1, 1, 1, 1, -1, 0, 1, -1, 1, -1, 1, 0, 1, 1, -1, 1, -1, -1, -1, 1, 1, 1, 1, -1, -1, -1, 1, 1, 1, 1, -1, 1, -1, 1, 1, -1, 1, 1, -1, -1, 1, 1, 1, -1, -1, -1, -1, 0, -1, 1, 1, -1, -1, 1, -1, -1, 1, 0, -1, -1, 1, 1, 1, -1, 1, 1, 1, -1, 1, 1, -1, 1, 1, -1, -1, -1, -1, -1, -1, -1, 1, 1, -1, -1, 1, 1, 1, 0, -1, 1, 1, 1, -1, 1, -1, -1, -1, 1, -1, 1, -1, -1, -1, -1, -1, -1, 1, -1, -1, -1, 1, 1, -1, -1, 1, -1, -1, -1, -1, -1, -1, -1, -1, 1, 1, 1, 1, 1, -1, 1, 1, 1, -1, -1, 1, -1, -1, -1, 1, -1, -1, -1, -1, -1, -1, -1, -1, -1, 1]\n"
     ]
    }
   ],
   "source": [
    "y_mat = []\n",
    "classification = []\n",
    "probs=([])\n",
    "X_test = np.array(test_x, dtype = np.float64) #Used to test the classification on test data\n",
    "X_val = np.array(val_x, dtype = np.float64)\n",
    "\n",
    "for o in range(len(X_val)): #len(val_x)):#len(test_x))::\n",
    "    y_mat.append(np.dot(thetas1,X_test[o]))  #Could have used X2 or X3, they're the same as X. Use X to check training \n",
    "    y_mat.append(np.dot(thetas2,X_test[o]))  #classification instead of X_test and X_val\n",
    "    y_mat.append(np.dot(thetas3,X_test[o]))\n",
    "    \n",
    "    probs = f(y_mat)\n",
    "    print(probs)\n",
    "    maxPos = np.argmax(probs)\n",
    "    print(maxPos)\n",
    "    \n",
    "    if maxPos == 0:\n",
    "        classification.append(1)\n",
    "    elif maxPos == 1:\n",
    "        classification.append(0)\n",
    "    elif maxPos == 2:    \n",
    "        classification.append(-1)\n",
    "    \n",
    "    y_mat = []\n",
    "\n",
    "print(classification)    "
   ]
  },
  {
   "cell_type": "code",
   "execution_count": 298,
   "metadata": {},
   "outputs": [
    {
     "name": "stdout",
     "output_type": "stream",
     "text": [
      "1197     1\n",
      "565     -1\n",
      "406     -1\n",
      "1267    -1\n",
      "1003     1\n",
      "        ..\n",
      "114     -1\n",
      "509     -1\n",
      "1352    -1\n",
      "834     -1\n",
      "224      1\n",
      "Name: Class, Length: 271, dtype: object\n"
     ]
    }
   ],
   "source": [
    "#We Print Out The Data We Are Working With\n",
    "#print(train_y)\n",
    "print(test_y)\n",
    "#print(val_y)"
   ]
  },
  {
   "cell_type": "code",
   "execution_count": 299,
   "metadata": {},
   "outputs": [],
   "source": [
    "#Variables used in confusion matrix\n",
    "#Our Analysis of our data is done here \n",
    "\n",
    "\n",
    "true_count0 = 0\n",
    "true_count1 = 0\n",
    "true_count_neg1 = 0\n",
    "\n",
    "pred1_when0 = 0\n",
    "pred1_when_neg1 = 0\n",
    "\n",
    "pred0_when1 = 0\n",
    "pred0_when_neg1= 0\n",
    "\n",
    "pred_neg1_when0 = 0\n",
    "pred_neg1_when1 = 0\n",
    "\n",
    "#We Comment Out the data that we aren't using\n",
    "#test_yy = np.array(train_y,dtype = np.float64)\n",
    "test_yy = np.array(test_y,dtype = np.float64)\n",
    "#val_yy = np.array(val_y, dtype = np.float64) \n",
    "\n",
    "\n",
    "\n",
    "for d in range (len(test_yy)):#len(test_yy)):#len(test_yy)):\n",
    "    if classification[d] == 0 and test_yy[d]==0: #test_yy[d] == 0: #test_yy[d] == 0:   \n",
    "        true_count0 = true_count0+1\n",
    "    if classification[d] == 1 and  test_yy[d] == 1: #test_yy[d]==1: #test_yy[d]==1: \n",
    "        true_count1 = true_count1+1\n",
    "    if classification[d] == -1 and test_yy[d] == -1:#test_yy[d]==-1: #test_yy[d]==-1:    \n",
    "        true_count_neg1 = true_count_neg1+1   \n",
    "        \n",
    "    if classification[d] == 1 and  test_yy[d] == 0:#test_yy[d]==0: #test_yy[d]==0:    \n",
    "        pred1_when0 = pred1_when0+1\n",
    "    if classification[d] == 1 and  test_yy[d] == -1: #test_yy[d]==-1: #test_yy[d]==-1:  \n",
    "        pred1_when_neg1 = pred1_when_neg1+1 \n",
    "        \n",
    "    if classification[d] == 0 and  test_yy[d] == 1: #test_yy[d]==1: #test_yy[d]==1:  \n",
    "        pred0_when1 = pred0_when1+1\n",
    "    if classification[d] == 0 and  test_yy[d] == -1: #test_yy[d]==-1:#test_yy[d]==-1:  #    \n",
    "        pred0_when_neg1= pred0_when_neg1+1\n",
    "        \n",
    "    if classification[d] == -1 and  test_yy[d] == 0: #test_yy[d]==0: #test_yy[d]==0: \n",
    "        pred_neg1_when0 = pred_neg1_when0+1\n",
    "    if classification[d] == -1 and   test_yy[d] == 1: #test_yy[d]==1: #test_yy[d]==1:  \n",
    "         pred_neg1_when1 = pred_neg1_when1+1   \n",
    "\n"
   ]
  },
  {
   "cell_type": "markdown",
   "metadata": {},
   "source": [
    "## Printing Of Analysis, Correct Predictions, Accuracy,Error, Number of Predictions Of Each Class "
   ]
  },
  {
   "cell_type": "code",
   "execution_count": 300,
   "metadata": {},
   "outputs": [
    {
     "name": "stdout",
     "output_type": "stream",
     "text": [
      "True predictions for 0,1,-1\n",
      "0\n",
      "92\n",
      "126\n",
      "Total Correct Predictions Added Up  218\n",
      "\n",
      "False prediction 1 when value was 0 or -1\n",
      "9\n",
      "17\n",
      "False prediction 0 when value was 1 or -1\n",
      "2\n",
      "7\n",
      "\n",
      "False prediction -1 when value was 0 or 1\n",
      "10\n",
      "8\n",
      "\n",
      "Number of prediction data points: 271\n",
      "Overall accuracy:  80.44280442804428\n",
      "Total Misclassification Rate/Error:  19.55719557195572\n"
     ]
    }
   ],
   "source": [
    "print(\"True predictions for 0,1,-1\")            \n",
    "print(true_count0)\n",
    "print(true_count1)\n",
    "print(true_count_neg1)\n",
    "correct_predictions = true_count0+true_count1+true_count_neg1\n",
    "print(\"Total Correct Predictions Added Up \", correct_predictions)\n",
    "print()\n",
    "\n",
    "print(\"False prediction 1 when value was 0 or -1\")   \n",
    "print(pred1_when0)\n",
    "print(pred1_when_neg1)\n",
    "\n",
    "print(\"False prediction 0 when value was 1 or -1\") \n",
    "print(pred0_when1)\n",
    "print(pred0_when_neg1)\n",
    "print()\n",
    "\n",
    "print(\"False prediction -1 when value was 0 or 1\") \n",
    "print(pred_neg1_when0)\n",
    "print(pred_neg1_when1)\n",
    "print()\n",
    " \n",
    "#Comment Out Data you're not using\n",
    "#print(\"Number of prediction data points:\",len(train_y))\n",
    "print(\"Number of prediction data points:\",len(test_y))\n",
    "#print(\"Number of prediction data points:\", len(val_y))\n",
    "\n",
    "#accuracy = correct_predictions/len(train_y)\n",
    "accuracy = correct_predictions/len(test_y)\n",
    "#accuracy = correct_predictions/len(val_y)\n",
    "\n",
    "print(\"Overall accuracy: \", accuracy*100)\n",
    "print(\"Total Misclassification Rate/Error: \", (1-accuracy)*100)\n",
    "\n",
    "#print(\"Error for logistic model 1: \", error1[-1])\n",
    "#print(\"Error for logistic model 2: \",error2[-1])\n",
    "#print(\"Error for logistic model 3: \", error3[-1])"
   ]
  },
  {
   "cell_type": "markdown",
   "metadata": {},
   "source": [
    "## Confusion Matrix"
   ]
  },
  {
   "cell_type": "code",
   "execution_count": 284,
   "metadata": {},
   "outputs": [
    {
     "name": "stdout",
     "output_type": "stream",
     "text": [
      "\t \t Predicted\n",
      "\t \t 0  \t  1 \t -1\n",
      "actual 0 \t 0 \t 9 \t 10\n",
      "actual 1 \t 2 \t 92 \t 8\n",
      "actual -1 \t 7 \t 17 \t 126\n"
     ]
    }
   ],
   "source": [
    "print(\"\\t \\t Predicted\")\n",
    "print(\"\\t \\t\", \"0 \",\"\\t\",\" 1\",\"\\t\", \"-1\")\n",
    "print(\"actual 0 \\t\",true_count0,\"\\t\", pred1_when0,\"\\t\",pred_neg1_when0)\n",
    "print(\"actual 1 \\t\",pred0_when1,\"\\t\", true_count1,\"\\t\",pred_neg1_when1)\n",
    "print(\"actual -1 \\t\",pred0_when_neg1,\"\\t\", pred1_when_neg1,\"\\t\",true_count_neg1)"
   ]
  },
  {
   "cell_type": "markdown",
   "metadata": {},
   "source": []
  },
  {
   "cell_type": "code",
   "execution_count": null,
   "metadata": {},
   "outputs": [],
   "source": []
  },
  {
   "cell_type": "code",
   "execution_count": null,
   "metadata": {},
   "outputs": [],
   "source": []
  }
 ],
 "metadata": {
  "kernelspec": {
   "display_name": "Python 3",
   "language": "python",
   "name": "python3"
  },
  "language_info": {
   "codemirror_mode": {
    "name": "ipython",
    "version": 3
   },
   "file_extension": ".py",
   "mimetype": "text/x-python",
   "name": "python",
   "nbconvert_exporter": "python",
   "pygments_lexer": "ipython3",
   "version": "3.7.4"
  },
  "pycharm": {
   "stem_cell": {
    "cell_type": "raw",
    "metadata": {
     "collapsed": false
    },
    "source": []
   }
  }
 },
 "nbformat": 4,
 "nbformat_minor": 2
}
