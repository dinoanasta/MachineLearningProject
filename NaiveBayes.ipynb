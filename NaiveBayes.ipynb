{
 "cells": [
  {
   "cell_type": "code",
   "execution_count": 1,
   "metadata": {},
   "outputs": [],
   "source": [
    "import numpy as np\n",
    "import pandas as pd\n",
    "\n",
    "from math import *\n",
    "\n",
    "import matplotlib.pyplot as plt\n",
    "\n",
    "from sklearn.model_selection import train_test_split"
   ]
  },
  {
   "cell_type": "markdown",
   "metadata": {},
   "source": [
    "# Attributes"
   ]
  },
  {
   "cell_type": "raw",
   "metadata": {},
   "source": [
    "SFH {1,-1,0}\n",
    "popUpWidnow {-1,0,1}\n",
    "SSLfinal_State {1,-1,0}\n",
    "Request_URL {-1,0,1}\n",
    "URL_of_Anchor {-1,0,1}\n",
    "web_traffic {1,0,-1}\n",
    "URL_Length {1,-1,0}\n",
    "age_of_domain {1,-1}\n",
    "having_IP_Address {0,1}\n",
    "Result {0,1,-1}"
   ]
  },
  {
   "cell_type": "markdown",
   "metadata": {},
   "source": [
    "## Create empty design matrix"
   ]
  },
  {
   "cell_type": "code",
   "execution_count": 2,
   "metadata": {},
   "outputs": [],
   "source": [
    "designMatrix = pd.DataFrame(columns = [\n",
    "    'SFH',\n",
    "    'PopUpWindow',\n",
    "    'SSL_Final_State',\n",
    "    'Request_URL',\n",
    "    'URL_of_Anchor',\n",
    "    'Web_Traffic',\n",
    "    'URL_Length',\n",
    "    'Age_Of_Domain',\n",
    "    'IP_Address',\n",
    "    'Class',\n",
    "] ) "
   ]
  },
  {
   "cell_type": "markdown",
   "metadata": {},
   "source": [
    "## Import data and populate designMatrix"
   ]
  },
  {
   "cell_type": "code",
   "execution_count": 3,
   "metadata": {},
   "outputs": [
    {
     "data": {
      "text/html": [
       "<div>\n",
       "<style scoped>\n",
       "    .dataframe tbody tr th:only-of-type {\n",
       "        vertical-align: middle;\n",
       "    }\n",
       "\n",
       "    .dataframe tbody tr th {\n",
       "        vertical-align: top;\n",
       "    }\n",
       "\n",
       "    .dataframe thead th {\n",
       "        text-align: right;\n",
       "    }\n",
       "</style>\n",
       "<table border=\"1\" class=\"dataframe\">\n",
       "  <thead>\n",
       "    <tr style=\"text-align: right;\">\n",
       "      <th></th>\n",
       "      <th>SFH</th>\n",
       "      <th>PopUpWindow</th>\n",
       "      <th>SSL_Final_State</th>\n",
       "      <th>Request_URL</th>\n",
       "      <th>URL_of_Anchor</th>\n",
       "      <th>Web_Traffic</th>\n",
       "      <th>URL_Length</th>\n",
       "      <th>Age_Of_Domain</th>\n",
       "      <th>IP_Address</th>\n",
       "      <th>Class</th>\n",
       "    </tr>\n",
       "  </thead>\n",
       "  <tbody>\n",
       "    <tr>\n",
       "      <th>0</th>\n",
       "      <td>1</td>\n",
       "      <td>-1</td>\n",
       "      <td>1</td>\n",
       "      <td>-1</td>\n",
       "      <td>-1</td>\n",
       "      <td>1</td>\n",
       "      <td>1</td>\n",
       "      <td>1</td>\n",
       "      <td>0</td>\n",
       "      <td>0</td>\n",
       "    </tr>\n",
       "    <tr>\n",
       "      <th>1</th>\n",
       "      <td>-1</td>\n",
       "      <td>-1</td>\n",
       "      <td>-1</td>\n",
       "      <td>-1</td>\n",
       "      <td>-1</td>\n",
       "      <td>0</td>\n",
       "      <td>1</td>\n",
       "      <td>1</td>\n",
       "      <td>1</td>\n",
       "      <td>1</td>\n",
       "    </tr>\n",
       "    <tr>\n",
       "      <th>2</th>\n",
       "      <td>1</td>\n",
       "      <td>-1</td>\n",
       "      <td>0</td>\n",
       "      <td>0</td>\n",
       "      <td>-1</td>\n",
       "      <td>0</td>\n",
       "      <td>-1</td>\n",
       "      <td>1</td>\n",
       "      <td>0</td>\n",
       "      <td>1</td>\n",
       "    </tr>\n",
       "    <tr>\n",
       "      <th>3</th>\n",
       "      <td>1</td>\n",
       "      <td>0</td>\n",
       "      <td>1</td>\n",
       "      <td>-1</td>\n",
       "      <td>-1</td>\n",
       "      <td>0</td>\n",
       "      <td>1</td>\n",
       "      <td>1</td>\n",
       "      <td>0</td>\n",
       "      <td>0</td>\n",
       "    </tr>\n",
       "    <tr>\n",
       "      <th>4</th>\n",
       "      <td>-1</td>\n",
       "      <td>-1</td>\n",
       "      <td>1</td>\n",
       "      <td>-1</td>\n",
       "      <td>0</td>\n",
       "      <td>0</td>\n",
       "      <td>-1</td>\n",
       "      <td>1</td>\n",
       "      <td>0</td>\n",
       "      <td>1</td>\n",
       "    </tr>\n",
       "    <tr>\n",
       "      <th>...</th>\n",
       "      <td>...</td>\n",
       "      <td>...</td>\n",
       "      <td>...</td>\n",
       "      <td>...</td>\n",
       "      <td>...</td>\n",
       "      <td>...</td>\n",
       "      <td>...</td>\n",
       "      <td>...</td>\n",
       "      <td>...</td>\n",
       "      <td>...</td>\n",
       "    </tr>\n",
       "    <tr>\n",
       "      <th>1348</th>\n",
       "      <td>-1</td>\n",
       "      <td>-1</td>\n",
       "      <td>-1</td>\n",
       "      <td>-1</td>\n",
       "      <td>-1</td>\n",
       "      <td>-1</td>\n",
       "      <td>0</td>\n",
       "      <td>1</td>\n",
       "      <td>0</td>\n",
       "      <td>1</td>\n",
       "    </tr>\n",
       "    <tr>\n",
       "      <th>1349</th>\n",
       "      <td>-1</td>\n",
       "      <td>0</td>\n",
       "      <td>1</td>\n",
       "      <td>0</td>\n",
       "      <td>-1</td>\n",
       "      <td>0</td>\n",
       "      <td>0</td>\n",
       "      <td>1</td>\n",
       "      <td>0</td>\n",
       "      <td>-1</td>\n",
       "    </tr>\n",
       "    <tr>\n",
       "      <th>1350</th>\n",
       "      <td>-1</td>\n",
       "      <td>0</td>\n",
       "      <td>-1</td>\n",
       "      <td>-1</td>\n",
       "      <td>-1</td>\n",
       "      <td>0</td>\n",
       "      <td>-1</td>\n",
       "      <td>-1</td>\n",
       "      <td>0</td>\n",
       "      <td>1</td>\n",
       "    </tr>\n",
       "    <tr>\n",
       "      <th>1351</th>\n",
       "      <td>0</td>\n",
       "      <td>0</td>\n",
       "      <td>1</td>\n",
       "      <td>0</td>\n",
       "      <td>0</td>\n",
       "      <td>0</td>\n",
       "      <td>-1</td>\n",
       "      <td>1</td>\n",
       "      <td>0</td>\n",
       "      <td>1</td>\n",
       "    </tr>\n",
       "    <tr>\n",
       "      <th>1352</th>\n",
       "      <td>1</td>\n",
       "      <td>0</td>\n",
       "      <td>1</td>\n",
       "      <td>1</td>\n",
       "      <td>1</td>\n",
       "      <td>0</td>\n",
       "      <td>-1</td>\n",
       "      <td>-1</td>\n",
       "      <td>0</td>\n",
       "      <td>-1</td>\n",
       "    </tr>\n",
       "  </tbody>\n",
       "</table>\n",
       "<p>1353 rows × 10 columns</p>\n",
       "</div>"
      ],
      "text/plain": [
       "     SFH PopUpWindow SSL_Final_State Request_URL URL_of_Anchor Web_Traffic  \\\n",
       "0      1          -1               1          -1            -1           1   \n",
       "1     -1          -1              -1          -1            -1           0   \n",
       "2      1          -1               0           0            -1           0   \n",
       "3      1           0               1          -1            -1           0   \n",
       "4     -1          -1               1          -1             0           0   \n",
       "...   ..         ...             ...         ...           ...         ...   \n",
       "1348  -1          -1              -1          -1            -1          -1   \n",
       "1349  -1           0               1           0            -1           0   \n",
       "1350  -1           0              -1          -1            -1           0   \n",
       "1351   0           0               1           0             0           0   \n",
       "1352   1           0               1           1             1           0   \n",
       "\n",
       "     URL_Length Age_Of_Domain IP_Address Class  \n",
       "0             1             1          0     0  \n",
       "1             1             1          1     1  \n",
       "2            -1             1          0     1  \n",
       "3             1             1          0     0  \n",
       "4            -1             1          0     1  \n",
       "...         ...           ...        ...   ...  \n",
       "1348          0             1          0     1  \n",
       "1349          0             1          0    -1  \n",
       "1350         -1            -1          0     1  \n",
       "1351         -1             1          0     1  \n",
       "1352         -1            -1          0    -1  \n",
       "\n",
       "[1353 rows x 10 columns]"
      ]
     },
     "execution_count": 3,
     "metadata": {},
     "output_type": "execute_result"
    }
   ],
   "source": [
    "lineNum = 0\n",
    "\n",
    "for line in open(\"Files/data.txt\", \"r\"):\n",
    "    lineSplit = line.strip().split(\",\")\n",
    "    designMatrix.loc[lineNum] = lineSplit   \n",
    "    lineNum+=1\n",
    "    \n",
    "designMatrix"
   ]
  },
  {
   "cell_type": "markdown",
   "metadata": {},
   "source": [
    "## Split into training, validation and testing data¶"
   ]
  },
  {
   "cell_type": "code",
   "execution_count": 4,
   "metadata": {},
   "outputs": [],
   "source": [
    "trainData, testData = train_test_split(designMatrix, test_size = 0.4)\n",
    "\n",
    "testData, valData = train_test_split(testData, test_size = 0.5)"
   ]
  },
  {
   "cell_type": "code",
   "execution_count": 5,
   "metadata": {},
   "outputs": [
    {
     "name": "stdout",
     "output_type": "stream",
     "text": [
      "trainData size: 811\n",
      "valData size: 271\n",
      "testData size: 271\n"
     ]
    }
   ],
   "source": [
    "print(\"trainData size: \" + str(len(trainData)))\n",
    "print(\"valData size: \" + str(len(valData)))\n",
    "print(\"testData size: \" + str(len(testData)))"
   ]
  },
  {
   "cell_type": "markdown",
   "metadata": {},
   "source": [
    "## Splitting the train,val and test data and converting them into their own lists"
   ]
  },
  {
   "cell_type": "code",
   "execution_count": 6,
   "metadata": {},
   "outputs": [
    {
     "name": "stdout",
     "output_type": "stream",
     "text": [
      "[[ 1.  1.  1. ...  1.  0. -1.]\n",
      " [ 1.  1.  1. ...  1.  0. -1.]\n",
      " [-1.  0.  1. ...  1.  1.  1.]\n",
      " ...\n",
      " [ 1. -1.  0. ... -1.  0.  1.]\n",
      " [-1.  0.  1. ...  1.  0.  1.]\n",
      " [-1.  0. -1. ... -1.  0.  1.]]\n"
     ]
    }
   ],
   "source": [
    "tr= trainData[[ 'SFH',\n",
    "    'PopUpWindow',\n",
    "    'SSL_Final_State',\n",
    "    'Request_URL',\n",
    "    'URL_of_Anchor',\n",
    "    'Web_Traffic',\n",
    "    'URL_Length',\n",
    "    'Age_Of_Domain',\n",
    "    'IP_Address','Class',]]\n",
    "train = np.array(tr,  dtype = np.float64)\n",
    "print(train)\n",
    "\n",
    "tst =  testData[[ 'SFH',\n",
    "    'PopUpWindow',\n",
    "    'SSL_Final_State',\n",
    "    'Request_URL',\n",
    "    'URL_of_Anchor',\n",
    "    'Web_Traffic',\n",
    "    'URL_Length',\n",
    "    'Age_Of_Domain',\n",
    "    'IP_Address','Class',]]\n",
    "test = np.array(tst,  dtype = np.float64)\n",
    "\n",
    "vl =  valData[[ 'SFH',\n",
    "    'PopUpWindow',\n",
    "    'SSL_Final_State',\n",
    "    'Request_URL',\n",
    "    'URL_of_Anchor',\n",
    "    'Web_Traffic',\n",
    "    'URL_Length',\n",
    "    'Age_Of_Domain',\n",
    "    'IP_Address','Class',]]\n",
    "val = np.array(vl,  dtype = np.float64)"
   ]
  },
  {
   "cell_type": "markdown",
   "metadata": {},
   "source": [
    "## We now divide our data according to classes and attributes"
   ]
  },
  {
   "cell_type": "code",
   "execution_count": 7,
   "metadata": {},
   "outputs": [],
   "source": [
    "def class_divide(train):\n",
    "    \n",
    "    class1 = ([])\n",
    "    class2 = ([])\n",
    "    class3 = ([])\n",
    "    \n",
    "    for x in range(len(train)):\n",
    "        row_data = train[x]\n",
    "        #print(row_data)\n",
    "        class_val = row_data[-1]\n",
    "    \n",
    "        if class_val == 0.0:\n",
    "            class1=np.append(class1,row_data)\n",
    "        elif class_val == 1.0:\n",
    "            class2=np.append(class2,row_data)\n",
    "        elif class_val == -1.0:\n",
    "            class3=np.append(class3,row_data) \n",
    "\n",
    "    print(len(class1))\n",
    "    class1 = np.reshape(class1,(int (len(class1)/10),10))\n",
    "    #print(class1)\n",
    "    #print(class1.shape)\n",
    "\n",
    "    print(len(class2))\n",
    "    class2 = np.reshape(class2,(int (len(class2)/10),10))\n",
    "    #print(class2)\n",
    "    #print(class2.shape)\n",
    "\n",
    "    print(len(class3))\n",
    "    class3 = np.reshape(class3,(int (len(class3)/10),10))\n",
    "    #print(class3)\n",
    "    #print(class3.shape)\n",
    "    \n",
    "    return class1,class2,class3"
   ]
  },
  {
   "cell_type": "code",
   "execution_count": 8,
   "metadata": {},
   "outputs": [
    {
     "name": "stdout",
     "output_type": "stream",
     "text": [
      "690\n",
      "3170\n",
      "4250\n",
      "Class 0 with shape  (69, 10)\n",
      "[[-1. -1.  1. -1. -1.  1.  1.  1.  0.  0.]\n",
      " [ 1. -1. -1. -1.  1. -1.  1.  1.  0.  0.]\n",
      " [ 0.  0.  0.  0.  0. -1.  1.  1.  1.  0.]\n",
      " [-1. -1.  1. -1.  1.  1.  0. -1.  0.  0.]\n",
      " [-1. -1.  0. -1. -1. -1. -1.  1.  0.  0.]\n",
      " [-1. -1.  0. -1. -1. -1.  1.  1.  0.  0.]\n",
      " [-1.  1.  1. -1.  1. -1.  0.  1.  1.  0.]\n",
      " [ 0. -1.  0.  0.  0.  0.  0.  1.  0.  0.]\n",
      " [ 1.  0.  1. -1. -1. -1.  1.  1.  0.  0.]\n",
      " [-1.  0.  0.  0. -1. -1. -1.  1.  0.  0.]\n",
      " [ 1. -1.  1. -1. -1.  1.  1.  1.  0.  0.]\n",
      " [ 1.  0. -1. -1.  1. -1.  1.  1.  0.  0.]\n",
      " [ 0. -1.  0.  0.  0. -1.  0.  1.  0.  0.]\n",
      " [ 1.  1.  1. -1. -1. -1.  1.  1.  0.  0.]\n",
      " [ 1.  0.  1. -1. -1. -1.  1.  1.  0.  0.]\n",
      " [-1. -1.  1. -1. -1. -1.  1.  1.  0.  0.]\n",
      " [ 1.  0.  1. -1. -1.  0.  1.  1.  0.  0.]\n",
      " [-1.  0.  0. -1. -1. -1.  0.  1.  0.  0.]\n",
      " [-1. -1.  1. -1.  1.  1.  0.  1.  0.  0.]\n",
      " [-1. -1.  0. -1. -1. -1. -1.  1.  0.  0.]\n",
      " [ 0.  0.  0.  0.  0. -1.  0.  1.  0.  0.]\n",
      " [-1.  0.  0.  0. -1. -1. -1.  1.  0.  0.]\n",
      " [-1.  0.  0. -1. -1. -1.  0.  1.  0.  0.]\n",
      " [-1. -1.  0.  0. -1. -1. -1.  1.  0.  0.]\n",
      " [ 0.  0.  0.  0.  0. -1.  0.  1.  0.  0.]\n",
      " [ 1.  1.  1. -1. -1. -1.  1.  1.  0.  0.]\n",
      " [-1. -1.  1. -1.  1.  1.  0. -1.  0.  0.]\n",
      " [ 1.  0.  1. -1. -1.  0.  1.  1.  0.  0.]\n",
      " [-1. -1.  1. -1.  1.  1.  1. -1.  0.  0.]\n",
      " [ 1.  0.  1. -1. -1. -1.  1.  1.  0.  0.]\n",
      " [-1. -1. -1. -1. -1.  1.  1. -1.  1.  0.]\n",
      " [ 1. -1.  1. -1.  0.  1. -1. -1.  0.  0.]\n",
      " [-1. -1.  1. -1.  1.  1. -1. -1.  0.  0.]\n",
      " [ 1.  1.  1. -1. -1.  1.  1. -1.  1.  0.]\n",
      " [-1. -1.  1. -1.  1.  0. -1. -1.  0.  0.]\n",
      " [-1.  0.  1. -1. -1. -1.  1.  1.  0.  0.]\n",
      " [ 0. -1.  0.  0.  0.  1. -1. -1.  0.  0.]\n",
      " [ 1. -1.  1. -1.  0.  1. -1. -1.  0.  0.]\n",
      " [-1.  0.  0. -1. -1. -1.  0.  1.  0.  0.]\n",
      " [ 1.  1.  1. -1. -1.  1.  1. -1.  0.  0.]\n",
      " [-1. -1.  0. -1. -1. -1.  0.  1.  0.  0.]\n",
      " [-1. -1.  1. -1. -1.  0.  1.  1.  0.  0.]\n",
      " [ 1.  1. -1. -1.  1. -1.  1.  1.  0.  0.]\n",
      " [ 0. -1.  0.  0.  0. -1.  0.  1.  0.  0.]\n",
      " [ 1.  1.  1. -1. -1. -1.  1.  1.  1.  0.]\n",
      " [-1. -1.  0. -1. -1. -1.  0.  1.  0.  0.]\n",
      " [-1. -1.  1. -1.  1.  0. -1. -1.  0.  0.]\n",
      " [-1.  0.  0.  0. -1. -1. -1.  1.  0.  0.]\n",
      " [ 1.  0.  1. -1. -1.  0.  1.  1.  0.  0.]\n",
      " [ 1.  0. -1. -1.  1.  0.  1.  1.  0.  0.]\n",
      " [ 1. -1.  1. -1. -1. -1.  1.  1.  0.  0.]\n",
      " [-1. -1.  1. -1. -1. -1.  1.  1.  0.  0.]\n",
      " [ 1.  0.  1. -1. -1.  0.  1. -1.  0.  0.]\n",
      " [-1. -1.  0. -1. -1. -1.  1.  1.  1.  0.]\n",
      " [ 1.  1. -1. -1.  1.  1.  1. -1.  0.  0.]\n",
      " [ 1.  1.  1. -1. -1.  1.  1. -1.  0.  0.]\n",
      " [ 1.  0.  1. -1.  0.  0. -1.  1.  0.  0.]\n",
      " [ 0.  0.  0.  0.  0.  0.  0.  1.  0.  0.]\n",
      " [ 1. -1.  1. -1.  0.  1. -1.  1.  0.  0.]\n",
      " [-1. -1.  1. -1. -1.  1.  1.  1.  0.  0.]\n",
      " [ 0.  0.  0.  0.  0.  1.  0. -1.  0.  0.]\n",
      " [-1. -1.  1. -1. -1. -1.  1.  1.  0.  0.]\n",
      " [-1. -1.  1. -1.  1.  1.  1.  1.  0.  0.]\n",
      " [-1. -1.  0. -1. -1. -1.  0.  1.  0.  0.]\n",
      " [-1.  1.  1. -1.  1.  1.  1. -1.  1.  0.]\n",
      " [ 1.  1. -1. -1.  1.  1.  1.  1.  0.  0.]\n",
      " [ 1. -1.  1. -1. -1.  1.  1. -1.  0.  0.]\n",
      " [ 1.  0.  1. -1. -1.  0.  1.  1.  0.  0.]\n",
      " [-1. -1.  1. -1.  1.  0.  0. -1.  0.  0.]]\n",
      "Class 1 with shape  (317, 10)\n",
      "[[-1.  0.  1. ...  1.  1.  1.]\n",
      " [-1. -1.  0. ... -1.  0.  1.]\n",
      " [ 1. -1.  0. ...  1.  0.  1.]\n",
      " ...\n",
      " [ 1. -1.  0. ... -1.  0.  1.]\n",
      " [-1.  0.  1. ...  1.  0.  1.]\n",
      " [-1.  0. -1. ... -1.  0.  1.]]\n",
      "Class -1 with shape  (425, 10)\n",
      "[[ 1.  1.  1. ...  1.  0. -1.]\n",
      " [ 1.  1.  1. ...  1.  0. -1.]\n",
      " [ 1.  0. -1. ...  1.  0. -1.]\n",
      " ...\n",
      " [ 1.  0.  1. ...  1.  0. -1.]\n",
      " [ 1.  1.  1. ... -1.  0. -1.]\n",
      " [ 1.  0.  1. ... -1.  0. -1.]]\n"
     ]
    }
   ],
   "source": [
    "#class1 = ([])\n",
    "#class2 = ([])\n",
    "#class3 = ([])\n",
    "\n",
    "class1,class2,class3 = class_divide(train)\n",
    "#class1,class2,class3 = class_divide(test) #For Test Data\n",
    "#class1,class2,class3 = class_divide(val) #For Validation Data\n",
    "\n",
    "print(\"Class 0 with shape \", class1.shape)\n",
    "print(class1)\n",
    "print(\"Class 1 with shape \", class2.shape)\n",
    "print(class2)\n",
    "print(\"Class -1 with shape \", class3.shape)\n",
    "print(class3)"
   ]
  },
  {
   "cell_type": "markdown",
   "metadata": {},
   "source": [
    "## We get the mean of the columns for each class"
   ]
  },
  {
   "cell_type": "code",
   "execution_count": 9,
   "metadata": {},
   "outputs": [],
   "source": [
    "def mean(Class):\n",
    "    sum = 0\n",
    "    t_class= Class.T\n",
    "    #print(t_class)\n",
    "    #print(t_class.shape[1])\n",
    "    #print(len(t_class))\n",
    "\n",
    "    meanArr = ([])\n",
    "\n",
    "    for i in range (len(t_class)):\n",
    "        sum = np.sum(t_class[i])\n",
    "        mean = sum/t_class.shape[1]\n",
    "        meanArr = np.append(meanArr,mean)\n",
    "\n",
    "    #print(meanArr)    \n",
    "    return meanArr"
   ]
  },
  {
   "cell_type": "markdown",
   "metadata": {},
   "source": [
    "## We get the Standard Deviation of the columns for each class"
   ]
  },
  {
   "cell_type": "code",
   "execution_count": 10,
   "metadata": {},
   "outputs": [],
   "source": [
    "def std_dev(Class):\n",
    "    meanArr = mean(Class)\n",
    "    varianceArr = ([])\n",
    "    t_class= Class.T\n",
    "    sum=0\n",
    "    for i in range (t_class.shape[0]):\n",
    "        for j in range (t_class.shape[1]):\n",
    "            sum = sum + ((t_class[i][j]-meanArr[i])**2)\n",
    "        \n",
    "        varianceArr = np.append(varianceArr,(sum/t_class.shape[1]))\n",
    "        sum=0\n",
    "    return np.sqrt(varianceArr)   "
   ]
  },
  {
   "cell_type": "code",
   "execution_count": 11,
   "metadata": {},
   "outputs": [
    {
     "name": "stdout",
     "output_type": "stream",
     "text": [
      "class 1 mean\n",
      "[-0.08695652 -0.34782609  0.46376812 -0.8115942  -0.31884058 -0.17391304\n",
      "  0.33333333  0.44927536  0.10144928  0.        ]\n",
      "class 2 mean\n",
      "[-0.45425868 -0.65930599 -0.18611987 -0.42271293 -0.37539432  0.2555205\n",
      " -0.2681388  -0.05993691  0.09463722  1.        ]\n",
      "class 3 mean\n",
      "[ 0.81411765  0.07294118  0.68470588  0.          0.28470588 -0.15529412\n",
      "  0.03529412  0.38823529  0.11529412 -1.        ]\n",
      "\n",
      "class 1 standard deviation\n",
      "[0.92844159 0.73870405 0.67200134 0.39103587 0.84257634 0.88393917\n",
      " 0.7924767  0.89339333 0.30192271 0.        ]\n",
      "class 2 standard deviation\n",
      "[0.75476771 0.47394261 0.7983005  0.65344626 0.87792427 0.73725306\n",
      " 0.71533055 0.99820217 0.2927132  0.        ]\n",
      "class 3 standard deviation\n",
      "[0.57867047 0.63752984 0.65034034 0.86228152 0.88723044 0.79963313\n",
      " 0.73958747 0.92156028 0.31937656 0.        ]\n",
      "class 1 count\n",
      "69\n",
      "class 2 count\n",
      "317\n",
      "class 3 count\n",
      "425\n"
     ]
    }
   ],
   "source": [
    "print(\"class 1 mean\")\n",
    "print(mean(class1))\n",
    "print(\"class 2 mean\")\n",
    "print(mean(class2))\n",
    "print(\"class 3 mean\")\n",
    "print(mean(class3))\n",
    "print()\n",
    "\n",
    "print(\"class 1 standard deviation\")\n",
    "print(std_dev(class1))\n",
    "print(\"class 2 standard deviation\")\n",
    "print(std_dev(class2))\n",
    "print(\"class 3 standard deviation\")\n",
    "print(std_dev(class3))\n",
    "\n",
    "print(\"class 1 count\")\n",
    "print(class1.shape[0])\n",
    "print(\"class 2 count\")\n",
    "print(class2.shape[0])\n",
    "print(\"class 3 count\")\n",
    "print(class3.shape[0])"
   ]
  },
  {
   "cell_type": "markdown",
   "metadata": {},
   "source": [
    "## We get the Gaussian Probability Density Function"
   ]
  },
  {
   "cell_type": "code",
   "execution_count": 12,
   "metadata": {},
   "outputs": [],
   "source": [
    "def calc_probability(data_point, mean, stdev):\n",
    "    exponent = exp (-((data_point-mean)**2 / (2 * stdev**2 )))\n",
    "    \n",
    "    return (1 / (sqrt(2 * pi) * stdev)) * exponent"
   ]
  },
  {
   "cell_type": "code",
   "execution_count": 13,
   "metadata": {},
   "outputs": [
    {
     "name": "stdout",
     "output_type": "stream",
     "text": [
      "0.3989422804014327\n"
     ]
    }
   ],
   "source": [
    "print(calc_probability(1.0, 1.0, 1.0))"
   ]
  },
  {
   "cell_type": "code",
   "execution_count": 14,
   "metadata": {},
   "outputs": [],
   "source": [
    "def class_probabilities(class1,class2,class3, row):\n",
    "    total_rows = 1353\n",
    "    probabilities = dict()\n",
    "    \n",
    "    #class 1\n",
    "    probabilities[0] = class1.shape[0]/total_rows\n",
    "    for i in range(9):\n",
    "        mean_class1=mean(class1)\n",
    "        std_class1=std_dev(class1)\n",
    "        probabilities[0] *= calc_probability(row[i], mean_class1[i], std_class1[i])\n",
    "        \n",
    "    #class 2\n",
    "    probabilities[1] = class2.shape[0]/total_rows\n",
    "    for i in range(9):\n",
    "        mean_class2=mean(class2)\n",
    "        std_class2=std_dev(class2)\n",
    "        probabilities[1] *= calc_probability(row[i], mean_class2[i], std_class2[i])\n",
    "    \n",
    "    #class 3\n",
    "    probabilities[2] = class3.shape[0]/total_rows\n",
    "    for i in range(9):\n",
    "        mean_class3=mean(class3)\n",
    "        std_class3=std_dev(class3)\n",
    "        probabilities[2] *= calc_probability(row[i], mean_class3[i], std_class3[i])\n",
    "    return probabilities"
   ]
  },
  {
   "cell_type": "code",
   "execution_count": 15,
   "metadata": {},
   "outputs": [
    {
     "name": "stdout",
     "output_type": "stream",
     "text": [
      "0.24197072451914337\n"
     ]
    }
   ],
   "source": [
    "#testing..\n",
    "print(calc_probability(0.0, 1.0, 1.0))\n"
   ]
  },
  {
   "cell_type": "code",
   "execution_count": 16,
   "metadata": {},
   "outputs": [
    {
     "name": "stdout",
     "output_type": "stream",
     "text": [
      "{0: 9.370139825832568e-06, 1: 1.6649647606460364e-08, 2: 5.676296157503559e-05}\n"
     ]
    }
   ],
   "source": [
    "#testing..\n",
    "\n",
    "probabilities = class_probabilities(class1,class2,class3,class3[0])\n",
    "print(probabilities)"
   ]
  },
  {
   "cell_type": "code",
   "execution_count": 17,
   "metadata": {},
   "outputs": [],
   "source": [
    "def class_prediction(class1,class2,class3, row):\n",
    "    probabilities = class_probabilities(class1,class2,class3, row)\n",
    "    \n",
    "    best_label = None\n",
    "    best_prob = -1\n",
    "    \n",
    "    for class_value, probability in probabilities.items():\n",
    "        if best_label is None or probability > best_prob:\n",
    "            best_prob = probability\n",
    "            best_label = class_value\n",
    "    if best_label==2:\n",
    "        best_label=-1\n",
    "    return best_label"
   ]
  },
  {
   "cell_type": "code",
   "execution_count": 18,
   "metadata": {},
   "outputs": [],
   "source": [
    "def naive_bayes_calculation(class1,class2,class3, data):\n",
    "    predictions = list()\n",
    "    \n",
    "    for row in data:\n",
    "        \n",
    "        out= class_prediction(class1,class2,class3, row)\n",
    "        predictions.append(out)\n",
    "        \n",
    "    return predictions"
   ]
  },
  {
   "cell_type": "code",
   "execution_count": 19,
   "metadata": {},
   "outputs": [
    {
     "name": "stdout",
     "output_type": "stream",
     "text": [
      "\n",
      "Our model predictions...\n",
      "\n",
      "[-1, -1, -1, -1, 1, -1, 1, -1, 1, 1, -1, -1, 1, -1, 1, 1, 1, -1, -1, -1, 1, 1, -1, -1, 1, -1, 1, -1, -1, -1, 1, 0, -1, -1, -1, 1, -1, -1, -1, 1, 1, 1, 1, -1, -1, 1, -1, -1, -1, 1, 1, 1, -1, -1, -1, 1, -1, 1, -1, 1, -1, 1, -1, 1, -1, 1, -1, 1, -1, -1, 0, 1, -1, -1, 1, -1, -1, -1, -1, -1, 1, 1, -1, -1, 1, 1, 0, 1, 1, 1, 1, 1, 1, 1, -1, -1, 0, 1, -1, -1, -1, 1, -1, -1, 1, 0, -1, -1, -1, -1, 1, 1, -1, 1, -1, -1, -1, -1, 1, 1, -1, -1, 1, 1, -1, 1, -1, 1, -1, -1, -1, -1, -1, -1, 1, -1, -1, -1, 1, 1, 1, -1, -1, 1, 1, -1, 1, -1, -1, 0, 1, -1, 1, -1, -1, 1, 1, -1, 1, 1, -1, 1, -1, -1, 1, -1, 1, 1, 1, 1, 1, 1, -1, -1, 0, 1, 1, -1, -1, -1, -1, 1, -1, 1, -1, -1, -1, -1, 1, 1, 1, -1, -1, -1, -1, -1, -1, 1, 1, -1, 1, 1, -1, 1, -1, -1, -1, 1, 1, -1, -1, 1, 1, 1, -1, 1, -1, -1, 1, 1, 1, 1, 1, 1, -1, -1, 1, -1, 1, -1, 1, -1, 1, 1, 1, 1, -1, 1, 1, 1, 1, 1, -1, -1, 1, 1, -1, -1, -1, -1, 1, 0, -1, 1, 1, -1, 1, 1, -1, -1, 1, 1, -1, 1, 0, -1, 1, -1, 1, -1, 1]\n"
     ]
    }
   ],
   "source": [
    "#print(test)\n",
    "#print(test.shape)\n",
    "print()\n",
    "print('Our model predictions...')\n",
    "print()\n",
    "\n",
    "#print(naive_bayes_calculation(class1,class2,class3, train))\n",
    "print(naive_bayes_calculation(class1,class2,class3, test)) #Done For Test Data\n",
    "#print(naive_bayes_calculation(class1,class2,class3, val)) #Done For Validation Data\n"
   ]
  },
  {
   "cell_type": "code",
   "execution_count": 20,
   "metadata": {},
   "outputs": [],
   "source": [
    "\n",
    "\n",
    "def accuracy(class1,class2,class3,data):\n",
    "    \n",
    "    #Variables used in confusion matrix\n",
    "    true_count0 = 0\n",
    "    true_count1 = 0\n",
    "    true_count_neg1 = 0\n",
    "    pred1_when0 = 0\n",
    "    pred1_when_neg1 = 0\n",
    "    pred0_when1 = 0\n",
    "    pred0_when_neg1= 0\n",
    "    pred_neg1_when0 = 0\n",
    "    pred_neg1_when1 = 0\n",
    "    \n",
    "    counter=0\n",
    "    \n",
    "    predictions=naive_bayes_calculation(class1,class2,class3, data)\n",
    "    \n",
    "    for x in range(data.shape[0]):\n",
    "        \n",
    "        if predictions[x] == 0 and data[x][-1] == 0:\n",
    "            true_count0 = true_count0+1\n",
    "        if predictions[x] == 1 and data[x][-1]== 1: \n",
    "            true_count1 = true_count1+1\n",
    "        if predictions[x] == -1 and data[x][-1] == -1: \n",
    "            true_count_neg1 = true_count_neg1+1   \n",
    "        \n",
    "        if predictions[x] == 1 and data[x][-1] == 0: \n",
    "            pred1_when0 = pred1_when0+1\n",
    "        if predictions[x] == 1 and data[x][-1] == -1: \n",
    "            pred1_when_neg1 = pred1_when_neg1+1 \n",
    "        \n",
    "        if predictions[x] == 0 and data[x][-1] == 1: \n",
    "            pred0_when1 = pred0_when1+1\n",
    "        if predictions[x] == 0 and data[x][-1] == -1: \n",
    "            pred0_when_neg1= pred0_when_neg1+1\n",
    "        \n",
    "        if predictions[x] == -1 and data[x][-1] == 0: \n",
    "            pred_neg1_when0 = pred_neg1_when0+1\n",
    "        if predictions[x] == -1 and data[x][-1] == 1: \n",
    "             pred_neg1_when1 = pred_neg1_when1+1 \n",
    "    \n",
    "        if predictions[x] == data[x][-1]:\n",
    "            counter=counter+1\n",
    "    return true_count0,true_count1,true_count_neg1,pred1_when0,pred1_when_neg1,pred0_when1,pred0_when_neg1, pred_neg1_when0,pred_neg1_when1,((counter/data.shape[0])*100)"
   ]
  },
  {
   "cell_type": "code",
   "execution_count": 26,
   "metadata": {},
   "outputs": [
    {
     "name": "stdout",
     "output_type": "stream",
     "text": [
      "Model Accuracy..\n",
      "84.87084870848709\n",
      "Error..\n",
      "15.129151291512912\n",
      "\n",
      "True predictions for 0,1,-1\n",
      "4\n",
      "91\n",
      "135\n",
      "\n",
      "Total Correct Predictions\n",
      "230\n",
      "\n",
      "False prediction 1 when value was 0 and -1\n",
      "3\n",
      "9\n",
      "\n",
      "False prediction 0 when value was 1 and -1\n",
      "6\n",
      "2\n",
      "\n",
      "False prediction -1 when value was 0 and 1\n",
      "9\n",
      "12\n",
      "\n"
     ]
    }
   ],
   "source": [
    "print('Model Accuracy..')\n",
    "\n",
    "#true_count0,true_count1,true_count_neg1,pred1_when0,pred1_when_neg1,pred0_when1,pred0_when_neg1, pred_neg1_when0,pred_neg1_when1,acc = accuracy(class1,class2,class3,train)\n",
    "#true_count0,true_count1,true_count_neg1,pred1_when0,pred1_when_neg1,pred0_when1,pred0_when_neg1, pred_neg1_when0,pred_neg1_when1,acc = accuracy(class1,class2,class3,test)\n",
    "true_count0,true_count1,true_count_neg1,pred1_when0,pred1_when_neg1,pred0_when1,pred0_when_neg1, pred_neg1_when0,pred_neg1_when1,acc = accuracy(class1,class2,class3,val)\n",
    "\n",
    "print(acc)\n",
    "print('Error..')\n",
    "print(100-acc)\n",
    "print()\n",
    "\n",
    "print(\"True predictions for 0,1,-1\")            \n",
    "print(true_count0)\n",
    "print(true_count1)\n",
    "print(true_count_neg1)\n",
    "print()\n",
    "print(\"Total Correct Predictions\")\n",
    "print(true_count0+true_count1+true_count_neg1)\n",
    "print()\n",
    "\n",
    "print(\"False prediction 1 when value was 0 and -1\")   \n",
    "print(pred1_when0)\n",
    "print(pred1_when_neg1)\n",
    "print()\n",
    "\n",
    "print(\"False prediction 0 when value was 1 and -1\") \n",
    "print(pred0_when1)\n",
    "print(pred0_when_neg1)\n",
    "print()\n",
    "\n",
    "print(\"False prediction -1 when value was 0 and 1\") \n",
    "print(pred_neg1_when0)\n",
    "print(pred_neg1_when1)\n",
    "print()"
   ]
  },
  {
   "cell_type": "code",
   "execution_count": 27,
   "metadata": {},
   "outputs": [
    {
     "name": "stdout",
     "output_type": "stream",
     "text": [
      "\t \t Predicted\n",
      "\t \t 0  \t  1 \t  -1\n",
      "actual 0 \t 4 \t 3 \t 9\n",
      "actual 1 \t 6 \t 91 \t 12\n",
      "actual -1 \t 2 \t 9 \t 135\n"
     ]
    }
   ],
   "source": [
    "print(\"\\t \\t Predicted\")\n",
    "print(\"\\t \\t\", \"0 \",\"\\t\",\" 1\",\"\\t\",\" -1\")\n",
    "print(\"actual 0 \\t\",true_count0,\"\\t\", pred1_when0,\"\\t\",pred_neg1_when0)\n",
    "print(\"actual 1 \\t\",pred0_when1,\"\\t\", true_count1,\"\\t\",pred_neg1_when1)\n",
    "print(\"actual -1 \\t\",pred0_when_neg1,\"\\t\", pred1_when_neg1,\"\\t\",true_count_neg1)"
   ]
  },
  {
   "cell_type": "code",
   "execution_count": null,
   "metadata": {},
   "outputs": [],
   "source": []
  }
 ],
 "metadata": {
  "kernelspec": {
   "display_name": "Python 3",
   "language": "python",
   "name": "python3"
  },
  "language_info": {
   "codemirror_mode": {
    "name": "ipython",
    "version": 3
   },
   "file_extension": ".py",
   "mimetype": "text/x-python",
   "name": "python",
   "nbconvert_exporter": "python",
   "pygments_lexer": "ipython3",
   "version": "3.7.6"
  }
 },
 "nbformat": 4,
 "nbformat_minor": 2
}
