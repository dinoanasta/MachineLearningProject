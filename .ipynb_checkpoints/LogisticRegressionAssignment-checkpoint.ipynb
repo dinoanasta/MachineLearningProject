{
 "cells": [
  {
   "cell_type": "markdown",
   "metadata": {},
   "source": [
    "# Website Phishing"
   ]
  },
  {
   "cell_type": "markdown",
   "metadata": {},
   "source": [
    "## Group Members:\n",
    "#### Dino Anastasopoulos: 1900661\n",
    "\n",
    "#### Timothy Walters: 1855167\n",
    "\n",
    "#### Razeen Gani: 1842173\n",
    "\n",
    "#### Reece James Peters: 1924514"
   ]
  },
  {
   "cell_type": "markdown",
   "metadata": {},
   "source": [
    "## Library imports"
   ]
  },
  {
   "cell_type": "code",
   "execution_count": 599,
   "metadata": {
    "pycharm": {
     "is_executing": true
    }
   },
   "outputs": [],
   "source": [
    "import numpy as np\n",
    "import pandas as pd\n",
    "\n",
    "import matplotlib.pyplot as plt\n",
    "\n",
    "from sklearn.model_selection import train_test_split"
   ]
  },
  {
   "cell_type": "markdown",
   "metadata": {},
   "source": [
    "## Attributes"
   ]
  },
  {
   "cell_type": "raw",
   "metadata": {},
   "source": [
    "SFH {1,-1,0}\n",
    "popUpWidnow {-1,0,1}\n",
    "SSLfinal_State {1,-1,0}\n",
    "Request_URL {-1,0,1}\n",
    "URL_of_Anchor {-1,0,1}\n",
    "web_traffic {1,0,-1}\n",
    "URL_Length {1,-1,0}\n",
    "age_of_domain {1,-1}\n",
    "having_IP_Address {0,1}\n",
    "Result {0,1,-1}"
   ]
  },
  {
   "cell_type": "markdown",
   "metadata": {},
   "source": [
    "## Create empty design matrix"
   ]
  },
  {
   "cell_type": "code",
   "execution_count": 600,
   "metadata": {
    "pycharm": {
     "is_executing": true
    }
   },
   "outputs": [],
   "source": [
    "designMatrix = pd.DataFrame(columns = [\n",
    "    'SFH',\n",
    "    'PopUpWindow',\n",
    "    'SSL_Final_State',\n",
    "    'Request_URL',\n",
    "    'URL_of_Anchor',\n",
    "    'Web_Traffic',\n",
    "    'URL_Length',\n",
    "    'Age_Of_Domain',\n",
    "    'IP_Address',\n",
    "    'Class',\n",
    "] ) "
   ]
  },
  {
   "cell_type": "markdown",
   "metadata": {},
   "source": [
    "## Import data and populate designMatrix"
   ]
  },
  {
   "cell_type": "code",
   "execution_count": 601,
   "metadata": {
    "pycharm": {
     "is_executing": true
    }
   },
   "outputs": [
    {
     "data": {
      "text/html": [
       "<div>\n",
       "<style scoped>\n",
       "    .dataframe tbody tr th:only-of-type {\n",
       "        vertical-align: middle;\n",
       "    }\n",
       "\n",
       "    .dataframe tbody tr th {\n",
       "        vertical-align: top;\n",
       "    }\n",
       "\n",
       "    .dataframe thead th {\n",
       "        text-align: right;\n",
       "    }\n",
       "</style>\n",
       "<table border=\"1\" class=\"dataframe\">\n",
       "  <thead>\n",
       "    <tr style=\"text-align: right;\">\n",
       "      <th></th>\n",
       "      <th>SFH</th>\n",
       "      <th>PopUpWindow</th>\n",
       "      <th>SSL_Final_State</th>\n",
       "      <th>Request_URL</th>\n",
       "      <th>URL_of_Anchor</th>\n",
       "      <th>Web_Traffic</th>\n",
       "      <th>URL_Length</th>\n",
       "      <th>Age_Of_Domain</th>\n",
       "      <th>IP_Address</th>\n",
       "      <th>Class</th>\n",
       "    </tr>\n",
       "  </thead>\n",
       "  <tbody>\n",
       "    <tr>\n",
       "      <th>0</th>\n",
       "      <td>1</td>\n",
       "      <td>-1</td>\n",
       "      <td>1</td>\n",
       "      <td>-1</td>\n",
       "      <td>-1</td>\n",
       "      <td>1</td>\n",
       "      <td>1</td>\n",
       "      <td>1</td>\n",
       "      <td>0</td>\n",
       "      <td>0</td>\n",
       "    </tr>\n",
       "    <tr>\n",
       "      <th>1</th>\n",
       "      <td>-1</td>\n",
       "      <td>-1</td>\n",
       "      <td>-1</td>\n",
       "      <td>-1</td>\n",
       "      <td>-1</td>\n",
       "      <td>0</td>\n",
       "      <td>1</td>\n",
       "      <td>1</td>\n",
       "      <td>1</td>\n",
       "      <td>1</td>\n",
       "    </tr>\n",
       "    <tr>\n",
       "      <th>2</th>\n",
       "      <td>1</td>\n",
       "      <td>-1</td>\n",
       "      <td>0</td>\n",
       "      <td>0</td>\n",
       "      <td>-1</td>\n",
       "      <td>0</td>\n",
       "      <td>-1</td>\n",
       "      <td>1</td>\n",
       "      <td>0</td>\n",
       "      <td>1</td>\n",
       "    </tr>\n",
       "    <tr>\n",
       "      <th>3</th>\n",
       "      <td>1</td>\n",
       "      <td>0</td>\n",
       "      <td>1</td>\n",
       "      <td>-1</td>\n",
       "      <td>-1</td>\n",
       "      <td>0</td>\n",
       "      <td>1</td>\n",
       "      <td>1</td>\n",
       "      <td>0</td>\n",
       "      <td>0</td>\n",
       "    </tr>\n",
       "    <tr>\n",
       "      <th>4</th>\n",
       "      <td>-1</td>\n",
       "      <td>-1</td>\n",
       "      <td>1</td>\n",
       "      <td>-1</td>\n",
       "      <td>0</td>\n",
       "      <td>0</td>\n",
       "      <td>-1</td>\n",
       "      <td>1</td>\n",
       "      <td>0</td>\n",
       "      <td>1</td>\n",
       "    </tr>\n",
       "    <tr>\n",
       "      <th>...</th>\n",
       "      <td>...</td>\n",
       "      <td>...</td>\n",
       "      <td>...</td>\n",
       "      <td>...</td>\n",
       "      <td>...</td>\n",
       "      <td>...</td>\n",
       "      <td>...</td>\n",
       "      <td>...</td>\n",
       "      <td>...</td>\n",
       "      <td>...</td>\n",
       "    </tr>\n",
       "    <tr>\n",
       "      <th>1348</th>\n",
       "      <td>-1</td>\n",
       "      <td>-1</td>\n",
       "      <td>-1</td>\n",
       "      <td>-1</td>\n",
       "      <td>-1</td>\n",
       "      <td>-1</td>\n",
       "      <td>0</td>\n",
       "      <td>1</td>\n",
       "      <td>0</td>\n",
       "      <td>1</td>\n",
       "    </tr>\n",
       "    <tr>\n",
       "      <th>1349</th>\n",
       "      <td>-1</td>\n",
       "      <td>0</td>\n",
       "      <td>1</td>\n",
       "      <td>0</td>\n",
       "      <td>-1</td>\n",
       "      <td>0</td>\n",
       "      <td>0</td>\n",
       "      <td>1</td>\n",
       "      <td>0</td>\n",
       "      <td>-1</td>\n",
       "    </tr>\n",
       "    <tr>\n",
       "      <th>1350</th>\n",
       "      <td>-1</td>\n",
       "      <td>0</td>\n",
       "      <td>-1</td>\n",
       "      <td>-1</td>\n",
       "      <td>-1</td>\n",
       "      <td>0</td>\n",
       "      <td>-1</td>\n",
       "      <td>-1</td>\n",
       "      <td>0</td>\n",
       "      <td>1</td>\n",
       "    </tr>\n",
       "    <tr>\n",
       "      <th>1351</th>\n",
       "      <td>0</td>\n",
       "      <td>0</td>\n",
       "      <td>1</td>\n",
       "      <td>0</td>\n",
       "      <td>0</td>\n",
       "      <td>0</td>\n",
       "      <td>-1</td>\n",
       "      <td>1</td>\n",
       "      <td>0</td>\n",
       "      <td>1</td>\n",
       "    </tr>\n",
       "    <tr>\n",
       "      <th>1352</th>\n",
       "      <td>1</td>\n",
       "      <td>0</td>\n",
       "      <td>1</td>\n",
       "      <td>1</td>\n",
       "      <td>1</td>\n",
       "      <td>0</td>\n",
       "      <td>-1</td>\n",
       "      <td>-1</td>\n",
       "      <td>0</td>\n",
       "      <td>-1</td>\n",
       "    </tr>\n",
       "  </tbody>\n",
       "</table>\n",
       "<p>1353 rows × 10 columns</p>\n",
       "</div>"
      ],
      "text/plain": [
       "     SFH PopUpWindow SSL_Final_State Request_URL URL_of_Anchor Web_Traffic  \\\n",
       "0      1          -1               1          -1            -1           1   \n",
       "1     -1          -1              -1          -1            -1           0   \n",
       "2      1          -1               0           0            -1           0   \n",
       "3      1           0               1          -1            -1           0   \n",
       "4     -1          -1               1          -1             0           0   \n",
       "...   ..         ...             ...         ...           ...         ...   \n",
       "1348  -1          -1              -1          -1            -1          -1   \n",
       "1349  -1           0               1           0            -1           0   \n",
       "1350  -1           0              -1          -1            -1           0   \n",
       "1351   0           0               1           0             0           0   \n",
       "1352   1           0               1           1             1           0   \n",
       "\n",
       "     URL_Length Age_Of_Domain IP_Address Class  \n",
       "0             1             1          0     0  \n",
       "1             1             1          1     1  \n",
       "2            -1             1          0     1  \n",
       "3             1             1          0     0  \n",
       "4            -1             1          0     1  \n",
       "...         ...           ...        ...   ...  \n",
       "1348          0             1          0     1  \n",
       "1349          0             1          0    -1  \n",
       "1350         -1            -1          0     1  \n",
       "1351         -1             1          0     1  \n",
       "1352         -1            -1          0    -1  \n",
       "\n",
       "[1353 rows x 10 columns]"
      ]
     },
     "execution_count": 601,
     "metadata": {},
     "output_type": "execute_result"
    }
   ],
   "source": [
    "lineNum = 0\n",
    "\n",
    "for line in open(\"Files/data.txt\", \"r\"):\n",
    "    lineSplit = line.strip().split(\",\")\n",
    "    designMatrix.loc[lineNum] = lineSplit   \n",
    "    lineNum+=1\n",
    "    \n",
    "designMatrix"
   ]
  },
  {
   "cell_type": "markdown",
   "metadata": {},
   "source": [
    "## Split into training, validation and testing data"
   ]
  },
  {
   "cell_type": "code",
   "execution_count": 602,
   "metadata": {
    "pycharm": {
     "is_executing": true
    }
   },
   "outputs": [],
   "source": [
    "trainData, testData = train_test_split(designMatrix, test_size = 0.4)\n",
    "\n",
    "testData, valData = train_test_split(testData, test_size = 0.5)"
   ]
  },
  {
   "cell_type": "code",
   "execution_count": 603,
   "metadata": {
    "pycharm": {
     "is_executing": true
    }
   },
   "outputs": [
    {
     "name": "stdout",
     "output_type": "stream",
     "text": [
      "trainData size: 811\n",
      "valData size: 271\n",
      "testData size: 271\n"
     ]
    }
   ],
   "source": [
    "print(\"trainData size: \" + str(len(trainData)))\n",
    "print(\"valData size: \" + str(len(valData)))\n",
    "print(\"testData size: \" + str(len(testData)))"
   ]
  },
  {
   "cell_type": "markdown",
   "metadata": {},
   "source": [
    "## Splitting the train,val and test data by their attributes and classes"
   ]
  },
  {
   "cell_type": "code",
   "execution_count": 604,
   "metadata": {
    "pycharm": {
     "is_executing": true
    }
   },
   "outputs": [],
   "source": [
    "train_x = trainData[[ 'SFH',\n",
    "    'PopUpWindow',\n",
    "    'SSL_Final_State',\n",
    "    'Request_URL',\n",
    "    'URL_of_Anchor',\n",
    "    'Web_Traffic',\n",
    "    'URL_Length',\n",
    "    'Age_Of_Domain',\n",
    "    'IP_Address',]]\n",
    "#print(train_x)\n",
    "\n",
    "\n",
    "train_y =trainData['Class']\n",
    "OG_train_y=train_y\n",
    "#print(train_y)\n",
    "\n",
    "test_x =  testData[[ 'SFH',\n",
    "    'PopUpWindow',\n",
    "    'SSL_Final_State',\n",
    "    'Request_URL',\n",
    "    'URL_of_Anchor',\n",
    "    'Web_Traffic',\n",
    "    'URL_Length',\n",
    "    'Age_Of_Domain',\n",
    "    'IP_Address',]]\n",
    "\n",
    "test_y =testData['Class']\n",
    "\n",
    "val_x =  valData[[ 'SFH',\n",
    "    'PopUpWindow',\n",
    "    'SSL_Final_State',\n",
    "    'Request_URL',\n",
    "    'URL_of_Anchor',\n",
    "    'Web_Traffic',\n",
    "    'URL_Length',\n",
    "    'Age_Of_Domain',\n",
    "    'IP_Address',]]\n",
    "\n",
    "val_y =valData['Class']"
   ]
  },
  {
   "cell_type": "markdown",
   "metadata": {},
   "source": [
    "## Defining our logistic regression function, learning rate, tolerance and creating default \"true\" thetas"
   ]
  },
  {
   "cell_type": "code",
   "execution_count": 605,
   "metadata": {},
   "outputs": [],
   "source": [
    "def h(x, θ): # Regression function\n",
    "    return 1/(1+np.exp(-np.dot(x, θ))) # logistic regression using the dot product\n",
    "\n",
    "l_rate = 0.00001\n",
    "tol = 0.001"
   ]
  },
  {
   "cell_type": "markdown",
   "metadata": {},
   "source": [
    "## Model 1: Create A Conversion Matrix \n",
    "#### We keep all y-values equal to 1 as 1 and we convert all y-values equal to 0 or -1 to 0"
   ]
  },
  {
   "cell_type": "code",
   "execution_count": 606,
   "metadata": {
    "pycharm": {
     "is_executing": true
    }
   },
   "outputs": [
    {
     "name": "stdout",
     "output_type": "stream",
     "text": [
      "Before: Element -1 exists in Dataframe\n",
      "After: No instances of -1 in dataset\n"
     ]
    }
   ],
   "source": [
    "holder = train_y \n",
    "Con1 = np.copy(holder)\n",
    "Con1 = Con1.reshape(holder.shape[0])\n",
    "\n",
    "#print(Con1.shape)\n",
    "#print(Con1) \n",
    "#print(Con1[87])\n",
    "\n",
    "#Check if there are instances of -1 in dataset\n",
    "if \"-1\" in Con1:\n",
    "    print('Before: Element -1 exists in Dataframe')\n",
    "else:\n",
    "    print('Before: No instances of -1 in dataset')\n",
    "\n",
    "#Change all 0's and -1's to 0's, and all 1's remain unchanged\n",
    "for x in range(Con1.shape[0]):    \n",
    "    if Con1[x] == \"-1\" or Con1[x] == \"0\":\n",
    "        Con1[x] = \"0\"\n",
    "\n",
    "#Check that theres no instances of -1 in dataset\n",
    "if \"-1\" in Con1:\n",
    "    print('After: Element -1 exists in Dataframe')\n",
    "else:\n",
    "    print('After: No instances of -1 in dataset')\n",
    "    \n",
    "#print(Con1) \n",
    "#print(Con1[87])"
   ]
  },
  {
   "cell_type": "markdown",
   "metadata": {},
   "source": [
    "## Logistic Regression For Model 1"
   ]
  },
  {
   "cell_type": "code",
   "execution_count": 607,
   "metadata": {
    "pycharm": {
     "is_executing": true
    },
    "scrolled": true
   },
   "outputs": [
    {
     "name": "stdout",
     "output_type": "stream",
     "text": [
      "[1. 1. 1. 1. 1. 1. 1. 1. 1.]\n",
      "[0. 0. 0. 0. 0. 0. 0. 0. 0.]\n",
      "(9,)\n",
      "(9,)\n",
      "[0.]\n",
      "(811, 1)\n",
      "[ 1. -1.  0.  1.  1. -1.  1.  1.  0.]\n",
      "(811, 9)\n",
      "1088\n",
      "Model Parameters:  [-1.04969947 -0.22382479 -0.73192604  0.0627067  -0.15843834  1.10584327\n",
      "  0.03302672  0.31228486  0.71003404]\n"
     ]
    }
   ],
   "source": [
    "thetas1= np.ones(train_x.shape[1]) # initialize our parameters\n",
    "thetas_old = np.zeros(train_x.shape[1]) #initialises \"old parameters which will go in our regression function\"\n",
    "\n",
    "print(thetas1)\n",
    "print(thetas_old)\n",
    "print(thetas1.shape)\n",
    "print(thetas_old.shape)\n",
    "\n",
    "model1_y = np.array(Con1,dtype = np.float64)\n",
    "model1_y = model1_y.reshape(811,1)\n",
    "print(model1_y[0])\n",
    "print(model1_y.shape)\n",
    "X = np.array(train_x, dtype = np.float64)  \n",
    "print(X[0])\n",
    "print(X.shape)\n",
    "\n",
    "error1 = []\n",
    "timeline1 = []\n",
    "iterations1 = 0\n",
    "\n",
    "while np.linalg.norm(abs(thetas1 - thetas_old)) > tol:\n",
    "    thetas_old = thetas1\n",
    "    \n",
    "    for i in range(X.shape[0]): \n",
    "        thetas1 = thetas1 - l_rate*( (h(X[i], thetas1) - model1_y[i]) * X[i] ) \n",
    "\n",
    "     \n",
    "    if iterations1%50 == 0:                              \n",
    "        j = 0.5 * pow(model1_y[i] - h(X[i], thetas1), 2) \n",
    "        error1.append(j)\n",
    "        timeline1.append(iterations1)   \n",
    "        #print(\"Error:\" + str(error))\n",
    "        #print(\"Timeline: \" + str(timeline))\n",
    "        #print()       \n",
    "\n",
    "    iterations1 = iterations1+1   \n",
    "        \n",
    "print(iterations1)        \n",
    "print(\"Model Parameters: \", thetas1)"
   ]
  },
  {
   "cell_type": "markdown",
   "metadata": {},
   "source": [
    "### Plot Model 1 error"
   ]
  },
  {
   "cell_type": "code",
   "execution_count": 608,
   "metadata": {},
   "outputs": [
    {
     "data": {
      "text/plain": [
       "[<matplotlib.lines.Line2D at 0x20d3b13ac50>]"
      ]
     },
     "execution_count": 608,
     "metadata": {},
     "output_type": "execute_result"
    },
    {
     "data": {
      "image/png": "[encoded data removed]",
      "text/plain": [
       "<Figure size 432x288 with 1 Axes>"
      ]
     },
     "metadata": {
      "needs_background": "light"
     },
     "output_type": "display_data"
    }
   ],
   "source": [
    "size = len(error1)\n",
    "\n",
    "x1_time = np.zeros(size)\n",
    "y1_error= np.zeros(size) \n",
    "\n",
    "for i in range(0, size):\n",
    "    x1_time[i] = timeline1[i]\n",
    "    y1_error[i] = error1[i]\n",
    "\n",
    "plt.axhline(0,color='black') # plot horizontal axis at 0\n",
    "plt.axvline(0,color='black') # plot vertical axis at 0\n",
    "plt.xlabel('Timeline')\n",
    "plt.ylabel('Model 1 Error')\n",
    "plt.plot(x1_time, y1_error, color=\"red\")"
   ]
  },
  {
   "cell_type": "markdown",
   "metadata": {},
   "source": [
    "## Model 2: Create A Conversion Matrix\n",
    "\n",
    "##### We keep all y-values equal to 0 as 1 and we convert all y-values equal to 1 or -1 to 0"
   ]
  },
  {
   "cell_type": "code",
   "execution_count": 609,
   "metadata": {
    "pycharm": {
     "is_executing": true
    }
   },
   "outputs": [
    {
     "name": "stdout",
     "output_type": "stream",
     "text": [
      "Before: Element -1 exists in Dataframe\n",
      "After: No instances of -1 in dataset\n"
     ]
    }
   ],
   "source": [
    "holder = train_y \n",
    "Con2 = np.copy(holder)\n",
    "Con2 = Con2.reshape(holder.shape[0])\n",
    "\n",
    "#print(Con2.shape)\n",
    "#print(Con2)\n",
    "#print(Con2[19])\n",
    "#print(Con2[33])\n",
    "\n",
    "#Check if there are instances of -1 in dataset\n",
    "if \"-1\" in Con2:\n",
    "    print('Before: Element -1 exists in Dataframe')\n",
    "else:\n",
    "    print('Before: No instances of -1 in dataset')\n",
    "    \n",
    "#Change all 0's to 1's, and change all 1's and -1's to 0's\n",
    "for x in range(Con2.shape[0]):    \n",
    "    if Con2[x] == \"0\":\n",
    "        Con2[x] = 1\n",
    "    elif Con2[x] == \"1\" or Con2[x] == \"-1\":\n",
    "        Con2[x] = 0         \n",
    "\n",
    "#Check that theres no instances of -1 in dataset\n",
    "if \"-1\" in Con2:\n",
    "    print('After: Element -1 exists in Dataframe')\n",
    "else:\n",
    "    print('After: No instances of -1 in dataset')\n",
    "                \n",
    "#print(Con2)\n",
    "#print(Con2[19])\n",
    "#print(Con2[33])"
   ]
  },
  {
   "cell_type": "markdown",
   "metadata": {},
   "source": [
    "## Logistic Regression For Model 2"
   ]
  },
  {
   "cell_type": "code",
   "execution_count": 610,
   "metadata": {
    "pycharm": {
     "is_executing": true
    }
   },
   "outputs": [
    {
     "name": "stdout",
     "output_type": "stream",
     "text": [
      "[1. 1. 1. 1. 1. 1. 1. 1. 1.]\n",
      "[0. 0. 0. 0. 0. 0. 0. 0. 0.]\n",
      "(9,)\n",
      "(9,)\n",
      "[0.]\n",
      "(811, 1)\n",
      "[ 1. -1.  0.  1.  1. -1.  1.  1.  0.]\n",
      "(811, 9)\n",
      "1024\n",
      "Model Parameters:  [-0.57005195  0.97030763 -0.31349969  0.42431787  0.00549293  0.70461186\n",
      "  0.61353144  0.29638071  0.43817086]\n"
     ]
    }
   ],
   "source": [
    "thetas2= np.ones(train_x.shape[1]) # initialize our parameters\n",
    "thetas_old = np.zeros(train_x.shape[1]) #initialises \"old parameters which will go in our regression function\"\n",
    "\n",
    "print(thetas2)\n",
    "print(thetas_old)\n",
    "print(thetas2.shape)\n",
    "print(thetas_old.shape)\n",
    "\n",
    "model2_y = np.array(Con2,dtype = np.float64)\n",
    "model2_y = model2_y.reshape(811,1)\n",
    "print(model2_y[0])\n",
    "print(model2_y.shape)\n",
    "X2 = np.array(train_x, dtype = np.float64)  \n",
    "print(X2[0])\n",
    "print(X2.shape)\n",
    "\n",
    "error2 = []\n",
    "timeline2 = []\n",
    "iterations2 = 0\n",
    "\n",
    "while np.linalg.norm(abs(thetas2 - thetas_old)) > tol:\n",
    "    thetas_old = thetas2\n",
    "    for i in range(X2.shape[0]): \n",
    "        thetas2 = thetas2 - l_rate*( (h(X2[i], thetas2) - model2_y[i]) * X2[i] )\n",
    "        \n",
    "    if iterations2%50 == 0:                              \n",
    "        j = 0.5 * pow(model2_y[i] - h(X2[i], thetas2), 2) \n",
    "        error2.append(j)\n",
    "        timeline2.append(iterations2)   \n",
    "        #print(\"Error:\" + str(error2))\n",
    "        #print(\"Timeline: \" + str(timeline2))\n",
    "        #print()       \n",
    "\n",
    "    iterations2 = iterations2+1   \n",
    "        \n",
    "print(iterations2)        \n",
    "print(\"Model Parameters: \", thetas2)"
   ]
  },
  {
   "cell_type": "markdown",
   "metadata": {},
   "source": [
    "### Plot Model 2 error"
   ]
  },
  {
   "cell_type": "code",
   "execution_count": 611,
   "metadata": {},
   "outputs": [
    {
     "data": {
      "text/plain": [
       "[<matplotlib.lines.Line2D at 0x20d3b1a6160>]"
      ]
     },
     "execution_count": 611,
     "metadata": {},
     "output_type": "execute_result"
    },
    {
     "data": {
      "image/png": "[encoded data removed]",
      "text/plain": [
       "<Figure size 432x288 with 1 Axes>"
      ]
     },
     "metadata": {
      "needs_background": "light"
     },
     "output_type": "display_data"
    }
   ],
   "source": [
    "size = len(error2)\n",
    "\n",
    "x2_time = np.zeros(size)\n",
    "y2_error= np.zeros(size) \n",
    "\n",
    "for i in range(0, size):\n",
    "    x2_time[i] = timeline2[i]\n",
    "    y2_error[i] = error2[i]\n",
    "\n",
    "plt.axhline(0,color='black') # plot horizontal axis at 0\n",
    "plt.axvline(0,color='black') # plot vertical axis at 0\n",
    "plt.xlabel('Timeline')\n",
    "plt.ylabel('Model 2 Error')\n",
    "plt.plot(x2_time, y2_error, color=\"green\")"
   ]
  },
  {
   "cell_type": "markdown",
   "metadata": {},
   "source": [
    "## Model 3: Create A Conversion Matrix\n",
    "\n",
    "##### We keep all y-values equal to -1 as 1 and we convert all y-values equal to 1 or 0 to 0"
   ]
  },
  {
   "cell_type": "code",
   "execution_count": 612,
   "metadata": {
    "pycharm": {
     "is_executing": true
    }
   },
   "outputs": [
    {
     "name": "stdout",
     "output_type": "stream",
     "text": [
      "Before: Element -1 exists in Dataframe\n",
      "After: No instances of -1 in dataset\n"
     ]
    }
   ],
   "source": [
    "holder = train_y \n",
    "Con3 = np.copy(holder)\n",
    "Con3 = Con3.reshape(holder.shape[0])\n",
    "\n",
    "#print(Con3.shape)\n",
    "#print(Con3)\n",
    "#print(Con3[1])\n",
    "#print(Con3[2])\n",
    "\n",
    "#Check if there are instances of -1 in dataset\n",
    "if \"-1\" in Con3:\n",
    "    print('Before: Element -1 exists in Dataframe')\n",
    "else:\n",
    "    print('Before: No instances of -1 in dataset')\n",
    "    print(Con3)\n",
    "    \n",
    "#Change all -1's to 1's, and change all 1's and 0's to 0\n",
    "for x in range(Con3.shape[0]):    \n",
    "    if Con3[x] == \"-1\":\n",
    "        Con3[x] = 1\n",
    "    elif Con3[x] == \"1\" or Con3[x] == \"0\":\n",
    "        Con3[x] = 0\n",
    "\n",
    "#Check that theres no instances of -1 in dataset\n",
    "if \"-1\" in Con3:\n",
    "    print('After: Element -1 exists in Dataframe')\n",
    "else:\n",
    "    print('After: No instances of -1 in dataset')\n",
    "        \n",
    "#print(Con3)\n",
    "#print(Con3[1])\n",
    "#print(Con3[2])"
   ]
  },
  {
   "cell_type": "code",
   "execution_count": 613,
   "metadata": {
    "pycharm": {
     "is_executing": true
    }
   },
   "outputs": [
    {
     "name": "stdout",
     "output_type": "stream",
     "text": [
      "[1. 1. 1. 1. 1. 1. 1. 1. 1.]\n",
      "[0. 0. 0. 0. 0. 0. 0. 0. 0.]\n",
      "(9,)\n",
      "(9,)\n",
      "[1.]\n",
      "(811, 1)\n",
      "[ 1. -1.  0.  1.  1. -1.  1.  1.  0.]\n",
      "(811, 9)\n",
      "1233\n",
      "Model Parameters:  [1.29355955 1.26937634 1.08466068 0.92961495 0.59980259 0.73845276\n",
      " 0.52417636 0.78483144 0.79200805]\n"
     ]
    }
   ],
   "source": [
    "thetas3= np.ones(train_x.shape[1]) # initialize our parameters\n",
    "thetas_old = np.zeros(train_x.shape[1]) #initialises \"old parameters which will go in our regression function\"\n",
    "\n",
    "print(thetas3)\n",
    "print(thetas_old)\n",
    "print(thetas3.shape)\n",
    "print(thetas_old.shape)\n",
    "\n",
    "model3_y = np.array(Con3,dtype = np.float64)\n",
    "model3_y = model3_y.reshape(811,1)\n",
    "print(model3_y[0])\n",
    "print(model3_y.shape)\n",
    "X3 = np.array(train_x, dtype = np.float64)  \n",
    "print(X3[0])\n",
    "print(X3.shape)\n",
    "\n",
    "error3 = []\n",
    "timeline3 = []\n",
    "iterations3 = 0\n",
    "\n",
    "while np.linalg.norm(abs(thetas3 - thetas_old)) > 0.0005:\n",
    "    thetas_old = thetas3\n",
    "    for i in range(X3.shape[0]): \n",
    "        thetas3 = thetas3 - l_rate*( (h(X3[i], thetas3) - model3_y[i]) * X3[i] )\n",
    "  \n",
    "    if iterations3%20 == 0:                              \n",
    "        j = 0.5 * pow(model3_y[i] - h(X3[i], thetas3), 2) \n",
    "        error3.append(j)\n",
    "        timeline3.append(iterations3)   \n",
    "        #print(\"Error:\" + str(error3))\n",
    "        #print(\"Timeline: \" + str(timeline3))\n",
    "        #print()       \n",
    "\n",
    "    iterations3 = iterations3 + 1   \n",
    "        \n",
    "print(iterations3)        \n",
    "print(\"Model Parameters: \", thetas3) "
   ]
  },
  {
   "cell_type": "markdown",
   "metadata": {},
   "source": [
    "### Plot Model 3 error"
   ]
  },
  {
   "cell_type": "code",
   "execution_count": 614,
   "metadata": {},
   "outputs": [
    {
     "data": {
      "text/plain": [
       "[<matplotlib.lines.Line2D at 0x20d3b1f34e0>]"
      ]
     },
     "execution_count": 614,
     "metadata": {},
     "output_type": "execute_result"
    },
    {
     "data": {
      "image/png": "[encoded data removed]",
      "text/plain": [
       "<Figure size 432x288 with 1 Axes>"
      ]
     },
     "metadata": {
      "needs_background": "light"
     },
     "output_type": "display_data"
    }
   ],
   "source": [
    "size = len(error3)\n",
    "\n",
    "x3_time = np.zeros(size)\n",
    "y3_error= np.zeros(size) \n",
    "\n",
    "for i in range(0, size):\n",
    "    x3_time[i] = timeline3[i]\n",
    "    y3_error[i] = error3[i]\n",
    "\n",
    "plt.axhline(0,color='black') # plot horizontal axis at 0\n",
    "plt.axvline(0,color='black') # plot vertical axis at 0\n",
    "plt.xlabel('Timeline')\n",
    "plt.ylabel('Model 3 Error')\n",
    "plt.plot(x3_time, y3_error, color=\"blue\")"
   ]
  },
  {
   "cell_type": "code",
   "execution_count": 615,
   "metadata": {
    "pycharm": {
     "is_executing": true
    }
   },
   "outputs": [
    {
     "name": "stdout",
     "output_type": "stream",
     "text": [
      "Predicted Paramters For Model 1  [-1.04969947 -0.22382479 -0.73192604  0.0627067  -0.15843834  1.10584327\n",
      "  0.03302672  0.31228486  0.71003404]\n",
      "Predicted Paramters For Model 2  [-0.57005195  0.97030763 -0.31349969  0.42431787  0.00549293  0.70461186\n",
      "  0.61353144  0.29638071  0.43817086]\n",
      "Predicted Paramters For Model 3  [1.29355955 1.26937634 1.08466068 0.92961495 0.59980259 0.73845276\n",
      " 0.52417636 0.78483144 0.79200805]\n"
     ]
    }
   ],
   "source": [
    "#Prints the predicted parameters for each model\n",
    "\n",
    "print('Predicted Paramters For Model 1 ', thetas1)\n",
    "print('Predicted Paramters For Model 2 ', thetas2)\n",
    "print('Predicted Paramters For Model 3 ', thetas3)"
   ]
  },
  {
   "cell_type": "code",
   "execution_count": 616,
   "metadata": {
    "pycharm": {
     "is_executing": true
    }
   },
   "outputs": [],
   "source": [
    "#Defines Softmax function\n",
    "\n",
    "def f(X,thetas): # softmax function\n",
    "\n",
    "    #Compute softmax values for each sets of scores in x.\n",
    "    return np.exp(thetas) / np.sum(np.exp(np.dot(X, thetas)))"
   ]
  },
  {
   "cell_type": "code",
   "execution_count": 617,
   "metadata": {
    "pycharm": {
     "is_executing": true
    }
   },
   "outputs": [
    {
     "name": "stdout",
     "output_type": "stream",
     "text": [
      "[0.00015821 0.00036134 0.00021739 0.00048123 0.00038575 0.00136578\n",
      " 0.00046716 0.00061765 0.00091936]\n",
      "[0.00067362 0.00314329 0.00087063 0.00182081 0.00119776 0.00240987\n",
      " 0.00220008 0.00160214 0.00184621]\n",
      "[1.78291456e-04 1.74031514e-04 1.44679468e-04 1.23900027e-04\n",
      " 8.90913855e-05 1.02341249e-04 8.26022081e-05 1.07199490e-04\n",
      " 1.07971587e-04]\n"
     ]
    }
   ],
   "source": [
    "#Plugs in thetas and training data to softmax function (Although not too sure about these values)\n",
    "\n",
    "probability_m1 = f(X,thetas1)\n",
    "probability_m2 = f(X2,thetas2)\n",
    "probability_m3 = f(X3,thetas3)\n",
    "\n",
    "print(probability_m1)\n",
    "print(probability_m2)\n",
    "print(probability_m3)"
   ]
  }
 ],
 "metadata": {
  "kernelspec": {
   "display_name": "Python 3",
   "language": "python",
   "name": "python3"
  },
  "language_info": {
   "codemirror_mode": {
    "name": "ipython",
    "version": 3
   },
   "file_extension": ".py",
   "mimetype": "text/x-python",
   "name": "python",
   "nbconvert_exporter": "python",
   "pygments_lexer": "ipython3",
   "version": "3.7.3"
  }
 },
 "nbformat": 4,
 "nbformat_minor": 2
}
