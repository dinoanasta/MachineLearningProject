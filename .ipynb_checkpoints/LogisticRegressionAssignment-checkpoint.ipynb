{
 "cells": [
  {
   "cell_type": "markdown",
   "metadata": {},
   "source": [
    "# Website Phishing"
   ]
  },
  {
   "cell_type": "markdown",
   "metadata": {},
   "source": [
    "## Group Members:\n",
    "#### Dino Anastasopoulos: 1900661\n",
    "\n",
    "#### Timothy Walters: 1855167\n",
    "\n",
    "#### Razeen Gani: 1842173\n",
    "\n",
    "#### Reece James Peters: 1924514"
   ]
  },
  {
   "cell_type": "markdown",
   "metadata": {},
   "source": [
    "## Library imports"
   ]
  },
  {
   "cell_type": "code",
   "execution_count": 306,
   "metadata": {
    "pycharm": {
     "is_executing": true
    }
   },
   "outputs": [],
   "source": [
    "import numpy as np\n",
    "import pandas as pd\n",
    "\n",
    "import matplotlib.pyplot as plt\n",
    "\n",
    "from sklearn.model_selection import train_test_split"
   ]
  },
  {
   "cell_type": "markdown",
   "metadata": {},
   "source": [
    "## Attributes"
   ]
  },
  {
   "cell_type": "raw",
   "metadata": {},
   "source": [
    "SFH {1,-1,0}\n",
    "popUpWidnow {-1,0,1}\n",
    "SSLfinal_State {1,-1,0}\n",
    "Request_URL {-1,0,1}\n",
    "URL_of_Anchor {-1,0,1}\n",
    "web_traffic {1,0,-1}\n",
    "URL_Length {1,-1,0}\n",
    "age_of_domain {1,-1}\n",
    "having_IP_Address {0,1}\n",
    "Result {0,1,-1}"
   ]
  },
  {
   "cell_type": "markdown",
   "metadata": {},
   "source": [
    "## Create empty design matrix"
   ]
  },
  {
   "cell_type": "code",
   "execution_count": 307,
   "metadata": {
    "pycharm": {
     "is_executing": true
    }
   },
   "outputs": [],
   "source": [
    "designMatrix = pd.DataFrame(columns = [\n",
    "    'SFH',\n",
    "    'PopUpWindow',\n",
    "    'SSL_Final_State',\n",
    "    'Request_URL',\n",
    "    'URL_of_Anchor',\n",
    "    'Web_Traffic',\n",
    "    'URL_Length',\n",
    "    'Age_Of_Domain',\n",
    "    'IP_Address',\n",
    "    'Class',\n",
    "] ) "
   ]
  },
  {
   "cell_type": "markdown",
   "metadata": {},
   "source": [
    "## Import data and populate designMatrix"
   ]
  },
  {
   "cell_type": "code",
   "execution_count": 308,
   "metadata": {
    "pycharm": {
     "is_executing": true
    }
   },
   "outputs": [
    {
     "data": {
      "text/html": [
       "<div>\n",
       "<style scoped>\n",
       "    .dataframe tbody tr th:only-of-type {\n",
       "        vertical-align: middle;\n",
       "    }\n",
       "\n",
       "    .dataframe tbody tr th {\n",
       "        vertical-align: top;\n",
       "    }\n",
       "\n",
       "    .dataframe thead th {\n",
       "        text-align: right;\n",
       "    }\n",
       "</style>\n",
       "<table border=\"1\" class=\"dataframe\">\n",
       "  <thead>\n",
       "    <tr style=\"text-align: right;\">\n",
       "      <th></th>\n",
       "      <th>SFH</th>\n",
       "      <th>PopUpWindow</th>\n",
       "      <th>SSL_Final_State</th>\n",
       "      <th>Request_URL</th>\n",
       "      <th>URL_of_Anchor</th>\n",
       "      <th>Web_Traffic</th>\n",
       "      <th>URL_Length</th>\n",
       "      <th>Age_Of_Domain</th>\n",
       "      <th>IP_Address</th>\n",
       "      <th>Class</th>\n",
       "    </tr>\n",
       "  </thead>\n",
       "  <tbody>\n",
       "    <tr>\n",
       "      <td>0</td>\n",
       "      <td>1</td>\n",
       "      <td>-1</td>\n",
       "      <td>1</td>\n",
       "      <td>-1</td>\n",
       "      <td>-1</td>\n",
       "      <td>1</td>\n",
       "      <td>1</td>\n",
       "      <td>1</td>\n",
       "      <td>0</td>\n",
       "      <td>0</td>\n",
       "    </tr>\n",
       "    <tr>\n",
       "      <td>1</td>\n",
       "      <td>-1</td>\n",
       "      <td>-1</td>\n",
       "      <td>-1</td>\n",
       "      <td>-1</td>\n",
       "      <td>-1</td>\n",
       "      <td>0</td>\n",
       "      <td>1</td>\n",
       "      <td>1</td>\n",
       "      <td>1</td>\n",
       "      <td>1</td>\n",
       "    </tr>\n",
       "    <tr>\n",
       "      <td>2</td>\n",
       "      <td>1</td>\n",
       "      <td>-1</td>\n",
       "      <td>0</td>\n",
       "      <td>0</td>\n",
       "      <td>-1</td>\n",
       "      <td>0</td>\n",
       "      <td>-1</td>\n",
       "      <td>1</td>\n",
       "      <td>0</td>\n",
       "      <td>1</td>\n",
       "    </tr>\n",
       "    <tr>\n",
       "      <td>3</td>\n",
       "      <td>1</td>\n",
       "      <td>0</td>\n",
       "      <td>1</td>\n",
       "      <td>-1</td>\n",
       "      <td>-1</td>\n",
       "      <td>0</td>\n",
       "      <td>1</td>\n",
       "      <td>1</td>\n",
       "      <td>0</td>\n",
       "      <td>0</td>\n",
       "    </tr>\n",
       "    <tr>\n",
       "      <td>4</td>\n",
       "      <td>-1</td>\n",
       "      <td>-1</td>\n",
       "      <td>1</td>\n",
       "      <td>-1</td>\n",
       "      <td>0</td>\n",
       "      <td>0</td>\n",
       "      <td>-1</td>\n",
       "      <td>1</td>\n",
       "      <td>0</td>\n",
       "      <td>1</td>\n",
       "    </tr>\n",
       "    <tr>\n",
       "      <td>...</td>\n",
       "      <td>...</td>\n",
       "      <td>...</td>\n",
       "      <td>...</td>\n",
       "      <td>...</td>\n",
       "      <td>...</td>\n",
       "      <td>...</td>\n",
       "      <td>...</td>\n",
       "      <td>...</td>\n",
       "      <td>...</td>\n",
       "      <td>...</td>\n",
       "    </tr>\n",
       "    <tr>\n",
       "      <td>1348</td>\n",
       "      <td>-1</td>\n",
       "      <td>-1</td>\n",
       "      <td>-1</td>\n",
       "      <td>-1</td>\n",
       "      <td>-1</td>\n",
       "      <td>-1</td>\n",
       "      <td>0</td>\n",
       "      <td>1</td>\n",
       "      <td>0</td>\n",
       "      <td>1</td>\n",
       "    </tr>\n",
       "    <tr>\n",
       "      <td>1349</td>\n",
       "      <td>-1</td>\n",
       "      <td>0</td>\n",
       "      <td>1</td>\n",
       "      <td>0</td>\n",
       "      <td>-1</td>\n",
       "      <td>0</td>\n",
       "      <td>0</td>\n",
       "      <td>1</td>\n",
       "      <td>0</td>\n",
       "      <td>-1</td>\n",
       "    </tr>\n",
       "    <tr>\n",
       "      <td>1350</td>\n",
       "      <td>-1</td>\n",
       "      <td>0</td>\n",
       "      <td>-1</td>\n",
       "      <td>-1</td>\n",
       "      <td>-1</td>\n",
       "      <td>0</td>\n",
       "      <td>-1</td>\n",
       "      <td>-1</td>\n",
       "      <td>0</td>\n",
       "      <td>1</td>\n",
       "    </tr>\n",
       "    <tr>\n",
       "      <td>1351</td>\n",
       "      <td>0</td>\n",
       "      <td>0</td>\n",
       "      <td>1</td>\n",
       "      <td>0</td>\n",
       "      <td>0</td>\n",
       "      <td>0</td>\n",
       "      <td>-1</td>\n",
       "      <td>1</td>\n",
       "      <td>0</td>\n",
       "      <td>1</td>\n",
       "    </tr>\n",
       "    <tr>\n",
       "      <td>1352</td>\n",
       "      <td>1</td>\n",
       "      <td>0</td>\n",
       "      <td>1</td>\n",
       "      <td>1</td>\n",
       "      <td>1</td>\n",
       "      <td>0</td>\n",
       "      <td>-1</td>\n",
       "      <td>-1</td>\n",
       "      <td>0</td>\n",
       "      <td>-1</td>\n",
       "    </tr>\n",
       "  </tbody>\n",
       "</table>\n",
       "<p>1353 rows × 10 columns</p>\n",
       "</div>"
      ],
      "text/plain": [
       "     SFH PopUpWindow SSL_Final_State Request_URL URL_of_Anchor Web_Traffic  \\\n",
       "0      1          -1               1          -1            -1           1   \n",
       "1     -1          -1              -1          -1            -1           0   \n",
       "2      1          -1               0           0            -1           0   \n",
       "3      1           0               1          -1            -1           0   \n",
       "4     -1          -1               1          -1             0           0   \n",
       "...   ..         ...             ...         ...           ...         ...   \n",
       "1348  -1          -1              -1          -1            -1          -1   \n",
       "1349  -1           0               1           0            -1           0   \n",
       "1350  -1           0              -1          -1            -1           0   \n",
       "1351   0           0               1           0             0           0   \n",
       "1352   1           0               1           1             1           0   \n",
       "\n",
       "     URL_Length Age_Of_Domain IP_Address Class  \n",
       "0             1             1          0     0  \n",
       "1             1             1          1     1  \n",
       "2            -1             1          0     1  \n",
       "3             1             1          0     0  \n",
       "4            -1             1          0     1  \n",
       "...         ...           ...        ...   ...  \n",
       "1348          0             1          0     1  \n",
       "1349          0             1          0    -1  \n",
       "1350         -1            -1          0     1  \n",
       "1351         -1             1          0     1  \n",
       "1352         -1            -1          0    -1  \n",
       "\n",
       "[1353 rows x 10 columns]"
      ]
     },
     "execution_count": 308,
     "metadata": {},
     "output_type": "execute_result"
    }
   ],
   "source": [
    "lineNum = 0\n",
    "\n",
    "for line in open(\"Files/data.txt\", \"r\"):\n",
    "    lineSplit = line.strip().split(\",\")\n",
    "    designMatrix.loc[lineNum] = lineSplit   \n",
    "    lineNum+=1\n",
    "    \n",
    "designMatrix"
   ]
  },
  {
   "cell_type": "markdown",
   "metadata": {},
   "source": [
    "## Split into training, validation and testing data"
   ]
  },
  {
   "cell_type": "code",
   "execution_count": 309,
   "metadata": {
    "pycharm": {
     "is_executing": true
    }
   },
   "outputs": [],
   "source": [
    "trainData, testData = train_test_split(designMatrix, test_size = 0.4)\n",
    "\n",
    "testData, valData = train_test_split(testData, test_size = 0.5)"
   ]
  },
  {
   "cell_type": "code",
   "execution_count": 310,
   "metadata": {
    "pycharm": {
     "is_executing": true
    }
   },
   "outputs": [
    {
     "name": "stdout",
     "output_type": "stream",
     "text": [
      "trainData size: 811\n",
      "valData size: 271\n",
      "testData size: 271\n"
     ]
    }
   ],
   "source": [
    "print(\"trainData size: \" + str(len(trainData)))\n",
    "print(\"valData size: \" + str(len(valData)))\n",
    "print(\"testData size: \" + str(len(testData)))"
   ]
  },
  {
   "cell_type": "markdown",
   "metadata": {},
   "source": [
    "## Splitting the train,val and test data by their attributes and classes"
   ]
  },
  {
   "cell_type": "code",
   "execution_count": 311,
   "metadata": {
    "pycharm": {
     "is_executing": true
    }
   },
   "outputs": [
    {
     "name": "stdout",
     "output_type": "stream",
     "text": [
      "     SFH PopUpWindow SSL_Final_State Request_URL URL_of_Anchor Web_Traffic  \\\n",
      "895    0           0               0           0             1           1   \n",
      "233   -1          -1               1          -1            -1           1   \n",
      "149   -1           0               0           0            -1          -1   \n",
      "324   -1          -1              -1           0            -1           1   \n",
      "172    1          -1               0           1             0          -1   \n",
      "...   ..         ...             ...         ...           ...         ...   \n",
      "1196   1           0               1          -1            -1          -1   \n",
      "939    1           0               0           1             1          -1   \n",
      "564    1          -1               0           1            -1          -1   \n",
      "883    1           0               0           1             1          -1   \n",
      "2      1          -1               0           0            -1           0   \n",
      "\n",
      "     URL_Length Age_Of_Domain IP_Address  \n",
      "895           0             1          0  \n",
      "233           0            -1          0  \n",
      "149          -1             1          0  \n",
      "324          -1            -1          0  \n",
      "172           0             1          0  \n",
      "...         ...           ...        ...  \n",
      "1196          1             1          0  \n",
      "939           0             1          0  \n",
      "564          -1             1          0  \n",
      "883           0             1          0  \n",
      "2            -1             1          0  \n",
      "\n",
      "[811 rows x 9 columns]\n"
     ]
    }
   ],
   "source": [
    "train_x = trainData[[ 'SFH',\n",
    "    'PopUpWindow',\n",
    "    'SSL_Final_State',\n",
    "    'Request_URL',\n",
    "    'URL_of_Anchor',\n",
    "    'Web_Traffic',\n",
    "    'URL_Length',\n",
    "    'Age_Of_Domain',\n",
    "    'IP_Address',]]\n",
    "print(train_x)\n",
    "\n",
    "\n",
    "train_y =trainData['Class']\n",
    "OG_train_y=train_y\n",
    "#print(train_y)\n",
    "\n",
    "test_x =  testData[[ 'SFH',\n",
    "    'PopUpWindow',\n",
    "    'SSL_Final_State',\n",
    "    'Request_URL',\n",
    "    'URL_of_Anchor',\n",
    "    'Web_Traffic',\n",
    "    'URL_Length',\n",
    "    'Age_Of_Domain',\n",
    "    'IP_Address',]]\n",
    "\n",
    "test_y =testData['Class']\n",
    "\n",
    "val_x =  valData[[ 'SFH',\n",
    "    'PopUpWindow',\n",
    "    'SSL_Final_State',\n",
    "    'Request_URL',\n",
    "    'URL_of_Anchor',\n",
    "    'Web_Traffic',\n",
    "    'URL_Length',\n",
    "    'Age_Of_Domain',\n",
    "    'IP_Address',]]\n",
    "\n",
    "val_y =valData['Class']"
   ]
  },
  {
   "cell_type": "markdown",
   "metadata": {},
   "source": [
    "## Defining our logistic regression function, learning rate, tolerance and creating default \"true\" thetas"
   ]
  },
  {
   "cell_type": "code",
   "execution_count": 404,
   "metadata": {},
   "outputs": [],
   "source": [
    "def h(x, θ): # Regression function\n",
    "    return 1/(1+np.exp(-np.dot(x, θ))) # logistic regression using the dot product\n",
    "\n",
    "l_rate = 0.001 #0.00001\n",
    "tol = 0.001"
   ]
  },
  {
   "cell_type": "markdown",
   "metadata": {},
   "source": [
    "## Model 1: Create A Conversion Matrix \n",
    "#### We keep all y-values equal to 1 as 1 and we convert all y-values equal to 0 or -1 to 0"
   ]
  },
  {
   "cell_type": "code",
   "execution_count": 405,
   "metadata": {
    "pycharm": {
     "is_executing": true
    }
   },
   "outputs": [
    {
     "name": "stdout",
     "output_type": "stream",
     "text": [
      "Before: Element -1 exists in Dataframe\n",
      "After: No instances of -1 in dataset\n"
     ]
    }
   ],
   "source": [
    "holder = train_y \n",
    "\n",
    "Con1 = np.copy(holder)\n",
    "Con1 = Con1.reshape(holder.shape[0])\n",
    "\n",
    "#print(Con1.shape)\n",
    "#print(Con1) \n",
    "#print(Con1[87])\n",
    "\n",
    "#Check if there are instances of -1 in dataset\n",
    "if \"-1\" in Con1:\n",
    "    print('Before: Element -1 exists in Dataframe')\n",
    "else:\n",
    "    print('Before: No instances of -1 in dataset')\n",
    "\n",
    "#Change all 0's and -1's to 0's, and all 1's remain unchanged\n",
    "for x in range(Con1.shape[0]):    \n",
    "    if Con1[x] == \"-1\" or Con1[x] == \"0\":\n",
    "        Con1[x] = \"0\"\n",
    "\n",
    "#Check that theres no instances of -1 in dataset\n",
    "if \"-1\" in Con1:\n",
    "    print('After: Element -1 exists in Dataframe')\n",
    "else:\n",
    "    print('After: No instances of -1 in dataset')\n",
    "    \n",
    "#print(Con1) \n",
    "#print(Con1[87])"
   ]
  },
  {
   "cell_type": "markdown",
   "metadata": {},
   "source": [
    "## Logistic Regression For Model 1"
   ]
  },
  {
   "cell_type": "code",
   "execution_count": 406,
   "metadata": {
    "pycharm": {
     "is_executing": true
    },
    "scrolled": true
   },
   "outputs": [
    {
     "name": "stdout",
     "output_type": "stream",
     "text": [
      "[1. 1. 1. 1. 1. 1. 1. 1. 1.]\n",
      "[0. 0. 0. 0. 0. 0. 0. 0. 0.]\n",
      "(9,)\n",
      "(9,)\n",
      "[1.]\n",
      "(811, 1)\n",
      "[0. 0. 0. 0. 1. 1. 0. 1. 0.]\n",
      "(811, 9)\n",
      "1200\n",
      "Model Parameters:  [-1.46330864 -1.48646371 -1.79233772 -0.1204349  -0.16710155  0.01841315\n",
      " -0.45116391 -0.40355841  0.50161043]\n"
     ]
    }
   ],
   "source": [
    "thetas1= np.ones(train_x.shape[1]) # initialize our parameters for training data\n",
    "thetas_old = np.zeros(train_x.shape[1]) #initialises \"old parameters which will go in our regression function\"\n",
    "\n",
    "\n",
    "print(thetas1)\n",
    "print(thetas_old)\n",
    "print(thetas1.shape)\n",
    "print(thetas_old.shape)\n",
    "\n",
    "model1_y = np.array(Con1,dtype = np.float64)\n",
    "\n",
    "model1_y = model1_y.reshape(811,1)\n",
    "\n",
    "print(model1_y[0])\n",
    "print(model1_y.shape)\n",
    "\n",
    "X = np.array(train_x, dtype = np.float64)  \n",
    "\n",
    "print(X[0])\n",
    "print(X.shape)\n",
    "\n",
    "error1 = []\n",
    "timeline1 = []\n",
    "iterations1 = 0\n",
    "\n",
    "while np.linalg.norm(abs(thetas1 - thetas_old)) > tol and iterations1 != 1200:\n",
    "\n",
    "    \n",
    "    for i in range(X.shape[0]): \n",
    "        thetas1 = thetas1 - l_rate*( (h(X[i], thetas1) - model1_y[i]) * X[i])\n",
    "        #print(thetas1-thetas_old)\n",
    "        \n",
    "\n",
    "     \n",
    "    if iterations1%50 == 0:                              \n",
    "        j = 0.5 * pow(model1_y[i] - h(X[i], thetas1), 2) \n",
    "        error1.append(j)\n",
    "        timeline1.append(iterations1)   \n",
    "        #print(\"Error:\" + str(error))\n",
    "        #print(\"Timeline: \" + str(timeline))\n",
    "        #print()       \n",
    "\n",
    "    iterations1 = iterations1+1   \n",
    "        \n",
    "print(iterations1)        \n",
    "print(\"Model Parameters: \", thetas1)"
   ]
  },
  {
   "cell_type": "markdown",
   "metadata": {},
   "source": [
    "### Plot Model 1 error"
   ]
  },
  {
   "cell_type": "code",
   "execution_count": 407,
   "metadata": {},
   "outputs": [
    {
     "data": {
      "text/plain": [
       "[<matplotlib.lines.Line2D at 0x1615bb12fc8>]"
      ]
     },
     "execution_count": 407,
     "metadata": {},
     "output_type": "execute_result"
    },
    {
     "data": {
      "image/png": "[encoded data removed]",
      "text/plain": [
       "<Figure size 432x288 with 1 Axes>"
      ]
     },
     "metadata": {
      "needs_background": "light"
     },
     "output_type": "display_data"
    }
   ],
   "source": [
    "size = len(error1)\n",
    "\n",
    "x1_time = np.zeros(size)\n",
    "y1_error= np.zeros(size) \n",
    "\n",
    "for i in range(0, size):\n",
    "    x1_time[i] = timeline1[i]\n",
    "    y1_error[i] = error1[i]\n",
    "\n",
    "plt.axhline(0,color='black') # plot horizontal axis at 0\n",
    "plt.axvline(0,color='black') # plot vertical axis at 0\n",
    "plt.xlabel('Timeline')\n",
    "plt.ylabel('Model 1 Error')\n",
    "plt.plot(x1_time, y1_error, color=\"red\")"
   ]
  },
  {
   "cell_type": "markdown",
   "metadata": {},
   "source": [
    "## Model 2: Create A Conversion Matrix\n",
    "\n",
    "##### We keep all y-values equal to 0 as 1 and we convert all y-values equal to 1 or -1 to 0"
   ]
  },
  {
   "cell_type": "code",
   "execution_count": 408,
   "metadata": {
    "pycharm": {
     "is_executing": true
    }
   },
   "outputs": [
    {
     "name": "stdout",
     "output_type": "stream",
     "text": [
      "Before: Element -1 exists in Dataframe\n",
      "After: No instances of -1 in dataset\n"
     ]
    }
   ],
   "source": [
    "holder = train_y\n",
    "\n",
    "Con2 = np.copy(holder)\n",
    "Con2 = Con2.reshape(holder.shape[0])\n",
    "\n",
    "#print(Con2.shape)\n",
    "#print(Con2)\n",
    "#print(Con2[19])\n",
    "#print(Con2[33])\n",
    "\n",
    "#Check if there are instances of -1 in dataset\n",
    "if \"-1\" in Con2:\n",
    "    print('Before: Element -1 exists in Dataframe')\n",
    "else:\n",
    "    print('Before: No instances of -1 in dataset')\n",
    "    \n",
    "#Change all 0's to 1's, and change all 1's and -1's to 0's\n",
    "for x in range(Con2.shape[0]):    \n",
    "    if Con2[x] == \"0\":\n",
    "        Con2[x] = 1\n",
    "    elif Con2[x] == \"1\" or Con2[x] == \"-1\":\n",
    "        Con2[x] = 0         \n",
    "\n",
    "#Check that theres no instances of -1 in dataset\n",
    "if \"-1\" in Con2:\n",
    "    print('After: Element -1 exists in Dataframe')\n",
    "else:\n",
    "    print('After: No instances of -1 in dataset')\n",
    "                \n",
    "#print(Con2)\n",
    "#print(Con2[19])\n",
    "#print(Con2[33])"
   ]
  },
  {
   "cell_type": "markdown",
   "metadata": {},
   "source": [
    "## Logistic Regression For Model 2"
   ]
  },
  {
   "cell_type": "code",
   "execution_count": 409,
   "metadata": {
    "pycharm": {
     "is_executing": true
    }
   },
   "outputs": [
    {
     "name": "stdout",
     "output_type": "stream",
     "text": [
      "[1. 1. 1. 1. 1. 1. 1. 1. 1.]\n",
      "[0. 0. 0. 0. 0. 0. 0. 0. 0.]\n",
      "(9,)\n",
      "(9,)\n",
      "[0.]\n",
      "(811, 1)\n",
      "[0. 0. 0. 0. 1. 1. 0. 1. 0.]\n",
      "(811, 9)\n",
      "353\n",
      "Model Parameters:  [-0.83745258  1.05689587 -0.41956575  0.26393747 -0.04267841 -0.54045697\n",
      "  0.73434384 -0.46216055 -2.14876121]\n"
     ]
    }
   ],
   "source": [
    "thetas2= np.ones(train_x.shape[1]) # initialize our parameters\n",
    "\n",
    "thetas_old = np.zeros(train_x.shape[1]) #initialises \"old parameters which will go in our regression function\"\n",
    "\n",
    "print(thetas2)\n",
    "print(thetas_old)\n",
    "print(thetas2.shape)\n",
    "print(thetas_old.shape)\n",
    "\n",
    "model2_y = np.array(Con2,dtype = np.float64)\n",
    "\n",
    "model2_y = model2_y.reshape(811,1)\n",
    "\n",
    "print(model2_y[0])\n",
    "print(model2_y.shape)\n",
    "\n",
    "X2 = np.array(train_x, dtype = np.float64)  \n",
    "\n",
    "print(X2[0])\n",
    "print(X2.shape)\n",
    "\n",
    "error2 = []\n",
    "timeline2 = []\n",
    "iterations2 = 0\n",
    "\n",
    "while np.linalg.norm(abs(thetas2 - thetas_old)) > tol and iterations2 != 1200:\n",
    "    thetas_old = thetas2\n",
    "    for i in range(X2.shape[0]): \n",
    "        thetas2 = thetas2 - l_rate*( (h(X2[i], thetas2) - model2_y[i]) * X2[i] )\n",
    "        \n",
    "    if iterations2%50 == 0:                              \n",
    "        j = 0.5 * pow(model2_y[i] - h(X2[i], thetas2), 2) \n",
    "        error2.append(j)\n",
    "        timeline2.append(iterations2)   \n",
    "        #print(\"Error:\" + str(error2))\n",
    "        #print(\"Timeline: \" + str(timeline2))\n",
    "        #print()       \n",
    "\n",
    "    iterations2 = iterations2+1   \n",
    "        \n",
    "print(iterations2)        \n",
    "print(\"Model Parameters: \", thetas2)"
   ]
  },
  {
   "cell_type": "markdown",
   "metadata": {
    "pycharm": {
     "name": "#%% md\n"
    }
   },
   "source": [
    "### Plot Model 2 error"
   ]
  },
  {
   "cell_type": "code",
   "execution_count": 410,
   "metadata": {},
   "outputs": [
    {
     "data": {
      "text/plain": [
       "[<matplotlib.lines.Line2D at 0x1615bb88788>]"
      ]
     },
     "execution_count": 410,
     "metadata": {},
     "output_type": "execute_result"
    },
    {
     "data": {
      "image/png": "[encoded data removed]",
      "text/plain": [
       "<Figure size 432x288 with 1 Axes>"
      ]
     },
     "metadata": {
      "needs_background": "light"
     },
     "output_type": "display_data"
    }
   ],
   "source": [
    "size = len(error2)\n",
    "\n",
    "x2_time = np.zeros(size)\n",
    "y2_error= np.zeros(size) \n",
    "\n",
    "for i in range(0, size):\n",
    "    x2_time[i] = timeline2[i]\n",
    "    y2_error[i] = error2[i]\n",
    "\n",
    "plt.axhline(0,color='black') # plot horizontal axis at 0\n",
    "plt.axvline(0,color='black') # plot vertical axis at 0\n",
    "plt.xlabel('Timeline')\n",
    "plt.ylabel('Model 2 Error')\n",
    "plt.plot(x2_time, y2_error, color=\"green\")"
   ]
  },
  {
   "cell_type": "markdown",
   "metadata": {
    "pycharm": {
     "name": "#%% md\n"
    }
   },
   "source": [
    "## Model 3: Create A Conversion Matrix\n",
    "\n",
    "##### We keep all y-values equal to -1 as 1 and we convert all y-values equal to 1 or 0 to 0"
   ]
  },
  {
   "cell_type": "code",
   "execution_count": 411,
   "metadata": {
    "pycharm": {
     "is_executing": true
    }
   },
   "outputs": [
    {
     "name": "stdout",
     "output_type": "stream",
     "text": [
      "Before: Element -1 exists in Dataframe\n",
      "After: No instances of -1 in dataset\n"
     ]
    }
   ],
   "source": [
    "holder = train_y \n",
    "\n",
    "Con3 = np.copy(holder)\n",
    "Con3 = Con3.reshape(holder.shape[0])\n",
    "\n",
    "#print(Con3.shape)\n",
    "#print(Con3)\n",
    "#print(Con3[1])\n",
    "#print(Con3[2])\n",
    "\n",
    "#Check if there are instances of -1 in dataset\n",
    "if \"-1\" in Con3:\n",
    "    print('Before: Element -1 exists in Dataframe')\n",
    "else:\n",
    "    print('Before: No instances of -1 in dataset')\n",
    "    print(Con3)\n",
    "    \n",
    "#Change all -1's to 1's, and change all 1's and 0's to 0\n",
    "for x in range(Con3.shape[0]):    \n",
    "    if Con3[x] == \"-1\":\n",
    "        Con3[x] = 1\n",
    "    elif Con3[x] == \"1\" or Con3[x] == \"0\":\n",
    "        Con3[x] = 0\n",
    "\n",
    "#Check that theres no instances of -1 in dataset\n",
    "if \"-1\" in Con3:\n",
    "    print('After: Element -1 exists in Dataframe')\n",
    "else:\n",
    "    print('After: No instances of -1 in dataset')\n",
    "        \n",
    "#print(Con3)\n",
    "#print(Con3[1])\n",
    "#print(Con3[2])"
   ]
  },
  {
   "cell_type": "code",
   "execution_count": 412,
   "metadata": {
    "pycharm": {
     "is_executing": true
    }
   },
   "outputs": [
    {
     "name": "stdout",
     "output_type": "stream",
     "text": [
      "[1. 1. 1. 1. 1. 1. 1. 1. 1.]\n",
      "[0. 0. 0. 0. 0. 0. 0. 0. 0.]\n",
      "(9,)\n",
      "(9,)\n",
      "[0.]\n",
      "(811, 1)\n",
      "[0. 0. 0. 0. 1. 1. 0. 1. 0.]\n",
      "(811, 9)\n",
      "458\n",
      "Model Parameters:  [ 1.56542618  1.83796898  1.63226569  1.14476673  0.28476911 -0.05693961\n",
      " -0.21508022  0.15492265 -0.89000047]\n"
     ]
    }
   ],
   "source": [
    "thetas3= np.ones(train_x.shape[1]) # initialize our parameters\n",
    "\n",
    "thetas_old = np.zeros(train_x.shape[1]) #initialises \"old parameters which will go in our regression function\"\n",
    "\n",
    "print(thetas3)\n",
    "print(thetas_old)\n",
    "print(thetas3.shape)\n",
    "print(thetas_old.shape)\n",
    "\n",
    "model3_y = np.array(Con3,dtype = np.float64)\n",
    "\n",
    "model3_y = model3_y.reshape(811,1)\n",
    "\n",
    "print(model3_y[0])\n",
    "print(model3_y.shape)\n",
    "\n",
    "X3 = np.array(train_x, dtype = np.float64)  \n",
    "\n",
    "print(X3[0])\n",
    "print(X3.shape)\n",
    "\n",
    "error3 = []\n",
    "timeline3 = []\n",
    "iterations3 = 0\n",
    "\n",
    "while np.linalg.norm(abs(thetas3 - thetas_old)) > 0.0005 and iterations3 != 1200:\n",
    "    thetas_old = thetas3\n",
    "    for i in range(X3.shape[0]): \n",
    "        thetas3 = thetas3 - l_rate*( (h(X3[i], thetas3) - model3_y[i]) * X3[i] )\n",
    "  \n",
    "    if iterations3%20 == 0:                              \n",
    "        j = 0.5 * pow(model3_y[i] - h(X3[i], thetas3), 2) \n",
    "        error3.append(j)\n",
    "        timeline3.append(iterations3)   \n",
    "        #print(\"Error:\" + str(error3))\n",
    "        #print(\"Timeline: \" + str(timeline3))\n",
    "        #print()       \n",
    "\n",
    "    iterations3 = iterations3 + 1   \n",
    "        \n",
    "print(iterations3)        \n",
    "print(\"Model Parameters: \", thetas3) "
   ]
  },
  {
   "cell_type": "markdown",
   "metadata": {},
   "source": [
    "### Plot Model 3 error"
   ]
  },
  {
   "cell_type": "code",
   "execution_count": 413,
   "metadata": {
    "pycharm": {
     "name": "#%%\n"
    }
   },
   "outputs": [
    {
     "data": {
      "text/plain": [
       "[<matplotlib.lines.Line2D at 0x1615bbf8a88>]"
      ]
     },
     "execution_count": 413,
     "metadata": {},
     "output_type": "execute_result"
    },
    {
     "data": {
      "image/png": "[encoded data removed]",
      "text/plain": [
       "<Figure size 432x288 with 1 Axes>"
      ]
     },
     "metadata": {
      "needs_background": "light"
     },
     "output_type": "display_data"
    }
   ],
   "source": [
    "size = len(error3)\n",
    "\n",
    "x3_time = np.zeros(size)\n",
    "y3_error= np.zeros(size) \n",
    "\n",
    "for i in range(0, size):\n",
    "    x3_time[i] = timeline3[i]\n",
    "    y3_error[i] = error3[i]\n",
    "\n",
    "plt.axhline(0,color='black') # plot horizontal axis at 0\n",
    "plt.axvline(0,color='black') # plot vertical axis at 0\n",
    "plt.xlabel('Timeline')\n",
    "plt.ylabel('Model 3 Error')\n",
    "plt.plot(x3_time, y3_error, color=\"blue\")"
   ]
  },
  {
   "cell_type": "code",
   "execution_count": null,
   "metadata": {
    "pycharm": {
     "name": "#%%\n"
    },
    "scrolled": true
   },
   "outputs": [],
   "source": []
  },
  {
   "cell_type": "code",
   "execution_count": null,
   "metadata": {
    "pycharm": {
     "name": "#%%\n"
    }
   },
   "outputs": [],
   "source": []
  },
  {
   "cell_type": "code",
   "execution_count": null,
   "metadata": {
    "pycharm": {
     "name": "#%%\n"
    }
   },
   "outputs": [],
   "source": []
  },
  {
   "cell_type": "code",
   "execution_count": null,
   "metadata": {},
   "outputs": [],
   "source": []
  },
  {
   "cell_type": "markdown",
   "metadata": {},
   "source": [
    "# Predicted parameters for each model"
   ]
  },
  {
   "cell_type": "code",
   "execution_count": 414,
   "metadata": {
    "pycharm": {
     "is_executing": true
    }
   },
   "outputs": [
    {
     "name": "stdout",
     "output_type": "stream",
     "text": [
      "Predicted Paramters For Model 1  [-1.46330864 -1.48646371 -1.79233772 -0.1204349  -0.16710155  0.01841315\n",
      " -0.45116391 -0.40355841  0.50161043]\n",
      "Predicted Paramters For Model 2  [-0.83745258  1.05689587 -0.41956575  0.26393747 -0.04267841 -0.54045697\n",
      "  0.73434384 -0.46216055 -2.14876121]\n",
      "Predicted Paramters For Model 3  [ 1.56542618  1.83796898  1.63226569  1.14476673  0.28476911 -0.05693961\n",
      " -0.21508022  0.15492265 -0.89000047]\n"
     ]
    }
   ],
   "source": [
    "print('Predicted Paramters For Model 1 ', thetas1)\n",
    "print('Predicted Paramters For Model 2 ', thetas2)\n",
    "print('Predicted Paramters For Model 3 ', thetas3)"
   ]
  },
  {
   "cell_type": "markdown",
   "metadata": {
    "pycharm": {
     "is_executing": true
    }
   },
   "source": [
    "## Defines Softmax function and classifies each data instance based on the highest probability"
   ]
  },
  {
   "cell_type": "code",
   "execution_count": 415,
   "metadata": {
    "pycharm": {
     "is_executing": true
    }
   },
   "outputs": [],
   "source": [
    "def f(X): # softmax function\n",
    "\n",
    "    return np.exp(X) / np.sum(np.exp(X))"
   ]
  },
  {
   "cell_type": "code",
   "execution_count": 416,
   "metadata": {},
   "outputs": [
    {
     "name": "stdout",
     "output_type": "stream",
     "text": [
      "[5.24775815e-05 2.05004101e-02 9.79447112e-01]\n",
      "2\n",
      "[9.97924498e-01 2.07091162e-03 4.59066524e-06]\n",
      "0\n",
      "[9.96543250e-01 3.15015685e-03 3.06593065e-04]\n",
      "0\n",
      "[0.04142945 0.02156525 0.9370053 ]\n",
      "2\n",
      "[9.93249220e-01 6.74499427e-03 5.78583460e-06]\n",
      "0\n",
      "[0.61440105 0.01314105 0.37245789]\n",
      "0\n",
      "[0.63706127 0.30150451 0.06143421]\n",
      "0\n",
      "[0.92631799 0.06514444 0.00853757]\n",
      "0\n",
      "[9.73731259e-01 2.60945467e-02 1.74194026e-04]\n",
      "0\n",
      "[0.74732527 0.17043182 0.08224291]\n",
      "0\n",
      "[0.00565268 0.00157158 0.99277574]\n",
      "2\n",
      "[9.87459801e-01 1.19261832e-02 6.14016099e-04]\n",
      "0\n",
      "[0.00487494 0.01429853 0.98082653]\n",
      "2\n",
      "[0.9832665  0.01273921 0.0039943 ]\n",
      "0\n",
      "[0.57583838 0.06359754 0.36056408]\n",
      "0\n",
      "[0.65287126 0.26843123 0.07869751]\n",
      "0\n",
      "[0.00284063 0.00456852 0.99259085]\n",
      "2\n",
      "[0.8893061  0.04764961 0.06304429]\n",
      "0\n",
      "[9.31885223e-01 6.76191012e-02 4.95675870e-04]\n",
      "0\n",
      "[0.25127026 0.20997969 0.53875005]\n",
      "2\n",
      "[0.28848688 0.13786311 0.57365001]\n",
      "2\n",
      "[0.00381052 0.11790864 0.87828085]\n",
      "2\n",
      "[0.0016511  0.00542168 0.99292723]\n",
      "2\n",
      "[5.63994097e-05 2.15809258e-03 9.97785508e-01]\n",
      "2\n",
      "[9.74156173e-01 2.57193211e-02 1.24505719e-04]\n",
      "0\n",
      "[0.08484711 0.08622292 0.82892997]\n",
      "2\n",
      "[9.98810427e-01 1.18531216e-03 4.26123733e-06]\n",
      "0\n",
      "[0.00140178 0.00861361 0.98998461]\n",
      "2\n",
      "[0.95002568 0.00298792 0.0469864 ]\n",
      "0\n",
      "[0.90525711 0.0838859  0.01085699]\n",
      "0\n",
      "[5.24775815e-05 2.05004101e-02 9.79447112e-01]\n",
      "2\n",
      "[9.96541609e-01 3.44194089e-03 1.64500956e-05]\n",
      "0\n",
      "[1.49617673e-04 3.02835457e-03 9.96822028e-01]\n",
      "2\n",
      "[0.52329811 0.40262425 0.07407764]\n",
      "0\n",
      "[0.04800259 0.03540461 0.9165928 ]\n",
      "2\n",
      "[0.07043063 0.29955068 0.63001869]\n",
      "2\n",
      "[0.87743268 0.0421229  0.08044442]\n",
      "0\n",
      "[0.90299908 0.06229346 0.03470746]\n",
      "0\n",
      "[9.93978880e-01 6.00342843e-03 1.76919388e-05]\n",
      "0\n",
      "[0.64656384 0.3428484  0.01058776]\n",
      "0\n",
      "[0.00455984 0.01801536 0.9774248 ]\n",
      "2\n",
      "[9.95228841e-01 4.71770379e-03 5.34548054e-05]\n",
      "0\n",
      "[0.0014215  0.04364845 0.95493005]\n",
      "2\n",
      "[0.35387369 0.54402999 0.10209632]\n",
      "1\n",
      "[0.22335552 0.07020914 0.70643534]\n",
      "2\n",
      "[0.4618849  0.27830526 0.25980984]\n",
      "0\n",
      "[0.90160454 0.03386656 0.0645289 ]\n",
      "0\n",
      "[9.76684358e-01 2.29342200e-02 3.81421735e-04]\n",
      "0\n",
      "[0.00583136 0.0070405  0.98712814]\n",
      "2\n",
      "[0.83362682 0.1625306  0.00384258]\n",
      "0\n",
      "[0.74986819 0.22818364 0.02194817]\n",
      "0\n",
      "[9.59445198e-01 3.99893051e-02 5.65496726e-04]\n",
      "0\n",
      "[0.0328941  0.00244935 0.96465655]\n",
      "2\n",
      "[0.81803281 0.01967207 0.16229512]\n",
      "0\n",
      "[0.18742885 0.16143749 0.65113366]\n",
      "2\n",
      "[0.59493772 0.11722783 0.28783445]\n",
      "0\n",
      "[0.832529   0.14487209 0.02259891]\n",
      "0\n",
      "[0.95178375 0.0303867  0.01782955]\n",
      "0\n",
      "[0.83840395 0.05676155 0.1048345 ]\n",
      "0\n",
      "[0.92894104 0.06362212 0.00743684]\n",
      "0\n",
      "[1.50852511e-05 4.67385919e-03 9.95311056e-01]\n",
      "2\n",
      "[9.14180994e-06 1.18870080e-03 9.98802157e-01]\n",
      "2\n",
      "[0.00129324 0.01389627 0.98481049]\n",
      "2\n",
      "[0.00621948 0.00557464 0.98820588]\n",
      "2\n",
      "[0.74299172 0.25331543 0.00369284]\n",
      "0\n",
      "[0.00621948 0.00557464 0.98820588]\n",
      "2\n",
      "[0.01076742 0.04306017 0.94617241]\n",
      "2\n",
      "[8.26659186e-04 1.00596587e-02 9.89113682e-01]\n",
      "2\n",
      "[0.85108174 0.13791215 0.01100612]\n",
      "0\n",
      "[0.01563649 0.02948822 0.95487528]\n",
      "2\n",
      "[0.0081248  0.35976983 0.63210537]\n",
      "2\n",
      "[1.91569684e-05 1.81380415e-03 9.98167039e-01]\n",
      "2\n",
      "[0.1025069  0.79492627 0.10256683]\n",
      "1\n",
      "[0.00109242 0.0219662  0.97694138]\n",
      "2\n",
      "[8.93733321e-04 4.84487306e-03 9.94261394e-01]\n",
      "2\n",
      "[1.19891075e-03 4.62458915e-04 9.98338630e-01]\n",
      "2\n",
      "[1.99439817e-04 6.67028936e-03 9.93130271e-01]\n",
      "2\n",
      "[9.20338115e-01 7.95129363e-02 1.48949127e-04]\n",
      "0\n",
      "[0.79783227 0.11712362 0.08504412]\n",
      "0\n",
      "[0.8707338  0.10348443 0.02578178]\n",
      "0\n",
      "[0.94053854 0.05603774 0.00342372]\n",
      "0\n",
      "[9.98810427e-01 1.18531216e-03 4.26123733e-06]\n",
      "0\n",
      "[9.85556774e-01 1.34803131e-02 9.62912702e-04]\n",
      "0\n",
      "[9.59445198e-01 3.99893051e-02 5.65496726e-04]\n",
      "0\n",
      "[0.81697242 0.04913105 0.13389653]\n",
      "0\n",
      "[9.91145428e-01 8.79205424e-03 6.25180953e-05]\n",
      "0\n",
      "[9.94309937e-01 5.67102703e-03 1.90359414e-05]\n",
      "0\n",
      "[0.89597283 0.08331725 0.02070992]\n",
      "0\n",
      "[9.28216519e-01 7.13244622e-02 4.59018658e-04]\n",
      "0\n",
      "[9.85556774e-01 1.34803131e-02 9.62912702e-04]\n",
      "0\n",
      "[0.00712828 0.17192203 0.82094969]\n",
      "2\n",
      "[9.77904989e-01 2.16842377e-02 4.10773268e-04]\n",
      "0\n",
      "[0.00677103 0.00495059 0.98827838]\n",
      "2\n",
      "[0.03411669 0.09245424 0.87342907]\n",
      "2\n",
      "[9.96126288e-01 3.86833025e-03 5.38142012e-06]\n",
      "0\n",
      "[0.01023158 0.00118492 0.98858349]\n",
      "2\n",
      "[0.9860872  0.01120989 0.00270291]\n",
      "0\n",
      "[0.00341885 0.05738198 0.93919918]\n",
      "2\n",
      "[0.00663225 0.00153808 0.99182966]\n",
      "2\n",
      "[0.00107319 0.01214991 0.98677689]\n",
      "2\n",
      "[9.98677594e-01 1.31638504e-03 6.02058640e-06]\n",
      "0\n",
      "[9.92269968e-01 7.68642844e-03 4.36031625e-05]\n",
      "0\n",
      "[0.88709428 0.0287653  0.08414042]\n",
      "0\n",
      "[0.00418339 0.02890256 0.96691405]\n",
      "2\n",
      "[6.73716367e-04 1.53219558e-03 9.97794088e-01]\n",
      "2\n",
      "[2.09166562e-04 4.17096314e-03 9.95619870e-01]\n",
      "2\n",
      "[0.64656384 0.3428484  0.01058776]\n",
      "0\n",
      "[1.89802713e-04 1.17399642e-03 9.98636201e-01]\n",
      "2\n",
      "[0.04800259 0.03540461 0.9165928 ]\n",
      "2\n",
      "[0.00448028 0.0327789  0.96274083]\n",
      "2\n",
      "[6.83715838e-06 5.38030663e-04 9.99455132e-01]\n",
      "2\n",
      "[7.71320585e-05 5.15770804e-04 9.99407097e-01]\n",
      "2\n",
      "[0.97347115 0.02037434 0.00615451]\n",
      "0\n",
      "[0.92133956 0.0561227  0.02253774]\n",
      "0\n",
      "[8.56359831e-05 3.12410833e-03 9.96790256e-01]\n",
      "2\n",
      "[0.00448028 0.0327789  0.96274083]\n",
      "2\n",
      "[9.85011632e-01 1.48716125e-02 1.16755349e-04]\n",
      "0\n",
      "[9.91924533e-01 7.25022865e-03 8.25238238e-04]\n",
      "0\n",
      "[0.01179491 0.02697394 0.96123115]\n",
      "2\n",
      "[0.65587033 0.32978169 0.01434799]\n",
      "0\n",
      "[0.71404761 0.26942908 0.01652331]\n",
      "0\n",
      "[0.95268181 0.03356961 0.01374858]\n",
      "0\n",
      "[0.00489067 0.02046179 0.97464754]\n",
      "2\n",
      "[5.30830341e-04 3.95050227e-03 9.95518667e-01]\n",
      "2\n",
      "[0.3681387  0.05376182 0.57809948]\n",
      "2\n",
      "[1.27176877e-04 4.81700661e-03 9.95055817e-01]\n",
      "2\n",
      "[8.81132136e-01 1.18398026e-01 4.69837169e-04]\n",
      "0\n",
      "[6.73716367e-04 1.53219558e-03 9.97794088e-01]\n",
      "2\n",
      "[9.20338115e-01 7.95129363e-02 1.48949127e-04]\n",
      "0\n",
      "[0.00489067 0.02046179 0.97464754]\n",
      "2\n",
      "[0.3933692 0.0034227 0.6032081]\n",
      "2\n",
      "[0.88215951 0.10171967 0.01612082]\n",
      "0\n",
      "[0.00140178 0.00861361 0.98998461]\n",
      "2\n",
      "[0.00350149 0.0104245  0.98607401]\n",
      "2\n",
      "[0.03506398 0.09547603 0.86945999]\n",
      "2\n",
      "[0.14202576 0.26924445 0.5887298 ]\n",
      "2\n",
      "[5.39481313e-06 1.38920796e-03 9.98605397e-01]\n",
      "2\n",
      "[0.06133194 0.01382364 0.92484441]\n",
      "2\n",
      "[3.98356526e-05 1.01907160e-02 9.89769448e-01]\n",
      "2\n",
      "[0.00374469 0.05126859 0.94498671]\n",
      "2\n",
      "[1.89802713e-04 1.17399642e-03 9.98636201e-01]\n",
      "2\n",
      "[9.93249220e-01 6.74499427e-03 5.78583460e-06]\n",
      "0\n",
      "[9.94933613e-01 4.85632854e-03 2.10058678e-04]\n",
      "0\n",
      "[1.49617673e-04 3.02835457e-03 9.96822028e-01]\n",
      "2\n",
      "[9.96767746e-01 3.21714694e-03 1.51073292e-05]\n",
      "0\n",
      "[0.00155866 0.02736906 0.97107227]\n",
      "2\n",
      "[0.60811494 0.17471918 0.21716588]\n",
      "0\n",
      "[0.00578258 0.01292862 0.98128879]\n",
      "2\n",
      "[0.96706596 0.03149448 0.00143957]\n",
      "0\n",
      "[1.89802713e-04 1.17399642e-03 9.98636201e-01]\n",
      "2\n",
      "[0.96464   0.0311748 0.0041852]\n",
      "0\n",
      "[0.00412554 0.00656353 0.98931093]\n",
      "2\n",
      "[0.06160819 0.01170467 0.92668714]\n",
      "2\n",
      "[9.76684358e-01 2.29342200e-02 3.81421735e-04]\n",
      "0\n",
      "[0.93252452 0.01526894 0.05220654]\n",
      "0\n",
      "[1.74276484e-04 1.15354409e-03 9.98672179e-01]\n",
      "2\n",
      "[0.00546869 0.01437636 0.98015495]\n",
      "2\n",
      "[0.18770487 0.0155555  0.79673963]\n",
      "2\n",
      "[9.78674110e-01 2.06697090e-02 6.56181101e-04]\n",
      "0\n",
      "[0.97057374 0.02801743 0.00140883]\n",
      "0\n",
      "[0.35920665 0.02321028 0.61758308]\n",
      "2\n",
      "[8.94750161e-04 6.22650480e-03 9.92878745e-01]\n",
      "2\n",
      "[0.93056673 0.04948498 0.01994829]\n",
      "0\n",
      "[0.04031549 0.05564324 0.90404128]\n",
      "2\n",
      "[0.00374469 0.05126859 0.94498671]\n",
      "2\n",
      "[0.04800259 0.03540461 0.9165928 ]\n",
      "2\n",
      "[0.79619297 0.03348205 0.17032499]\n",
      "0\n",
      "[0.72911845 0.26926355 0.001618  ]\n",
      "0\n",
      "[0.77680438 0.20872524 0.01447038]\n",
      "0\n",
      "[9.91145428e-01 8.79205424e-03 6.25180953e-05]\n",
      "0\n",
      "[0.26332802 0.60298056 0.13369142]\n",
      "1\n",
      "[9.60168877e-01 3.94268042e-02 4.04318966e-04]\n",
      "0\n",
      "[0.01853785 0.02664874 0.95481341]\n",
      "2\n",
      "[0.00184879 0.01734801 0.98080321]\n",
      "2\n",
      "[0.00595051 0.03590074 0.95814875]\n",
      "2\n",
      "[1.18762764e-04 3.41597143e-02 9.65721523e-01]\n",
      "2\n",
      "[0.84544675 0.07097492 0.08357833]\n",
      "0\n",
      "[0.08192048 0.10807406 0.81000545]\n",
      "2\n",
      "[0.96464   0.0311748 0.0041852]\n",
      "0\n",
      "[0.01513844 0.01057966 0.9742819 ]\n",
      "2\n",
      "[0.00322724 0.01680149 0.97997127]\n",
      "2\n",
      "[9.98469786e-01 1.51969753e-03 1.05166508e-05]\n",
      "0\n",
      "[2.20828789e-04 4.46674979e-04 9.99332496e-01]\n",
      "2\n",
      "[9.83946765e-01 1.60366176e-02 1.66178108e-05]\n",
      "0\n",
      "[0.0017838  0.00334959 0.99486661]\n",
      "2\n",
      "[0.96613031 0.03173548 0.00213421]\n",
      "0\n",
      "[9.96596251e-01 3.27192297e-03 1.31826263e-04]\n",
      "0\n",
      "[9.80597074e-01 1.93808243e-02 2.21013452e-05]\n",
      "0\n",
      "[0.05227264 0.0220473  0.92568006]\n",
      "2\n",
      "[0.93514218 0.0502991  0.01455873]\n",
      "0\n",
      "[0.55762147 0.2511031  0.19127543]\n",
      "0\n",
      "[0.67202606 0.02194928 0.30602466]\n",
      "0\n",
      "[0.0044582  0.00405604 0.99148576]\n",
      "2\n",
      "[2.04746631e-04 7.24213992e-04 9.99071039e-01]\n",
      "2\n",
      "[0.98209331 0.01503868 0.002868  ]\n",
      "0\n",
      "[0.02048307 0.01633232 0.96318461]\n",
      "2\n",
      "[5.30830341e-04 3.95050227e-03 9.95518667e-01]\n",
      "2\n",
      "[9.96126288e-01 3.86833025e-03 5.38142012e-06]\n",
      "0\n",
      "[0.28752911 0.07892608 0.63354481]\n",
      "2\n",
      "[0.93252452 0.01526894 0.05220654]\n",
      "0\n",
      "[0.9596927  0.02758478 0.01272253]\n",
      "0\n",
      "[9.96126288e-01 3.86833025e-03 5.38142012e-06]\n",
      "0\n",
      "[0.0016511  0.00542168 0.99292723]\n",
      "2\n",
      "[2.99410224e-05 4.63543408e-03 9.95334625e-01]\n",
      "2\n",
      "[2.17155307e-05 3.94929457e-04 9.99583355e-01]\n",
      "2\n",
      "[0.00184879 0.01734801 0.98080321]\n",
      "2\n",
      "[2.11887449e-04 3.25466292e-03 9.96533450e-01]\n",
      "2\n",
      "[0.00455984 0.01801536 0.9774248 ]\n",
      "2\n",
      "[0.00467724 0.0773403  0.91798246]\n",
      "2\n",
      "[0.00226177 0.03311599 0.96462224]\n",
      "2\n",
      "[0.004185   0.00791662 0.98789838]\n",
      "2\n",
      "[0.95966826 0.03444828 0.00588346]\n",
      "0\n",
      "[0.11762231 0.03868104 0.84369666]\n",
      "2\n",
      "[6.27770192e-06 5.28643782e-04 9.99465079e-01]\n",
      "2\n",
      "[4.59001702e-06 2.21182323e-03 9.97783587e-01]\n",
      "2\n",
      "[0.8456088  0.13908506 0.01530614]\n",
      "0\n",
      "[9.77425912e-01 2.19994122e-02 5.74675645e-04]\n",
      "0\n",
      "[0.94794718 0.05067344 0.00137938]\n",
      "0\n",
      "[1.99439817e-04 6.67028936e-03 9.93130271e-01]\n",
      "2\n",
      "[0.00140178 0.00861361 0.98998461]\n",
      "2\n",
      "[9.91145428e-01 8.79205424e-03 6.25180953e-05]\n",
      "0\n",
      "[0.00442591 0.03543402 0.96014007]\n",
      "2\n",
      "[0.10730188 0.00698358 0.88571454]\n",
      "2\n",
      "[0.92626606 0.07249829 0.00123565]\n",
      "0\n",
      "[0.74243885 0.17456291 0.08299823]\n",
      "0\n",
      "[0.9181093 0.0387581 0.0431326]\n",
      "0\n",
      "[9.93978880e-01 6.00342843e-03 1.76919388e-05]\n",
      "0\n",
      "[0.02151149 0.03996686 0.93852166]\n",
      "2\n",
      "[0.32260973 0.3874042  0.28998608]\n",
      "1\n",
      "[4.16643421e-04 1.01466009e-02 9.89436756e-01]\n",
      "2\n",
      "[0.83386262 0.16456169 0.00157569]\n",
      "0\n",
      "[0.02016548 0.01657721 0.96325731]\n",
      "2\n",
      "[0.0044582  0.00405604 0.99148576]\n",
      "2\n",
      "[0.62660603 0.03829782 0.33509615]\n",
      "0\n",
      "[0.02599346 0.07184176 0.90216479]\n",
      "2\n",
      "[0.11823397 0.13773204 0.74403399]\n",
      "2\n",
      "[9.81654821e-01 1.83213812e-02 2.37980419e-05]\n",
      "0\n",
      "[0.63706127 0.30150451 0.06143421]\n",
      "0\n",
      "[0.65471545 0.2959645  0.04932005]\n",
      "0\n",
      "[1.61513049e-04 1.86946454e-03 9.97969022e-01]\n",
      "2\n",
      "[1.64104743e-04 1.07084028e-02 9.89127492e-01]\n",
      "2\n",
      "[0.00448028 0.0327789  0.96274083]\n",
      "2\n",
      "[6.94260411e-01 3.05270821e-01 4.68768664e-04]\n",
      "0\n",
      "[0.85042531 0.04348051 0.10609419]\n",
      "0\n",
      "[0.04124028 0.05972226 0.89903746]\n",
      "2\n",
      "[1.84202443e-04 1.07731424e-02 9.89042655e-01]\n",
      "2\n",
      "[0.44694886 0.54369442 0.00935673]\n",
      "1\n",
      "[0.59493772 0.11722783 0.28783445]\n",
      "0\n",
      "[0.79783227 0.11712362 0.08504412]\n",
      "0\n",
      "[0.08192048 0.10807406 0.81000545]\n",
      "2\n",
      "[2.42849704e-05 7.02654314e-04 9.99273061e-01]\n",
      "2\n",
      "[9.87445042e-01 1.25482033e-02 6.75499873e-06]\n",
      "0\n",
      "[0.0065027  0.02243513 0.97106218]\n",
      "2\n",
      "[3.93718230e-03 9.76469730e-04 9.95086348e-01]\n",
      "2\n",
      "[0.01131356 0.0216565  0.96702995]\n",
      "2\n",
      "[9.76198993e-01 2.32673985e-02 5.33608811e-04]\n",
      "0\n",
      "[0.01179491 0.02697394 0.96123115]\n",
      "2\n",
      "[0.14781826 0.01485515 0.83732659]\n",
      "2\n",
      "[0.92561783 0.0729335  0.00144867]\n",
      "0\n",
      "[9.87459801e-01 1.19261832e-02 6.14016099e-04]\n",
      "0\n"
     ]
    },
    {
     "name": "stdout",
     "output_type": "stream",
     "text": [
      "[0.33705783 0.03808505 0.62485712]\n",
      "2\n",
      "[9.52784121e-01 4.70728707e-02 1.43007818e-04]\n",
      "0\n",
      "[0.28848688 0.13786311 0.57365001]\n",
      "2\n",
      "[0.85460143 0.08007297 0.0653256 ]\n",
      "0\n",
      "[0.00487494 0.01429853 0.98082653]\n",
      "2\n",
      "[9.51613577e-01 4.83044662e-02 8.19566337e-05]\n",
      "0\n",
      "[9.77904989e-01 2.16842377e-02 4.10773268e-04]\n",
      "0\n",
      "[0.18550246 0.02159506 0.79290247]\n",
      "2\n",
      "[0.97959216 0.01840096 0.00200688]\n",
      "0\n",
      "[0.22503582 0.01154849 0.76341569]\n",
      "2\n",
      "[0.75935902 0.06328027 0.17736071]\n",
      "0\n",
      "[-1, 1, 1, -1, 1, 1, 1, 1, 1, 1, -1, 1, -1, 1, 1, 1, -1, 1, 1, -1, -1, -1, -1, -1, 1, -1, 1, -1, 1, 1, -1, 1, -1, 1, -1, -1, 1, 1, 1, 1, -1, 1, -1, 0, -1, 1, 1, 1, -1, 1, 1, 1, -1, 1, -1, 1, 1, 1, 1, 1, -1, -1, -1, -1, 1, -1, -1, -1, 1, -1, -1, -1, 0, -1, -1, -1, -1, 1, 1, 1, 1, 1, 1, 1, 1, 1, 1, 1, 1, 1, -1, 1, -1, -1, 1, -1, 1, -1, -1, -1, 1, 1, 1, -1, -1, -1, 1, -1, -1, -1, -1, -1, 1, 1, -1, -1, 1, 1, -1, 1, 1, 1, -1, -1, -1, -1, 1, -1, 1, -1, -1, 1, -1, -1, -1, -1, -1, -1, -1, -1, -1, 1, 1, -1, 1, -1, 1, -1, 1, -1, 1, -1, -1, 1, 1, -1, -1, -1, 1, 1, -1, -1, 1, -1, -1, -1, 1, 1, 1, 1, 0, 1, -1, -1, -1, -1, 1, -1, 1, -1, -1, 1, -1, 1, -1, 1, 1, 1, -1, 1, 1, 1, -1, -1, 1, -1, -1, 1, -1, 1, 1, 1, -1, -1, -1, -1, -1, -1, -1, -1, -1, 1, -1, -1, -1, 1, 1, 1, -1, -1, 1, -1, -1, 1, 1, 1, 1, -1, 0, -1, 1, -1, -1, 1, -1, -1, 1, 1, 1, -1, -1, -1, 1, 1, -1, -1, 0, 1, 1, -1, -1, 1, -1, -1, -1, 1, -1, -1, 1, 1, -1, 1, -1, 1, -1, 1, 1, -1, 1, -1, 1]\n"
     ]
    }
   ],
   "source": [
    "y_mat = []\n",
    "classification = []\n",
    "probs=([])\n",
    "X_test = np.array(test_x, dtype = np.float64) #Used to test the classification on test data\n",
    "X_val = np.array(val_x, dtype = np.float64)\n",
    "\n",
    "for o in range(len(val_x)): #len(val_x)):#len(test_x))::\n",
    "    y_mat.append(np.dot(thetas1,X_val[o]))  #Could have used X2 or X3, they're the same as X\n",
    "    y_mat.append(np.dot(thetas2,X_val[o]))\n",
    "    y_mat.append(np.dot(thetas3,X_val[o]))\n",
    "    \n",
    "    probs = f(y_mat)\n",
    "    print(probs)\n",
    "    maxPos = np.argmax(probs)\n",
    "    print(maxPos)\n",
    "    \n",
    "    if maxPos == 0:\n",
    "        classification.append(1)\n",
    "    elif maxPos == 1:\n",
    "        classification.append(0)\n",
    "    elif maxPos == 2:    \n",
    "        classification.append(-1)\n",
    "    \n",
    "    y_mat = []\n",
    "\n",
    "print(classification)    "
   ]
  },
  {
   "cell_type": "code",
   "execution_count": 417,
   "metadata": {},
   "outputs": [
    {
     "name": "stdout",
     "output_type": "stream",
     "text": [
      "1171     1\n",
      "744     -1\n",
      "1012     0\n",
      "516      1\n",
      "1329     1\n",
      "        ..\n",
      "1282    -1\n",
      "977     -1\n",
      "922     -1\n",
      "358     -1\n",
      "278     -1\n",
      "Name: Class, Length: 271, dtype: object\n"
     ]
    }
   ],
   "source": [
    "#We Print Out The Data We Are Working With\n",
    "#print(train_y)\n",
    "print(test_y)\n",
    "#print(val_y)"
   ]
  },
  {
   "cell_type": "code",
   "execution_count": 418,
   "metadata": {},
   "outputs": [],
   "source": [
    "#Variables used in confusion matrix\n",
    "#Our Analysis of our data is done here \n",
    "\n",
    "\n",
    "true_count0 = 0\n",
    "true_count1 = 0\n",
    "true_count_neg1 = 0\n",
    "\n",
    "pred1_when0 = 0\n",
    "pred1_when_neg1 = 0\n",
    "\n",
    "pred0_when1 = 0\n",
    "pred0_when_neg1= 0\n",
    "\n",
    "pred_neg1_when0 = 0\n",
    "pred_neg1_when1 = 0\n",
    "\n",
    "#We Comment Out the data that we aren't using\n",
    "#train_yy = np.array(train_y,dtype = np.float64)\n",
    "#test_yy = np.array(test_y,dtype = np.float64)\n",
    "val_yy = np.array(val_y, dtype = np.float64) \n",
    "\n",
    "\n",
    "\n",
    "for d in range (len(val_yy)):#len(val_yy)):#len(test_yy)):\n",
    "    if classification[d] == 0 and val_yy[d] == 0: #train_yy[d] == 0: #test_yy[d]==0:  \n",
    "        true_count0 = true_count0+1\n",
    "    if classification[d] == 1 and  val_yy[d] == 1: #train_yy[d]==1: #test_yy[d]==1: \n",
    "        true_count1 = true_count1+1\n",
    "    if classification[d] == -1 and val_yy[d] == -1:#train_yy[d]==-1: #test_yy[d]==-1:    \n",
    "        true_count_neg1 = true_count_neg1+1   \n",
    "        \n",
    "    if classification[d] == 1 and  val_yy[d] == 0:#train_yy[d]==0: #test_yy[d]==0:    \n",
    "        pred1_when0 = pred1_when0+1\n",
    "    if classification[d] == 1 and  val_yy[d] == -1: #train_yy[d]==-1: #test_yy[d]==-1:  \n",
    "        pred1_when_neg1 = pred1_when_neg1+1 \n",
    "        \n",
    "    if classification[d] == 0 and  val_yy[d] == 1: #train_yy[d]==1: #test_yy[d]==1:  \n",
    "        pred0_when1 = pred0_when1+1\n",
    "    if classification[d] == 0 and  val_yy[d] == -1: #train_yy[d]==-1:#test_yy[d]==-1:  #    \n",
    "        pred0_when_neg1= pred0_when_neg1+1\n",
    "        \n",
    "    if classification[d] == -1 and  val_yy[d] == 0: #train_yy[d]==0: #test_yy[d]==0: \n",
    "        pred_neg1_when0 = pred_neg1_when0+1\n",
    "    if classification[d] == -1 and   val_yy[d] == 1: #train_yy[d]==1: #test_yy[d]==1:  \n",
    "         pred_neg1_when1 = pred_neg1_when1+1   \n",
    "\n"
   ]
  },
  {
   "cell_type": "markdown",
   "metadata": {},
   "source": [
    "## Printing Of Analysis, Correct Predictions, Accuracy,Error, Number of Predictions Of Each Class "
   ]
  },
  {
   "cell_type": "code",
   "execution_count": 422,
   "metadata": {},
   "outputs": [
    {
     "name": "stdout",
     "output_type": "stream",
     "text": [
      "True predictions for 0,1,-1\n",
      "0\n",
      "112\n",
      "120\n",
      "Total Correct Predictions Added Up  232\n",
      "\n",
      "False prediction 1 when value was 0 or -1\n",
      "4\n",
      "12\n",
      "False prediction 0 when value was 1 or -1\n",
      "1\n",
      "4\n",
      "\n",
      "False prediction -1 when value was 0 or 1\n",
      "3\n",
      "15\n",
      "\n",
      "Number of prediction data points: 271\n",
      "Overall accuracy:  85.60885608856088\n",
      "Total Misclassification Rate/Error:  14.39114391143912\n",
      "Error for logistic model 1:  [0.09715812]\n",
      "Error for logistic model 2:  [0.00102662]\n",
      "Error for logistic model 3:  [0.10284164]\n"
     ]
    }
   ],
   "source": [
    "print(\"True predictions for 0,1,-1\")            \n",
    "print(true_count0)\n",
    "print(true_count1)\n",
    "print(true_count_neg1)\n",
    "correct_predictions = true_count0+true_count1+true_count_neg1\n",
    "print(\"Total Correct Predictions Added Up \", correct_predictions)\n",
    "print()\n",
    "\n",
    "print(\"False prediction 1 when value was 0 or -1\")   \n",
    "print(pred1_when0)\n",
    "print(pred1_when_neg1)\n",
    "\n",
    "print(\"False prediction 0 when value was 1 or -1\") \n",
    "print(pred0_when1)\n",
    "print(pred0_when_neg1)\n",
    "print()\n",
    "\n",
    "print(\"False prediction -1 when value was 0 or 1\") \n",
    "print(pred_neg1_when0)\n",
    "print(pred_neg1_when1)\n",
    "print()\n",
    "\n",
    "#Comment Out Data you're not using\n",
    "#train_yy = np.array(train_y, dtype = np.float64)  \n",
    "#test_yy = np.array(test_y, dtype = np.float64) \n",
    "val_yy = np.array(val_y, dtype = np.float64) \n",
    "\n",
    "#Comment Out Data you're not using\n",
    "#print(\"Number of prediction data points:\",len(train_y))\n",
    "#print(\"Number of prediction data points:\",len(test_y))\n",
    "print(\"Number of prediction data points:\", len(val_y))\n",
    "\n",
    "#accuracy = correct_predictions/len(train_y)\n",
    "#accuracy = correct_predictions/len(test_y)\n",
    "accuracy = correct_predictions/len(val_y)\n",
    "\n",
    "print(\"Overall accuracy: \", accuracy*100)\n",
    "print(\"Total Misclassification Rate/Error: \", (1-accuracy)*100)\n",
    "\n",
    "print(\"Error for logistic model 1: \", error1[-1])\n",
    "print(\"Error for logistic model 2: \",error2[-1])\n",
    "print(\"Error for logistic model 3: \", error3[-1])"
   ]
  },
  {
   "cell_type": "markdown",
   "metadata": {},
   "source": [
    "## Confusion Matrix"
   ]
  },
  {
   "cell_type": "code",
   "execution_count": 423,
   "metadata": {},
   "outputs": [
    {
     "name": "stdout",
     "output_type": "stream",
     "text": [
      "\t \t Predicted\n",
      "\t \t 0  \t  1 \t -1\n",
      "actual 0 \t 0 \t 4 \t 3\n",
      "actual 1 \t 1 \t 112 \t 15\n",
      "actual -1 \t 4 \t 12 \t 120\n"
     ]
    }
   ],
   "source": [
    "print(\"\\t \\t Predicted\")\n",
    "print(\"\\t \\t\", \"0 \",\"\\t\",\" 1\",\"\\t\", \"-1\")\n",
    "print(\"actual 0 \\t\",true_count0,\"\\t\", pred1_when0,\"\\t\",pred_neg1_when0)\n",
    "print(\"actual 1 \\t\",pred0_when1,\"\\t\", true_count1,\"\\t\",pred_neg1_when1)\n",
    "print(\"actual -1 \\t\",pred0_when_neg1,\"\\t\", pred1_when_neg1,\"\\t\",true_count_neg1)"
   ]
  },
  {
   "cell_type": "markdown",
   "metadata": {},
   "source": []
  },
  {
   "cell_type": "code",
   "execution_count": null,
   "metadata": {},
   "outputs": [],
   "source": []
  },
  {
   "cell_type": "code",
   "execution_count": null,
   "metadata": {},
   "outputs": [],
   "source": []
  }
 ],
 "metadata": {
  "kernelspec": {
   "display_name": "Python 3",
   "language": "python",
   "name": "python3"
  },
  "language_info": {
   "codemirror_mode": {
    "name": "ipython",
    "version": 3
   },
   "file_extension": ".py",
   "mimetype": "text/x-python",
   "name": "python",
   "nbconvert_exporter": "python",
   "pygments_lexer": "ipython3",
   "version": "3.7.4"
  },
  "pycharm": {
   "stem_cell": {
    "cell_type": "raw",
    "metadata": {
     "collapsed": false
    },
    "source": []
   }
  }
 },
 "nbformat": 4,
 "nbformat_minor": 2
}
