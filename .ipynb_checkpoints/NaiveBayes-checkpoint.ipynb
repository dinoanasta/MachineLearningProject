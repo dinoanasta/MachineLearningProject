{
 "cells": [
  {
   "cell_type": "code",
   "execution_count": 1,
   "metadata": {},
   "outputs": [],
   "source": [
    "import numpy as np\n",
    "import pandas as pd\n",
    "\n",
    "from math import *\n",
    "\n",
    "import matplotlib.pyplot as plt\n",
    "\n",
    "from sklearn.model_selection import train_test_split"
   ]
  },
  {
   "cell_type": "markdown",
   "metadata": {},
   "source": [
    "# Attributes"
   ]
  },
  {
   "cell_type": "raw",
   "metadata": {},
   "source": [
    "SFH {1,-1,0}\n",
    "popUpWidnow {-1,0,1}\n",
    "SSLfinal_State {1,-1,0}\n",
    "Request_URL {-1,0,1}\n",
    "URL_of_Anchor {-1,0,1}\n",
    "web_traffic {1,0,-1}\n",
    "URL_Length {1,-1,0}\n",
    "age_of_domain {1,-1}\n",
    "having_IP_Address {0,1}\n",
    "Result {0,1,-1}"
   ]
  },
  {
   "cell_type": "markdown",
   "metadata": {},
   "source": [
    "## Create empty design matrix"
   ]
  },
  {
   "cell_type": "code",
   "execution_count": 2,
   "metadata": {},
   "outputs": [],
   "source": [
    "designMatrix = pd.DataFrame(columns = [\n",
    "    'SFH',\n",
    "    'PopUpWindow',\n",
    "    'SSL_Final_State',\n",
    "    'Request_URL',\n",
    "    'URL_of_Anchor',\n",
    "    'Web_Traffic',\n",
    "    'URL_Length',\n",
    "    'Age_Of_Domain',\n",
    "    'IP_Address',\n",
    "    'Class',\n",
    "] ) "
   ]
  },
  {
   "cell_type": "markdown",
   "metadata": {},
   "source": [
    "## Import data and populate designMatrix"
   ]
  },
  {
   "cell_type": "code",
   "execution_count": 3,
   "metadata": {},
   "outputs": [
    {
     "data": {
      "text/html": [
       "<div>\n",
       "<style scoped>\n",
       "    .dataframe tbody tr th:only-of-type {\n",
       "        vertical-align: middle;\n",
       "    }\n",
       "\n",
       "    .dataframe tbody tr th {\n",
       "        vertical-align: top;\n",
       "    }\n",
       "\n",
       "    .dataframe thead th {\n",
       "        text-align: right;\n",
       "    }\n",
       "</style>\n",
       "<table border=\"1\" class=\"dataframe\">\n",
       "  <thead>\n",
       "    <tr style=\"text-align: right;\">\n",
       "      <th></th>\n",
       "      <th>SFH</th>\n",
       "      <th>PopUpWindow</th>\n",
       "      <th>SSL_Final_State</th>\n",
       "      <th>Request_URL</th>\n",
       "      <th>URL_of_Anchor</th>\n",
       "      <th>Web_Traffic</th>\n",
       "      <th>URL_Length</th>\n",
       "      <th>Age_Of_Domain</th>\n",
       "      <th>IP_Address</th>\n",
       "      <th>Class</th>\n",
       "    </tr>\n",
       "  </thead>\n",
       "  <tbody>\n",
       "    <tr>\n",
       "      <th>0</th>\n",
       "      <td>1</td>\n",
       "      <td>-1</td>\n",
       "      <td>1</td>\n",
       "      <td>-1</td>\n",
       "      <td>-1</td>\n",
       "      <td>1</td>\n",
       "      <td>1</td>\n",
       "      <td>1</td>\n",
       "      <td>0</td>\n",
       "      <td>0</td>\n",
       "    </tr>\n",
       "    <tr>\n",
       "      <th>1</th>\n",
       "      <td>-1</td>\n",
       "      <td>-1</td>\n",
       "      <td>-1</td>\n",
       "      <td>-1</td>\n",
       "      <td>-1</td>\n",
       "      <td>0</td>\n",
       "      <td>1</td>\n",
       "      <td>1</td>\n",
       "      <td>1</td>\n",
       "      <td>1</td>\n",
       "    </tr>\n",
       "    <tr>\n",
       "      <th>2</th>\n",
       "      <td>1</td>\n",
       "      <td>-1</td>\n",
       "      <td>0</td>\n",
       "      <td>0</td>\n",
       "      <td>-1</td>\n",
       "      <td>0</td>\n",
       "      <td>-1</td>\n",
       "      <td>1</td>\n",
       "      <td>0</td>\n",
       "      <td>1</td>\n",
       "    </tr>\n",
       "    <tr>\n",
       "      <th>3</th>\n",
       "      <td>1</td>\n",
       "      <td>0</td>\n",
       "      <td>1</td>\n",
       "      <td>-1</td>\n",
       "      <td>-1</td>\n",
       "      <td>0</td>\n",
       "      <td>1</td>\n",
       "      <td>1</td>\n",
       "      <td>0</td>\n",
       "      <td>0</td>\n",
       "    </tr>\n",
       "    <tr>\n",
       "      <th>4</th>\n",
       "      <td>-1</td>\n",
       "      <td>-1</td>\n",
       "      <td>1</td>\n",
       "      <td>-1</td>\n",
       "      <td>0</td>\n",
       "      <td>0</td>\n",
       "      <td>-1</td>\n",
       "      <td>1</td>\n",
       "      <td>0</td>\n",
       "      <td>1</td>\n",
       "    </tr>\n",
       "    <tr>\n",
       "      <th>...</th>\n",
       "      <td>...</td>\n",
       "      <td>...</td>\n",
       "      <td>...</td>\n",
       "      <td>...</td>\n",
       "      <td>...</td>\n",
       "      <td>...</td>\n",
       "      <td>...</td>\n",
       "      <td>...</td>\n",
       "      <td>...</td>\n",
       "      <td>...</td>\n",
       "    </tr>\n",
       "    <tr>\n",
       "      <th>1348</th>\n",
       "      <td>-1</td>\n",
       "      <td>-1</td>\n",
       "      <td>-1</td>\n",
       "      <td>-1</td>\n",
       "      <td>-1</td>\n",
       "      <td>-1</td>\n",
       "      <td>0</td>\n",
       "      <td>1</td>\n",
       "      <td>0</td>\n",
       "      <td>1</td>\n",
       "    </tr>\n",
       "    <tr>\n",
       "      <th>1349</th>\n",
       "      <td>-1</td>\n",
       "      <td>0</td>\n",
       "      <td>1</td>\n",
       "      <td>0</td>\n",
       "      <td>-1</td>\n",
       "      <td>0</td>\n",
       "      <td>0</td>\n",
       "      <td>1</td>\n",
       "      <td>0</td>\n",
       "      <td>-1</td>\n",
       "    </tr>\n",
       "    <tr>\n",
       "      <th>1350</th>\n",
       "      <td>-1</td>\n",
       "      <td>0</td>\n",
       "      <td>-1</td>\n",
       "      <td>-1</td>\n",
       "      <td>-1</td>\n",
       "      <td>0</td>\n",
       "      <td>-1</td>\n",
       "      <td>-1</td>\n",
       "      <td>0</td>\n",
       "      <td>1</td>\n",
       "    </tr>\n",
       "    <tr>\n",
       "      <th>1351</th>\n",
       "      <td>0</td>\n",
       "      <td>0</td>\n",
       "      <td>1</td>\n",
       "      <td>0</td>\n",
       "      <td>0</td>\n",
       "      <td>0</td>\n",
       "      <td>-1</td>\n",
       "      <td>1</td>\n",
       "      <td>0</td>\n",
       "      <td>1</td>\n",
       "    </tr>\n",
       "    <tr>\n",
       "      <th>1352</th>\n",
       "      <td>1</td>\n",
       "      <td>0</td>\n",
       "      <td>1</td>\n",
       "      <td>1</td>\n",
       "      <td>1</td>\n",
       "      <td>0</td>\n",
       "      <td>-1</td>\n",
       "      <td>-1</td>\n",
       "      <td>0</td>\n",
       "      <td>-1</td>\n",
       "    </tr>\n",
       "  </tbody>\n",
       "</table>\n",
       "<p>1353 rows × 10 columns</p>\n",
       "</div>"
      ],
      "text/plain": [
       "     SFH PopUpWindow SSL_Final_State Request_URL URL_of_Anchor Web_Traffic  \\\n",
       "0      1          -1               1          -1            -1           1   \n",
       "1     -1          -1              -1          -1            -1           0   \n",
       "2      1          -1               0           0            -1           0   \n",
       "3      1           0               1          -1            -1           0   \n",
       "4     -1          -1               1          -1             0           0   \n",
       "...   ..         ...             ...         ...           ...         ...   \n",
       "1348  -1          -1              -1          -1            -1          -1   \n",
       "1349  -1           0               1           0            -1           0   \n",
       "1350  -1           0              -1          -1            -1           0   \n",
       "1351   0           0               1           0             0           0   \n",
       "1352   1           0               1           1             1           0   \n",
       "\n",
       "     URL_Length Age_Of_Domain IP_Address Class  \n",
       "0             1             1          0     0  \n",
       "1             1             1          1     1  \n",
       "2            -1             1          0     1  \n",
       "3             1             1          0     0  \n",
       "4            -1             1          0     1  \n",
       "...         ...           ...        ...   ...  \n",
       "1348          0             1          0     1  \n",
       "1349          0             1          0    -1  \n",
       "1350         -1            -1          0     1  \n",
       "1351         -1             1          0     1  \n",
       "1352         -1            -1          0    -1  \n",
       "\n",
       "[1353 rows x 10 columns]"
      ]
     },
     "execution_count": 3,
     "metadata": {},
     "output_type": "execute_result"
    }
   ],
   "source": [
    "lineNum = 0\n",
    "\n",
    "for line in open(\"Files/data.txt\", \"r\"):\n",
    "    lineSplit = line.strip().split(\",\")\n",
    "    designMatrix.loc[lineNum] = lineSplit   \n",
    "    lineNum+=1\n",
    "    \n",
    "designMatrix"
   ]
  },
  {
   "cell_type": "markdown",
   "metadata": {},
   "source": [
    "## Split into training, validation and testing data¶"
   ]
  },
  {
   "cell_type": "code",
   "execution_count": 4,
   "metadata": {},
   "outputs": [],
   "source": [
    "trainData, testData = train_test_split(designMatrix, test_size = 0.4)\n",
    "\n",
    "testData, valData = train_test_split(testData, test_size = 0.5)"
   ]
  },
  {
   "cell_type": "code",
   "execution_count": 5,
   "metadata": {},
   "outputs": [
    {
     "name": "stdout",
     "output_type": "stream",
     "text": [
      "trainData size: 811\n",
      "valData size: 271\n",
      "testData size: 271\n"
     ]
    }
   ],
   "source": [
    "print(\"trainData size: \" + str(len(trainData)))\n",
    "print(\"valData size: \" + str(len(valData)))\n",
    "print(\"testData size: \" + str(len(testData)))"
   ]
  },
  {
   "cell_type": "markdown",
   "metadata": {},
   "source": [
    "## Splitting the train,val and test data and converting them into their own lists"
   ]
  },
  {
   "cell_type": "code",
   "execution_count": 6,
   "metadata": {},
   "outputs": [
    {
     "name": "stdout",
     "output_type": "stream",
     "text": [
      "[[-1. -1.  0. ...  1.  0.  1.]\n",
      " [-1. -1.  0. ... -1.  0.  1.]\n",
      " [ 0. -1. -1. ... -1.  0.  1.]\n",
      " ...\n",
      " [ 1.  0.  1. ...  1.  0. -1.]\n",
      " [-1. -1.  1. ...  1.  0. -1.]\n",
      " [ 1.  1.  1. ...  1.  1. -1.]]\n"
     ]
    }
   ],
   "source": [
    "tr= trainData[[ 'SFH',\n",
    "    'PopUpWindow',\n",
    "    'SSL_Final_State',\n",
    "    'Request_URL',\n",
    "    'URL_of_Anchor',\n",
    "    'Web_Traffic',\n",
    "    'URL_Length',\n",
    "    'Age_Of_Domain',\n",
    "    'IP_Address','Class',]]\n",
    "train = np.array(tr,  dtype = np.float64)\n",
    "print(train)\n",
    "\n",
    "tst =  testData[[ 'SFH',\n",
    "    'PopUpWindow',\n",
    "    'SSL_Final_State',\n",
    "    'Request_URL',\n",
    "    'URL_of_Anchor',\n",
    "    'Web_Traffic',\n",
    "    'URL_Length',\n",
    "    'Age_Of_Domain',\n",
    "    'IP_Address','Class',]]\n",
    "test = np.array(tst,  dtype = np.float64)\n",
    "\n",
    "vl =  valData[[ 'SFH',\n",
    "    'PopUpWindow',\n",
    "    'SSL_Final_State',\n",
    "    'Request_URL',\n",
    "    'URL_of_Anchor',\n",
    "    'Web_Traffic',\n",
    "    'URL_Length',\n",
    "    'Age_Of_Domain',\n",
    "    'IP_Address','Class',]]\n",
    "val = np.array(vl,  dtype = np.float64)"
   ]
  },
  {
   "cell_type": "markdown",
   "metadata": {},
   "source": [
    "## We now divide our data according to classes and attributes"
   ]
  },
  {
   "cell_type": "code",
   "execution_count": 7,
   "metadata": {},
   "outputs": [],
   "source": [
    "def class_divide():\n",
    "    \n",
    "    class1 = ([])\n",
    "    class2 = ([])\n",
    "    class3 = ([])\n",
    "    \n",
    "    for x in range(len(train)):\n",
    "        row_data = train[x]\n",
    "        #print(row_data)\n",
    "        class_val = row_data[-1]\n",
    "    \n",
    "        if class_val == 0.0:\n",
    "            class1=np.append(class1,row_data)\n",
    "        elif class_val == 1.0:\n",
    "            class2=np.append(class2,row_data)\n",
    "        elif class_val == -1.0:\n",
    "            class3=np.append(class3,row_data) \n",
    "\n",
    "    print(len(class1))\n",
    "    class1 = np.reshape(class1,(int (len(class1)/10),10))\n",
    "    #print(class1)\n",
    "    #print(class1.shape)\n",
    "\n",
    "    print(len(class2))\n",
    "    class2 = np.reshape(class2,(int (len(class2)/10),10))\n",
    "    #print(class2)\n",
    "    #print(class2.shape)\n",
    "\n",
    "    print(len(class3))\n",
    "    class3 = np.reshape(class3,(int (len(class3)/10),10))\n",
    "    #print(class3)\n",
    "    #print(class3.shape)\n",
    "    \n",
    "    return class1,class2,class3"
   ]
  },
  {
   "cell_type": "code",
   "execution_count": 8,
   "metadata": {},
   "outputs": [
    {
     "name": "stdout",
     "output_type": "stream",
     "text": [
      "620\n",
      "3150\n",
      "4340\n",
      "Class 0 with shape  (62, 10)\n",
      "[[ 1.  0. -1. -1.  1.  0.  1.  1.  0.  0.]\n",
      " [ 1. -1.  1. -1. -1.  1.  1. -1.  0.  0.]\n",
      " [ 1.  0.  1. -1. -1.  0.  1.  1.  0.  0.]\n",
      " [-1.  0.  0. -1. -1. -1. -1.  1.  0.  0.]\n",
      " [ 1.  1.  1. -1. -1. -1.  1.  1.  1.  0.]\n",
      " [ 1.  1.  1. -1. -1.  1.  1. -1.  1.  0.]\n",
      " [-1.  0.  1. -1. -1. -1.  1.  1.  0.  0.]\n",
      " [ 1.  0.  1. -1. -1.  0.  1.  1.  0.  0.]\n",
      " [ 1. -1.  1. -1. -1. -1.  1.  1.  0.  0.]\n",
      " [ 1. -1.  1. -1.  0.  1. -1.  1.  0.  0.]\n",
      " [-1.  1.  1. -1.  1. -1.  0.  1.  0.  0.]\n",
      " [-1. -1.  0. -1. -1. -1. -1.  1.  0.  0.]\n",
      " [-1. -1.  1. -1. -1. -1.  1.  1.  0.  0.]\n",
      " [ 1.  1.  1. -1. -1. -1.  1.  1.  0.  0.]\n",
      " [-1. -1.  0. -1. -1. -1. -1.  1.  0.  0.]\n",
      " [-1.  0.  0. -1. -1. -1.  0.  1.  0.  0.]\n",
      " [ 1. -1.  1. -1.  0.  1. -1. -1.  0.  0.]\n",
      " [-1. -1.  1. -1. -1.  1.  1.  1.  0.  0.]\n",
      " [-1.  1.  1. -1.  1. -1.  0.  1.  0.  0.]\n",
      " [-1. -1.  1. -1.  1.  0. -1.  1.  0.  0.]\n",
      " [-1. -1.  1. -1.  1.  1.  0.  1.  0.  0.]\n",
      " [ 1.  0.  1. -1. -1.  0.  1.  1.  0.  0.]\n",
      " [ 0.  0.  0.  0.  0.  1.  0. -1.  0.  0.]\n",
      " [ 1. -1.  1. -1. -1.  1.  1.  1.  0.  0.]\n",
      " [ 1.  0.  1. -1. -1. -1.  1.  1.  0.  0.]\n",
      " [ 1. -1.  1. -1. -1.  1.  1. -1.  0.  0.]\n",
      " [-1. -1.  1. -1.  1.  1.  1. -1.  0.  0.]\n",
      " [ 1.  0.  1. -1. -1. -1.  1.  1.  1.  0.]\n",
      " [-1. -1.  0.  0. -1. -1. -1.  1.  0.  0.]\n",
      " [ 1.  0. -1. -1.  1. -1.  1.  1.  0.  0.]\n",
      " [ 0. -1.  0.  0.  0. -1.  0.  1.  0.  0.]\n",
      " [-1. -1.  1. -1.  1.  0. -1. -1.  0.  0.]\n",
      " [ 1.  0.  1. -1. -1.  0.  1.  1.  1.  0.]\n",
      " [-1. -1.  1. -1. -1. -1.  1.  1.  0.  0.]\n",
      " [ 0. -1.  0.  0.  0.  1. -1. -1.  0.  0.]\n",
      " [ 1.  0. -1. -1.  1. -1.  1.  1.  0.  0.]\n",
      " [-1. -1.  1. -1. -1. -1.  1.  1.  0.  0.]\n",
      " [ 0. -1.  0.  0.  0. -1.  0.  1.  0.  0.]\n",
      " [ 1.  1. -1. -1.  1.  1.  1. -1.  0.  0.]\n",
      " [-1. -1.  0. -1. -1. -1.  1.  1.  0.  0.]\n",
      " [ 0.  0.  0.  0.  0.  0.  0.  1.  0.  0.]\n",
      " [-1. -1.  0. -1. -1. -1.  0.  1.  0.  0.]\n",
      " [-1. -1.  1. -1.  1.  1.  0. -1.  0.  0.]\n",
      " [ 1.  1.  1. -1. -1. -1.  1.  1.  1.  0.]\n",
      " [ 1.  1. -1. -1.  1.  1.  1.  1.  0.  0.]\n",
      " [-1.  0.  0.  0. -1. -1. -1.  1.  0.  0.]\n",
      " [-1. -1.  1. -1. -1.  1.  1.  1.  0.  0.]\n",
      " [-1.  1.  1. -1.  1. -1.  0.  1.  1.  0.]\n",
      " [-1. -1.  1. -1.  1.  1.  0.  1.  0.  0.]\n",
      " [-1. -1.  1. -1.  1.  1.  1.  1.  0.  0.]\n",
      " [ 1.  0.  1. -1. -1.  0.  1.  1.  0.  0.]\n",
      " [-1.  0.  0.  0. -1. -1. -1.  1.  0.  0.]\n",
      " [-1. -1.  1. -1.  1.  0.  0. -1.  0.  0.]\n",
      " [ 1.  1. -1. -1.  1. -1.  1.  1.  0.  0.]\n",
      " [-1.  0.  0. -1. -1. -1. -1.  1.  0.  0.]\n",
      " [ 1.  0. -1. -1.  1.  1.  1. -1.  0.  0.]\n",
      " [ 0.  0.  0.  0.  0. -1.  1.  1.  1.  0.]\n",
      " [-1. -1.  1. -1. -1. -1.  1.  1.  0.  0.]\n",
      " [-1. -1. -1. -1. -1.  1.  1. -1.  1.  0.]\n",
      " [ 1. -1.  1. -1.  0.  1. -1. -1.  0.  0.]\n",
      " [-1.  0.  0. -1. -1. -1.  0.  1.  0.  0.]\n",
      " [ 1.  0.  1. -1. -1.  1.  1. -1.  0.  0.]]\n",
      "Class 1 with shape  (315, 10)\n",
      "[[-1. -1.  0. ...  1.  0.  1.]\n",
      " [-1. -1.  0. ... -1.  0.  1.]\n",
      " [ 0. -1. -1. ... -1.  0.  1.]\n",
      " ...\n",
      " [ 0. -1.  0. ... -1.  0.  1.]\n",
      " [ 1. -1.  1. ...  1.  0.  1.]\n",
      " [ 0. -1. -1. ... -1.  0.  1.]]\n",
      "Class -1 with shape  (434, 10)\n",
      "[[ 1.  0.  1. ... -1.  1. -1.]\n",
      " [ 1.  0.  1. ...  1.  0. -1.]\n",
      " [ 1.  0.  0. ...  1.  0. -1.]\n",
      " ...\n",
      " [ 1.  0.  1. ...  1.  0. -1.]\n",
      " [-1. -1.  1. ...  1.  0. -1.]\n",
      " [ 1.  1.  1. ...  1.  1. -1.]]\n"
     ]
    }
   ],
   "source": [
    "#class1 = ([])\n",
    "#class2 = ([])\n",
    "#class3 = ([])\n",
    "\n",
    "class1,class2,class3 = class_divide()\n",
    "\n",
    "print(\"Class 0 with shape \", class1.shape)\n",
    "print(class1)\n",
    "print(\"Class 1 with shape \", class2.shape)\n",
    "print(class2)\n",
    "print(\"Class -1 with shape \", class3.shape)\n",
    "print(class3)"
   ]
  },
  {
   "cell_type": "markdown",
   "metadata": {},
   "source": [
    "## We get the mean of the columns for each class"
   ]
  },
  {
   "cell_type": "code",
   "execution_count": 9,
   "metadata": {},
   "outputs": [],
   "source": [
    "def mean(Class):\n",
    "    sum = 0\n",
    "    t_class= Class.T\n",
    "    #print(t_class)\n",
    "    #print(t_class.shape[1])\n",
    "    #print(len(t_class))\n",
    "\n",
    "    meanArr = ([])\n",
    "\n",
    "    for i in range (len(t_class)):\n",
    "        sum = np.sum(t_class[i])\n",
    "        mean = sum/t_class.shape[1]\n",
    "        meanArr = np.append(meanArr,mean)\n",
    "\n",
    "    #print(meanArr)    \n",
    "    return meanArr"
   ]
  },
  {
   "cell_type": "markdown",
   "metadata": {},
   "source": [
    "## We get the Standard Deviation of the columns for each class"
   ]
  },
  {
   "cell_type": "code",
   "execution_count": 10,
   "metadata": {},
   "outputs": [],
   "source": [
    "def std_dev(Class):\n",
    "    meanArr = mean(Class)\n",
    "    varianceArr = ([])\n",
    "    t_class= Class.T\n",
    "    sum=0\n",
    "    for i in range (t_class.shape[0]):\n",
    "        for j in range (t_class.shape[1]):\n",
    "            sum = sum + ((t_class[i][j]-meanArr[i])**2)\n",
    "        \n",
    "        varianceArr = np.append(varianceArr,(sum/t_class.shape[1]))\n",
    "        sum=0\n",
    "    return np.sqrt(varianceArr)   "
   ]
  },
  {
   "cell_type": "code",
   "execution_count": 11,
   "metadata": {},
   "outputs": [
    {
     "name": "stdout",
     "output_type": "stream",
     "text": [
      "class 1 mean\n",
      "[-0.06451613 -0.32258065  0.46774194 -0.85483871 -0.27419355 -0.16129032\n",
      "  0.35483871  0.51612903  0.12903226  0.        ]\n",
      "class 2 mean\n",
      "[-0.4984127  -0.63174603 -0.17142857 -0.46031746 -0.32698413  0.27936508\n",
      " -0.27301587 -0.13015873  0.09206349  1.        ]\n",
      "class 3 mean\n",
      "[ 0.84101382  0.06682028  0.69585253  0.0483871   0.2764977  -0.18202765\n",
      "  0.0483871   0.40092166  0.15207373 -1.        ]\n",
      "\n",
      "class 1 standard deviation\n",
      "[0.94818958 0.73559705 0.71205613 0.35226338 0.88298166 0.90149604\n",
      " 0.80516026 0.85651084 0.33523564 0.        ]\n",
      "class 2 standard deviation\n",
      "[0.71879354 0.48233078 0.80226437 0.64796132 0.8967678  0.72026422\n",
      " 0.70939419 0.99149317 0.28911556 0.        ]\n",
      "class 3 standard deviation\n",
      "[0.53887995 0.64232838 0.61818177 0.86932342 0.8835677  0.8126588\n",
      " 0.74361161 0.91611234 0.35909235 0.        ]\n",
      "class 1 count\n",
      "62\n",
      "class 2 count\n",
      "315\n",
      "class 3 count\n",
      "434\n"
     ]
    }
   ],
   "source": [
    "print(\"class 1 mean\")\n",
    "print(mean(class1))\n",
    "print(\"class 2 mean\")\n",
    "print(mean(class2))\n",
    "print(\"class 3 mean\")\n",
    "print(mean(class3))\n",
    "print()\n",
    "\n",
    "print(\"class 1 standard deviation\")\n",
    "print(std_dev(class1))\n",
    "print(\"class 2 standard deviation\")\n",
    "print(std_dev(class2))\n",
    "print(\"class 3 standard deviation\")\n",
    "print(std_dev(class3))\n",
    "\n",
    "print(\"class 1 count\")\n",
    "print(class1.shape[0])\n",
    "print(\"class 2 count\")\n",
    "print(class2.shape[0])\n",
    "print(\"class 3 count\")\n",
    "print(class3.shape[0])"
   ]
  },
  {
   "cell_type": "markdown",
   "metadata": {},
   "source": [
    "## We get the Gaussian Probability Density Function"
   ]
  },
  {
   "cell_type": "code",
   "execution_count": 12,
   "metadata": {},
   "outputs": [],
   "source": [
    "def calculate_probability(x, mean, stdev):\n",
    "    exponent = exp(-((x-mean)**2 / (2 * stdev**2 )))\n",
    "    return (1 / (sqrt(2 * pi) * stdev)) * exponent"
   ]
  },
  {
   "cell_type": "code",
   "execution_count": 13,
   "metadata": {},
   "outputs": [
    {
     "name": "stdout",
     "output_type": "stream",
     "text": [
      "0.3989422804014327\n"
     ]
    }
   ],
   "source": [
    "print(calculate_probability(1.0, 1.0, 1.0))"
   ]
  },
  {
   "cell_type": "code",
   "execution_count": 14,
   "metadata": {},
   "outputs": [],
   "source": [
    "def calculate_class_probabilities(class1,class2,class3, row):\n",
    "    total_rows = class1.shape[0]+class2.shape[0]+class3.shape[0]\n",
    "    probabilities = dict()\n",
    "    \n",
    "    #class 1\n",
    "    probabilities[0] = class1.shape[0]/total_rows\n",
    "    for i in range(9):\n",
    "        mean_class1=mean(class1)\n",
    "        std_class1=std_dev(class1)\n",
    "        probabilities[0] *= calculate_probability(row[i], mean_class1[i], std_class1[i])\n",
    "        \n",
    "    #class 2\n",
    "    probabilities[1] = class2.shape[0]/total_rows\n",
    "    for i in range(9):\n",
    "        mean_class2=mean(class2)\n",
    "        std_class2=std_dev(class2)\n",
    "        probabilities[1] *= calculate_probability(row[i], mean_class2[i], std_class2[i])\n",
    "    \n",
    "    #class 3\n",
    "    probabilities[2] = class3.shape[0]/total_rows\n",
    "    for i in range(9):\n",
    "        mean_class3=mean(class3)\n",
    "        std_class3=std_dev(class3)\n",
    "        probabilities[2] *= calculate_probability(row[i], mean_class3[i], std_class3[i])\n",
    "    return probabilities"
   ]
  },
  {
   "cell_type": "code",
   "execution_count": 15,
   "metadata": {},
   "outputs": [
    {
     "name": "stdout",
     "output_type": "stream",
     "text": [
      "0.24197072451914337\n"
     ]
    }
   ],
   "source": [
    "#testing..\n",
    "print(calculate_probability(0.0, 1.0, 1.0))\n"
   ]
  },
  {
   "cell_type": "code",
   "execution_count": 21,
   "metadata": {},
   "outputs": [
    {
     "name": "stdout",
     "output_type": "stream",
     "text": [
      "{0: 6.438356188707129e-06, 1: 2.58973236595042e-06, 2: 1.0169728922377085e-05}\n"
     ]
    }
   ],
   "source": [
    "#testing..\n",
    "\n",
    "probabilities = calculate_class_probabilities(class1,class2,class3,class1[0])\n",
    "print(probabilities)"
   ]
  },
  {
   "cell_type": "code",
   "execution_count": 22,
   "metadata": {},
   "outputs": [],
   "source": [
    "def predict(class1,class2,class3, row):\n",
    "    probabilities = calculate_class_probabilities(class1,class2,class3, row)\n",
    "    best_label, best_prob = None, -1\n",
    "    for class_value, probability in probabilities.items():\n",
    "        if best_label is None or probability > best_prob:\n",
    "            best_prob = probability\n",
    "            best_label = class_value\n",
    "    return best_label"
   ]
  },
  {
   "cell_type": "code",
   "execution_count": 23,
   "metadata": {},
   "outputs": [],
   "source": [
    "def naive_bayes(train, test):\n",
    "    summarize = class_divide(train)\n",
    "    predictions = list()\n",
    "    for row in test:\n",
    "        output = predict(summarize, row)\n",
    "        predictions.append(output)\n",
    "    return(predictions)"
   ]
  },
  {
   "cell_type": "code",
   "execution_count": null,
   "metadata": {},
   "outputs": [],
   "source": []
  }
 ],
 "metadata": {
  "kernelspec": {
   "display_name": "Python 3",
   "language": "python",
   "name": "python3"
  },
  "language_info": {
   "codemirror_mode": {
    "name": "ipython",
    "version": 3
   },
   "file_extension": ".py",
   "mimetype": "text/x-python",
   "name": "python",
   "nbconvert_exporter": "python",
   "pygments_lexer": "ipython3",
   "version": "3.7.6"
  }
 },
 "nbformat": 4,
 "nbformat_minor": 2
}
